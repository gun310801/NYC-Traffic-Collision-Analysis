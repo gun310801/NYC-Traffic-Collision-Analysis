{
 "cells": [
  {
   "cell_type": "code",
   "execution_count": 0,
   "metadata": {
    "application/vnd.databricks.v1+cell": {
     "cellMetadata": {
      "byteLimit": 2048000,
      "rowLimit": 10000
     },
     "inputWidgets": {},
     "nuid": "360a442f-68ab-484c-942d-78b851616bf2",
     "showTitle": false,
     "title": ""
    }
   },
   "outputs": [],
   "source": [
    "from pyspark.sql import SparkSession\n",
    "from pyspark.sql import functions as F\n",
    "spark = SparkSession.builder.appName(\"Accident-Patterns\").getOrCreate()\n"
   ]
  },
  {
   "cell_type": "code",
   "execution_count": 0,
   "metadata": {
    "application/vnd.databricks.v1+cell": {
     "cellMetadata": {
      "byteLimit": 2048000,
      "rowLimit": 10000
     },
     "inputWidgets": {},
     "nuid": "73e24f11-86b1-4dbd-8e78-0250c704b4df",
     "showTitle": false,
     "title": ""
    }
   },
   "outputs": [],
   "source": [
    "df1 = spark.read.format(\"csv\").option(\"header\", \"true\").load(\"dbfs:/FileStore/tables/Crashes_2.csv\")\n",
    "df2 = spark.read.format(\"csv\").option(\"header\", \"true\").load(\"dbfs:/FileStore/tables/Persons_2.csv\")\n",
    "df3 = spark.read.format(\"csv\").option(\"header\", \"true\").load(\"dbfs:/FileStore/tables/Vehicles_2.csv\")"
   ]
  },
  {
   "cell_type": "code",
   "execution_count": 0,
   "metadata": {
    "application/vnd.databricks.v1+cell": {
     "cellMetadata": {
      "byteLimit": 2048000,
      "rowLimit": 10000
     },
     "inputWidgets": {},
     "nuid": "a795511b-4567-4503-bc05-360daf422642",
     "showTitle": false,
     "title": ""
    }
   },
   "outputs": [
    {
     "output_type": "stream",
     "name": "stdout",
     "output_type": "stream",
     "text": [
      "root\n |-- CRASH DATE: string (nullable = true)\n |-- CRASH TIME: string (nullable = true)\n |-- BOROUGH: string (nullable = true)\n |-- ZIP CODE: string (nullable = true)\n |-- LATITUDE: string (nullable = true)\n |-- LONGITUDE: string (nullable = true)\n |-- LOCATION: string (nullable = true)\n |-- ON STREET NAME: string (nullable = true)\n |-- CROSS STREET NAME: string (nullable = true)\n |-- OFF STREET NAME: string (nullable = true)\n |-- NUMBER OF PERSONS INJURED: string (nullable = true)\n |-- NUMBER OF PERSONS KILLED: string (nullable = true)\n |-- NUMBER OF PEDESTRIANS INJURED: string (nullable = true)\n |-- NUMBER OF PEDESTRIANS KILLED: string (nullable = true)\n |-- NUMBER OF CYCLIST INJURED: string (nullable = true)\n |-- NUMBER OF CYCLIST KILLED: string (nullable = true)\n |-- NUMBER OF MOTORIST INJURED: string (nullable = true)\n |-- NUMBER OF MOTORIST KILLED: string (nullable = true)\n |-- CONTRIBUTING FACTOR VEHICLE 1: string (nullable = true)\n |-- CONTRIBUTING FACTOR VEHICLE 2: string (nullable = true)\n |-- CONTRIBUTING FACTOR VEHICLE 3: string (nullable = true)\n |-- CONTRIBUTING FACTOR VEHICLE 4: string (nullable = true)\n |-- CONTRIBUTING FACTOR VEHICLE 5: string (nullable = true)\n |-- COLLISION_ID: string (nullable = true)\n |-- VEHICLE TYPE CODE 1: string (nullable = true)\n |-- VEHICLE TYPE CODE 2: string (nullable = true)\n |-- VEHICLE TYPE CODE 3: string (nullable = true)\n |-- VEHICLE TYPE CODE 4: string (nullable = true)\n |-- VEHICLE TYPE CODE 5: string (nullable = true)\n\n"
     ]
    }
   ],
   "source": [
    "df1.printSchema()"
   ]
  },
  {
   "cell_type": "code",
   "execution_count": 0,
   "metadata": {
    "application/vnd.databricks.v1+cell": {
     "cellMetadata": {
      "byteLimit": 2048000,
      "rowLimit": 10000
     },
     "inputWidgets": {},
     "nuid": "a98cdfe6-0d38-4388-804f-281c9040c1ee",
     "showTitle": false,
     "title": ""
    }
   },
   "outputs": [
    {
     "output_type": "stream",
     "name": "stdout",
     "output_type": "stream",
     "text": [
      "root\n |-- UNIQUE_ID: string (nullable = true)\n |-- COLLISION_ID: string (nullable = true)\n |-- CRASH_DATE: string (nullable = true)\n |-- CRASH_TIME: string (nullable = true)\n |-- PERSON_ID: string (nullable = true)\n |-- PERSON_TYPE: string (nullable = true)\n |-- PERSON_INJURY: string (nullable = true)\n |-- VEHICLE_ID: string (nullable = true)\n |-- PERSON_AGE: string (nullable = true)\n |-- EJECTION: string (nullable = true)\n |-- EMOTIONAL_STATUS: string (nullable = true)\n |-- BODILY_INJURY: string (nullable = true)\n |-- POSITION_IN_VEHICLE: string (nullable = true)\n |-- SAFETY_EQUIPMENT: string (nullable = true)\n |-- PED_LOCATION: string (nullable = true)\n |-- PED_ACTION: string (nullable = true)\n |-- COMPLAINT: string (nullable = true)\n |-- PED_ROLE: string (nullable = true)\n |-- CONTRIBUTING_FACTOR_1: string (nullable = true)\n |-- CONTRIBUTING_FACTOR_2: string (nullable = true)\n |-- PERSON_SEX: string (nullable = true)\n\n"
     ]
    }
   ],
   "source": [
    "df2.printSchema()"
   ]
  },
  {
   "cell_type": "code",
   "execution_count": 0,
   "metadata": {
    "application/vnd.databricks.v1+cell": {
     "cellMetadata": {
      "byteLimit": 2048000,
      "rowLimit": 10000
     },
     "inputWidgets": {},
     "nuid": "a81f8bf9-fd3a-4a8f-a806-2ac50521347c",
     "showTitle": false,
     "title": ""
    }
   },
   "outputs": [
    {
     "output_type": "stream",
     "name": "stdout",
     "output_type": "stream",
     "text": [
      "root\n |-- UNIQUE_ID: string (nullable = true)\n |-- COLLISION_ID: string (nullable = true)\n |-- CRASH_DATE: string (nullable = true)\n |-- CRASH_TIME: string (nullable = true)\n |-- VEHICLE_ID: string (nullable = true)\n |-- STATE_REGISTRATION: string (nullable = true)\n |-- VEHICLE_TYPE: string (nullable = true)\n |-- VEHICLE_MAKE: string (nullable = true)\n |-- VEHICLE_MODEL: string (nullable = true)\n |-- VEHICLE_YEAR: string (nullable = true)\n |-- TRAVEL_DIRECTION: string (nullable = true)\n |-- VEHICLE_OCCUPANTS: string (nullable = true)\n |-- DRIVER_SEX: string (nullable = true)\n |-- DRIVER_LICENSE_STATUS: string (nullable = true)\n |-- DRIVER_LICENSE_JURISDICTION: string (nullable = true)\n |-- PRE_CRASH: string (nullable = true)\n |-- POINT_OF_IMPACT: string (nullable = true)\n |-- VEHICLE_DAMAGE: string (nullable = true)\n |-- VEHICLE_DAMAGE_1: string (nullable = true)\n |-- VEHICLE_DAMAGE_2: string (nullable = true)\n |-- VEHICLE_DAMAGE_3: string (nullable = true)\n |-- PUBLIC_PROPERTY_DAMAGE: string (nullable = true)\n |-- PUBLIC_PROPERTY_DAMAGE_TYPE: string (nullable = true)\n |-- CONTRIBUTING_FACTOR_1: string (nullable = true)\n |-- CONTRIBUTING_FACTOR_2: string (nullable = true)\n\n"
     ]
    }
   ],
   "source": [
    "df3.printSchema()"
   ]
  },
  {
   "cell_type": "code",
   "execution_count": 0,
   "metadata": {
    "application/vnd.databricks.v1+cell": {
     "cellMetadata": {
      "byteLimit": 2048000,
      "rowLimit": 10000
     },
     "inputWidgets": {},
     "nuid": "238392d7-045d-4120-bf0a-0cb6682da112",
     "showTitle": false,
     "title": ""
    }
   },
   "outputs": [
    {
     "output_type": "stream",
     "name": "stdout",
     "output_type": "stream",
     "text": [
      "Out[6]: DataFrame[summary: string, CRASH DATE: string, CRASH TIME: string, BOROUGH: string, ZIP CODE: string, LATITUDE: string, LONGITUDE: string, LOCATION: string, ON STREET NAME: string, CROSS STREET NAME: string, OFF STREET NAME: string, NUMBER OF PERSONS INJURED: string, NUMBER OF PERSONS KILLED: string, NUMBER OF PEDESTRIANS INJURED: string, NUMBER OF PEDESTRIANS KILLED: string, NUMBER OF CYCLIST INJURED: string, NUMBER OF CYCLIST KILLED: string, NUMBER OF MOTORIST INJURED: string, NUMBER OF MOTORIST KILLED: string, CONTRIBUTING FACTOR VEHICLE 1: string, CONTRIBUTING FACTOR VEHICLE 2: string, CONTRIBUTING FACTOR VEHICLE 3: string, CONTRIBUTING FACTOR VEHICLE 4: string, CONTRIBUTING FACTOR VEHICLE 5: string, COLLISION_ID: string, VEHICLE TYPE CODE 1: string, VEHICLE TYPE CODE 2: string, VEHICLE TYPE CODE 3: string, VEHICLE TYPE CODE 4: string, VEHICLE TYPE CODE 5: string]"
     ]
    }
   ],
   "source": [
    "df1.summary()"
   ]
  },
  {
   "cell_type": "code",
   "execution_count": 0,
   "metadata": {
    "application/vnd.databricks.v1+cell": {
     "cellMetadata": {
      "byteLimit": 2048000,
      "rowLimit": 10000
     },
     "inputWidgets": {},
     "nuid": "eb138a54-0d6a-466d-8cb7-e4eb88878d85",
     "showTitle": false,
     "title": ""
    }
   },
   "outputs": [
    {
     "output_type": "stream",
     "name": "stdout",
     "output_type": "stream",
     "text": [
      "Out[7]: DataFrame[summary: string, UNIQUE_ID: string, COLLISION_ID: string, CRASH_DATE: string, CRASH_TIME: string, PERSON_ID: string, PERSON_TYPE: string, PERSON_INJURY: string, VEHICLE_ID: string, PERSON_AGE: string, EJECTION: string, EMOTIONAL_STATUS: string, BODILY_INJURY: string, POSITION_IN_VEHICLE: string, SAFETY_EQUIPMENT: string, PED_LOCATION: string, PED_ACTION: string, COMPLAINT: string, PED_ROLE: string, CONTRIBUTING_FACTOR_1: string, CONTRIBUTING_FACTOR_2: string, PERSON_SEX: string]"
     ]
    }
   ],
   "source": [
    "df2.summary()"
   ]
  },
  {
   "cell_type": "code",
   "execution_count": 0,
   "metadata": {
    "application/vnd.databricks.v1+cell": {
     "cellMetadata": {
      "byteLimit": 2048000,
      "rowLimit": 10000
     },
     "inputWidgets": {},
     "nuid": "1f234a09-4884-40ee-b8ce-b95c02c276ce",
     "showTitle": false,
     "title": ""
    }
   },
   "outputs": [
    {
     "output_type": "stream",
     "name": "stdout",
     "output_type": "stream",
     "text": [
      "Out[8]: DataFrame[summary: string, UNIQUE_ID: string, COLLISION_ID: string, CRASH_DATE: string, CRASH_TIME: string, VEHICLE_ID: string, STATE_REGISTRATION: string, VEHICLE_TYPE: string, VEHICLE_MAKE: string, VEHICLE_MODEL: string, VEHICLE_YEAR: string, TRAVEL_DIRECTION: string, VEHICLE_OCCUPANTS: string, DRIVER_SEX: string, DRIVER_LICENSE_STATUS: string, DRIVER_LICENSE_JURISDICTION: string, PRE_CRASH: string, POINT_OF_IMPACT: string, VEHICLE_DAMAGE: string, VEHICLE_DAMAGE_1: string, VEHICLE_DAMAGE_2: string, VEHICLE_DAMAGE_3: string, PUBLIC_PROPERTY_DAMAGE: string, PUBLIC_PROPERTY_DAMAGE_TYPE: string, CONTRIBUTING_FACTOR_1: string, CONTRIBUTING_FACTOR_2: string]"
     ]
    }
   ],
   "source": [
    "df3.summary()"
   ]
  },
  {
   "cell_type": "code",
   "execution_count": 0,
   "metadata": {
    "application/vnd.databricks.v1+cell": {
     "cellMetadata": {
      "byteLimit": 2048000,
      "rowLimit": 10000
     },
     "inputWidgets": {},
     "nuid": "13c9d9bd-95a4-42c3-8b54-9976a98b8f95",
     "showTitle": false,
     "title": ""
    }
   },
   "outputs": [
    {
     "output_type": "stream",
     "name": "stdout",
     "output_type": "stream",
     "text": [
      "Out[9]: 0"
     ]
    }
   ],
   "source": [
    "df3.where(F.col(\"CRASH_TIME\").isNull()).count()"
   ]
  },
  {
   "cell_type": "code",
   "execution_count": 0,
   "metadata": {
    "application/vnd.databricks.v1+cell": {
     "cellMetadata": {
      "byteLimit": 2048000,
      "rowLimit": 10000
     },
     "inputWidgets": {},
     "nuid": "bb0a1602-ffea-4a3c-af00-ddc23999b8a9",
     "showTitle": false,
     "title": ""
    }
   },
   "outputs": [
    {
     "output_type": "stream",
     "name": "stdout",
     "output_type": "stream",
     "text": [
      "Out[10]: 4169890"
     ]
    }
   ],
   "source": [
    "df3.count()"
   ]
  },
  {
   "cell_type": "code",
   "execution_count": 0,
   "metadata": {
    "application/vnd.databricks.v1+cell": {
     "cellMetadata": {
      "byteLimit": 2048000,
      "rowLimit": 10000
     },
     "inputWidgets": {},
     "nuid": "a06087d1-a44a-452f-8d2c-4a7f37d40614",
     "showTitle": false,
     "title": ""
    }
   },
   "outputs": [
    {
     "output_type": "stream",
     "name": "stdout",
     "output_type": "stream",
     "text": [
      "Out[11]: 0"
     ]
    }
   ],
   "source": [
    "df3.where(F.col(\"UNIQUE_ID\").isNull()).count()"
   ]
  },
  {
   "cell_type": "code",
   "execution_count": 0,
   "metadata": {
    "application/vnd.databricks.v1+cell": {
     "cellMetadata": {
      "byteLimit": 2048000,
      "rowLimit": 10000
     },
     "inputWidgets": {},
     "nuid": "05eb584a-d331-47f5-8112-dc8ca71bf652",
     "showTitle": false,
     "title": ""
    }
   },
   "outputs": [
    {
     "output_type": "stream",
     "name": "stdout",
     "output_type": "stream",
     "text": [
      "+----------+\n|CRASH_TIME|\n+----------+\n|      9:03|\n|      8:15|\n|     17:18|\n|     20:34|\n|     21:15|\n|     17:35|\n|     13:15|\n|     12:39|\n|     11:20|\n|     18:12|\n+----------+\nonly showing top 10 rows\n\n"
     ]
    }
   ],
   "source": [
    "df3.select(\"CRASH_TIME\").show(10)"
   ]
  },
  {
   "cell_type": "code",
   "execution_count": 0,
   "metadata": {
    "application/vnd.databricks.v1+cell": {
     "cellMetadata": {
      "byteLimit": 2048000,
      "rowLimit": 10000
     },
     "inputWidgets": {},
     "nuid": "77e3767b-3db9-48e5-bd68-3b93a84951f1",
     "showTitle": false,
     "title": ""
    }
   },
   "outputs": [],
   "source": [
    "df3=df3.withColumn(\"CRASH_TIME\",F.to_timestamp(df3[\"CRASH_TIME\"],\"H:mm\"))"
   ]
  },
  {
   "cell_type": "code",
   "execution_count": 0,
   "metadata": {
    "application/vnd.databricks.v1+cell": {
     "cellMetadata": {
      "byteLimit": 2048000,
      "rowLimit": 10000
     },
     "inputWidgets": {},
     "nuid": "d6aa3728-b6b8-4699-9d6e-c440542f61dc",
     "showTitle": false,
     "title": ""
    }
   },
   "outputs": [
    {
     "output_type": "stream",
     "name": "stdout",
     "output_type": "stream",
     "text": [
      "root\n |-- UNIQUE_ID: string (nullable = true)\n |-- COLLISION_ID: string (nullable = true)\n |-- CRASH_DATE: string (nullable = true)\n |-- CRASH_TIME: timestamp (nullable = true)\n |-- VEHICLE_ID: string (nullable = true)\n |-- STATE_REGISTRATION: string (nullable = true)\n |-- VEHICLE_TYPE: string (nullable = true)\n |-- VEHICLE_MAKE: string (nullable = true)\n |-- VEHICLE_MODEL: string (nullable = true)\n |-- VEHICLE_YEAR: string (nullable = true)\n |-- TRAVEL_DIRECTION: string (nullable = true)\n |-- VEHICLE_OCCUPANTS: string (nullable = true)\n |-- DRIVER_SEX: string (nullable = true)\n |-- DRIVER_LICENSE_STATUS: string (nullable = true)\n |-- DRIVER_LICENSE_JURISDICTION: string (nullable = true)\n |-- PRE_CRASH: string (nullable = true)\n |-- POINT_OF_IMPACT: string (nullable = true)\n |-- VEHICLE_DAMAGE: string (nullable = true)\n |-- VEHICLE_DAMAGE_1: string (nullable = true)\n |-- VEHICLE_DAMAGE_2: string (nullable = true)\n |-- VEHICLE_DAMAGE_3: string (nullable = true)\n |-- PUBLIC_PROPERTY_DAMAGE: string (nullable = true)\n |-- PUBLIC_PROPERTY_DAMAGE_TYPE: string (nullable = true)\n |-- CONTRIBUTING_FACTOR_1: string (nullable = true)\n |-- CONTRIBUTING_FACTOR_2: string (nullable = true)\n\n"
     ]
    }
   ],
   "source": [
    "df3.printSchema()"
   ]
  },
  {
   "cell_type": "code",
   "execution_count": 0,
   "metadata": {
    "application/vnd.databricks.v1+cell": {
     "cellMetadata": {
      "byteLimit": 2048000,
      "rowLimit": 10000
     },
     "inputWidgets": {},
     "nuid": "35679c0c-b586-40b0-bdf9-e8820828b8f7",
     "showTitle": false,
     "title": ""
    }
   },
   "outputs": [
    {
     "output_type": "stream",
     "name": "stdout",
     "output_type": "stream",
     "text": [
      "Out[15]: 0"
     ]
    }
   ],
   "source": [
    "df3.where(F.col(\"CRASH_DATE\").isNull()).count()"
   ]
  },
  {
   "cell_type": "code",
   "execution_count": 0,
   "metadata": {
    "application/vnd.databricks.v1+cell": {
     "cellMetadata": {
      "byteLimit": 2048000,
      "rowLimit": 10000
     },
     "inputWidgets": {},
     "nuid": "4063e486-c4bb-48b3-931a-9bf807e6c37f",
     "showTitle": false,
     "title": ""
    }
   },
   "outputs": [
    {
     "output_type": "stream",
     "name": "stdout",
     "output_type": "stream",
     "text": [
      "+----------+\n|CRASH_DATE|\n+----------+\n|09/07/2012|\n|09/23/2019|\n|10/02/2015|\n|10/04/2015|\n|04/25/2013|\n|05/02/2016|\n|10/24/2019|\n|08/18/2016|\n|07/16/2013|\n|11/26/2012|\n|07/22/2016|\n|08/01/2015|\n|08/13/2016|\n|10/21/2019|\n|06/06/2020|\n|08/11/2012|\n|09/08/2016|\n|04/09/2013|\n|04/01/2016|\n|10/24/2019|\n+----------+\nonly showing top 20 rows\n\n"
     ]
    }
   ],
   "source": [
    "df3.select(F.col(\"CRASH_DATE\")).show()"
   ]
  },
  {
   "cell_type": "code",
   "execution_count": 0,
   "metadata": {
    "application/vnd.databricks.v1+cell": {
     "cellMetadata": {
      "byteLimit": 2048000,
      "rowLimit": 10000
     },
     "inputWidgets": {},
     "nuid": "d25bf40c-9b94-4565-8bfe-4b3854de637f",
     "showTitle": false,
     "title": ""
    }
   },
   "outputs": [],
   "source": [
    "df3=df3.withColumn(\"CRASH_DATE\",F.to_date(df3[\"CRASH_DATE\"],\"MM/dd/yyyy\"))"
   ]
  },
  {
   "cell_type": "code",
   "execution_count": 0,
   "metadata": {
    "application/vnd.databricks.v1+cell": {
     "cellMetadata": {
      "byteLimit": 2048000,
      "rowLimit": 10000
     },
     "inputWidgets": {},
     "nuid": "b09fefa5-cd07-4832-94c2-486d169636b1",
     "showTitle": false,
     "title": ""
    }
   },
   "outputs": [
    {
     "output_type": "stream",
     "name": "stdout",
     "output_type": "stream",
     "text": [
      "root\n |-- UNIQUE_ID: string (nullable = true)\n |-- COLLISION_ID: string (nullable = true)\n |-- CRASH_DATE: date (nullable = true)\n |-- CRASH_TIME: timestamp (nullable = true)\n |-- VEHICLE_ID: string (nullable = true)\n |-- STATE_REGISTRATION: string (nullable = true)\n |-- VEHICLE_TYPE: string (nullable = true)\n |-- VEHICLE_MAKE: string (nullable = true)\n |-- VEHICLE_MODEL: string (nullable = true)\n |-- VEHICLE_YEAR: string (nullable = true)\n |-- TRAVEL_DIRECTION: string (nullable = true)\n |-- VEHICLE_OCCUPANTS: string (nullable = true)\n |-- DRIVER_SEX: string (nullable = true)\n |-- DRIVER_LICENSE_STATUS: string (nullable = true)\n |-- DRIVER_LICENSE_JURISDICTION: string (nullable = true)\n |-- PRE_CRASH: string (nullable = true)\n |-- POINT_OF_IMPACT: string (nullable = true)\n |-- VEHICLE_DAMAGE: string (nullable = true)\n |-- VEHICLE_DAMAGE_1: string (nullable = true)\n |-- VEHICLE_DAMAGE_2: string (nullable = true)\n |-- VEHICLE_DAMAGE_3: string (nullable = true)\n |-- PUBLIC_PROPERTY_DAMAGE: string (nullable = true)\n |-- PUBLIC_PROPERTY_DAMAGE_TYPE: string (nullable = true)\n |-- CONTRIBUTING_FACTOR_1: string (nullable = true)\n |-- CONTRIBUTING_FACTOR_2: string (nullable = true)\n\n"
     ]
    }
   ],
   "source": [
    "df3.printSchema()"
   ]
  },
  {
   "cell_type": "code",
   "execution_count": 0,
   "metadata": {
    "application/vnd.databricks.v1+cell": {
     "cellMetadata": {
      "byteLimit": 2048000,
      "rowLimit": 10000
     },
     "inputWidgets": {},
     "nuid": "0746d8ce-0c69-462e-a2b0-41f1697aea6a",
     "showTitle": false,
     "title": ""
    }
   },
   "outputs": [],
   "source": [
    "df4 = df3.select(F.hour(df3[\"CRASH_TIME\"]).alias(\"CRASH_HOUR\")).groupBy(\"CRASH_HOUR\").agg(F.count(\"*\").alias(\"count\")).orderBy(\"CRASH_HOUR\")"
   ]
  },
  {
   "cell_type": "code",
   "execution_count": 0,
   "metadata": {
    "application/vnd.databricks.v1+cell": {
     "cellMetadata": {
      "byteLimit": 2048000,
      "rowLimit": 10000
     },
     "inputWidgets": {},
     "nuid": "20da5014-175e-4455-af30-f38067aa3eca",
     "showTitle": false,
     "title": ""
    }
   },
   "outputs": [
    {
     "output_type": "stream",
     "name": "stdout",
     "output_type": "stream",
     "text": [
      "+----------+------+\n|CRASH_HOUR| count|\n+----------+------+\n|         0|135760|\n|         1| 73940|\n|         2| 56769|\n|         3| 50187|\n|         4| 57337|\n|         5| 61984|\n|         6| 94426|\n|         7|127331|\n|         8|229029|\n|         9|220788|\n|        10|205854|\n|        11|214206|\n|        12|227588|\n|        13|239974|\n|        14|277216|\n|        15|260210|\n|        16|300218|\n|        17|292292|\n|        18|255612|\n|        19|209552|\n+----------+------+\nonly showing top 20 rows\n\n"
     ]
    }
   ],
   "source": [
    "df4.show()"
   ]
  },
  {
   "cell_type": "code",
   "execution_count": 0,
   "metadata": {
    "application/vnd.databricks.v1+cell": {
     "cellMetadata": {
      "byteLimit": 2048000,
      "rowLimit": 10000
     },
     "inputWidgets": {},
     "nuid": "00992179-b1d0-4d49-960e-c7b712328f1a",
     "showTitle": false,
     "title": ""
    }
   },
   "outputs": [],
   "source": [
    "df_hours = df4.toPandas()"
   ]
  },
  {
   "cell_type": "code",
   "execution_count": 0,
   "metadata": {
    "application/vnd.databricks.v1+cell": {
     "cellMetadata": {
      "byteLimit": 2048000,
      "rowLimit": 10000
     },
     "inputWidgets": {},
     "nuid": "31e008d0-6afb-416b-899a-6c9b6660af04",
     "showTitle": false,
     "title": ""
    }
   },
   "outputs": [
    {
     "output_type": "display_data",
     "data": {
      "image/png": "[encoded data removed]"
     },
     "metadata": {
      "application/vnd.databricks.v1+output": {
       "addedWidgets": {},
       "arguments": {},
       "data": "data:image/png;base64,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\n",
       "datasetInfos": [],
       "metadata": {},
       "removedWidgets": [],
       "type": "image"
      }
     },
     "output_type": "display_data"
    },
    {
     "output_type": "stream",
     "name": "stdout",
     "output_type": "stream",
     "text": [
      "<Figure size 1440x432 with 0 Axes>"
     ]
    }
   ],
   "source": [
    "import matplotlib.pyplot as plt\n",
    "df_hours.plot(kind = 'bar', x='CRASH_HOUR',y='count')\n",
    "plt.title(\"CRASH DISTRIBUTION BY TIME\")\n",
    "plt.xlabel(\"Hours of day\")\n",
    "plt.ylabel(\"count\")\n",
    "plt.figure(figsize=(20, 6))\n",
    "plt.show()\n"
   ]
  },
  {
   "cell_type": "code",
   "execution_count": 0,
   "metadata": {
    "application/vnd.databricks.v1+cell": {
     "cellMetadata": {
      "byteLimit": 2048000,
      "rowLimit": 10000
     },
     "inputWidgets": {},
     "nuid": "cc8c108d-a822-49d1-9ad6-559c9dd6b234",
     "showTitle": false,
     "title": ""
    }
   },
   "outputs": [],
   "source": [
    "df5 = df3.select(F.month(df3[\"CRASH_DATE\"]).alias(\"CRASH_MONTH\")).groupBy(\"CRASH_MONTH\").agg(F.count(\"*\").alias(\"count\")).orderBy(\"CRASH_MONTH\")"
   ]
  },
  {
   "cell_type": "code",
   "execution_count": 0,
   "metadata": {
    "application/vnd.databricks.v1+cell": {
     "cellMetadata": {
      "byteLimit": 2048000,
      "rowLimit": 10000
     },
     "inputWidgets": {},
     "nuid": "b88589b2-f001-43c5-8c96-6c5dc64458fc",
     "showTitle": false,
     "title": ""
    }
   },
   "outputs": [
    {
     "output_type": "stream",
     "name": "stdout",
     "output_type": "stream",
     "text": [
      "+-----------+------+\n|CRASH_MONTH| count|\n+-----------+------+\n|          1|327429|\n|          2|302612|\n|          3|339198|\n|          4|302739|\n|          5|348298|\n|          6|351449|\n|          7|373188|\n|          8|367527|\n|          9|366779|\n|         10|376818|\n|         11|356805|\n|         12|357048|\n+-----------+------+\n\n"
     ]
    }
   ],
   "source": [
    "df5.show()"
   ]
  },
  {
   "cell_type": "code",
   "execution_count": 0,
   "metadata": {
    "application/vnd.databricks.v1+cell": {
     "cellMetadata": {
      "byteLimit": 2048000,
      "rowLimit": 10000
     },
     "inputWidgets": {},
     "nuid": "285ec7d9-7ae8-407e-9ee2-2a72f519ba68",
     "showTitle": false,
     "title": ""
    }
   },
   "outputs": [],
   "source": [
    "df_MONTH = df5.toPandas()"
   ]
  },
  {
   "cell_type": "code",
   "execution_count": 0,
   "metadata": {
    "application/vnd.databricks.v1+cell": {
     "cellMetadata": {
      "byteLimit": 2048000,
      "rowLimit": 10000
     },
     "inputWidgets": {},
     "nuid": "8614c484-f82a-4144-8cbe-3fcc6e3af7dc",
     "showTitle": false,
     "title": ""
    }
   },
   "outputs": [
    {
     "output_type": "display_data",
     "data": {
      "image/png": "[encoded data removed]"
     },
     "metadata": {
      "application/vnd.databricks.v1+output": {
       "addedWidgets": {},
       "arguments": {},
       "data": "data:image/png;base64,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\n",
       "datasetInfos": [],
       "metadata": {},
       "removedWidgets": [],
       "type": "image"
      }
     },
     "output_type": "display_data"
    },
    {
     "output_type": "stream",
     "name": "stdout",
     "output_type": "stream",
     "text": [
      "<Figure size 1440x432 with 0 Axes>"
     ]
    }
   ],
   "source": [
    "df_MONTH.plot(kind = 'bar', x='CRASH_MONTH',y='count')\n",
    "plt.title(\"CRASH DISTRIBUTION BY MONTH\")\n",
    "plt.legend()\n",
    "plt.xlabel(\"MONTH\")\n",
    "plt.ylabel(\"count\")\n",
    "plt.figure(figsize=(20, 6))\n",
    "plt.show()"
   ]
  },
  {
   "cell_type": "code",
   "execution_count": 0,
   "metadata": {
    "application/vnd.databricks.v1+cell": {
     "cellMetadata": {
      "byteLimit": 2048000,
      "rowLimit": 10000
     },
     "inputWidgets": {},
     "nuid": "a1e03495-fc56-441f-befa-afcee7744ac1",
     "showTitle": false,
     "title": ""
    }
   },
   "outputs": [
    {
     "output_type": "stream",
     "name": "stdout",
     "output_type": "stream",
     "text": [
      "Out[27]: 235350"
     ]
    }
   ],
   "source": [
    "df3.where(F.col(\"VEHICLE_TYPE\").isNull()).count()"
   ]
  },
  {
   "cell_type": "code",
   "execution_count": 0,
   "metadata": {
    "application/vnd.databricks.v1+cell": {
     "cellMetadata": {
      "byteLimit": 2048000,
      "rowLimit": 10000
     },
     "inputWidgets": {},
     "nuid": "8ac4ad5f-0500-4e5f-be16-282eb934680e",
     "showTitle": false,
     "title": ""
    }
   },
   "outputs": [
    {
     "output_type": "stream",
     "name": "stdout",
     "output_type": "stream",
     "text": [
      "+-----------------------------------+\n|VEHICLE_TYPE                       |\n+-----------------------------------+\n|Station Wagon/Sport Utility Vehicle|\n|Flat Bed                           |\n|Bike                               |\n|PASSENGER VEHICLE                  |\n|Motorcycle                         |\n|Convertible                        |\n|4 dr sedan                         |\n|null                               |\n|VAN                                |\n|TAXI                               |\n|Sedan                              |\n|Taxi                               |\n|LARGE COM VEH(6 OR MORE TIRES)     |\n|UNKNOWN                            |\n|Box Truck                          |\n|PICK-UP TRUCK                      |\n|SPORT UTILITY / STATION WAGON      |\n|Bus                                |\n|OTHER                              |\n|Pick-up Truck                      |\n+-----------------------------------+\nonly showing top 20 rows\n\n"
     ]
    }
   ],
   "source": [
    "df3.select(F.col(\"VEHICLE_TYPE\")).distinct().show(truncate=False)"
   ]
  },
  {
   "cell_type": "code",
   "execution_count": 0,
   "metadata": {
    "application/vnd.databricks.v1+cell": {
     "cellMetadata": {
      "byteLimit": 2048000,
      "rowLimit": 10000
     },
     "inputWidgets": {},
     "nuid": "d24c0393-0caf-4dfb-b863-5d682d81aa66",
     "showTitle": false,
     "title": ""
    }
   },
   "outputs": [],
   "source": [
    "df_drop = df3.withColumn(\"VEHICLE_TYPE\",F.lower(df3[\"VEHICLE_TYPE\"]))"
   ]
  },
  {
   "cell_type": "code",
   "execution_count": 0,
   "metadata": {
    "application/vnd.databricks.v1+cell": {
     "cellMetadata": {
      "byteLimit": 2048000,
      "rowLimit": 10000
     },
     "inputWidgets": {},
     "nuid": "270af6d5-9cf3-4ae8-9bf1-a092be22e272",
     "showTitle": false,
     "title": ""
    }
   },
   "outputs": [
    {
     "output_type": "stream",
     "name": "stdout",
     "output_type": "stream",
     "text": [
      "+-----------------------------------+\n|VEHICLE_TYPE                       |\n+-----------------------------------+\n|Station Wagon/Sport Utility Vehicle|\n|Flat Bed                           |\n|Bike                               |\n|PASSENGER VEHICLE                  |\n|Motorcycle                         |\n|Convertible                        |\n|4 dr sedan                         |\n|null                               |\n|VAN                                |\n|TAXI                               |\n|Sedan                              |\n|Taxi                               |\n|LARGE COM VEH(6 OR MORE TIRES)     |\n|UNKNOWN                            |\n|Box Truck                          |\n|PICK-UP TRUCK                      |\n|SPORT UTILITY / STATION WAGON      |\n|Bus                                |\n|OTHER                              |\n|Pick-up Truck                      |\n+-----------------------------------+\nonly showing top 20 rows\n\n"
     ]
    }
   ],
   "source": [
    "df3.select(F.col(\"VEHICLE_TYPE\")).distinct().show(truncate=False)"
   ]
  },
  {
   "cell_type": "code",
   "execution_count": 0,
   "metadata": {
    "application/vnd.databricks.v1+cell": {
     "cellMetadata": {
      "byteLimit": 2048000,
      "rowLimit": 10000
     },
     "inputWidgets": {},
     "nuid": "8c1aead0-aea8-428f-88c1-a0350effc100",
     "showTitle": false,
     "title": ""
    }
   },
   "outputs": [],
   "source": [
    "df_drop = df_drop.filter((F.col(\"VEHICLE_TYPE\") != \"null\") & (F.col(\"VEHICLE_TYPE\") != \"unknown\"))"
   ]
  },
  {
   "cell_type": "code",
   "execution_count": 0,
   "metadata": {
    "application/vnd.databricks.v1+cell": {
     "cellMetadata": {
      "byteLimit": 2048000,
      "rowLimit": 10000
     },
     "inputWidgets": {},
     "nuid": "29d8d388-6123-4202-8f8d-bf01e0be7878",
     "showTitle": false,
     "title": ""
    }
   },
   "outputs": [
    {
     "output_type": "stream",
     "name": "stdout",
     "output_type": "stream",
     "text": [
      "Out[32]: 3828966"
     ]
    }
   ],
   "source": [
    "df_drop.select(\"VEHICLE_TYPE\").count()"
   ]
  },
  {
   "cell_type": "code",
   "execution_count": 0,
   "metadata": {
    "application/vnd.databricks.v1+cell": {
     "cellMetadata": {
      "byteLimit": 2048000,
      "rowLimit": 10000
     },
     "inputWidgets": {},
     "nuid": "402e3a46-1836-4c31-8c6b-84825c0864ef",
     "showTitle": false,
     "title": ""
    }
   },
   "outputs": [
    {
     "output_type": "stream",
     "name": "stdout",
     "output_type": "stream",
     "text": [
      "+-----------------------------------+\n|VEHICLE_TYPE                       |\n+-----------------------------------+\n|trail                              |\n|4dsd                               |\n|subn                               |\n|van                                |\n|motorcycle                         |\n|fork                               |\n|armored truck                      |\n|moped                              |\n|lift boom                          |\n|carry all                          |\n|box t                              |\n|stake or rack                      |\n|e-bike                             |\n|open body                          |\n|psh                                |\n|e-sco                              |\n|large com veh(6 or more tires)     |\n|pallet                             |\n|com                                |\n|deliv                              |\n|tow truck                          |\n|pickup with mounted camper         |\n|concrete mixer                     |\n|enclosed body - removable enclosure|\n|cmix                               |\n|garba                              |\n|scoot                              |\n|4 dr sedan                         |\n|ambulance                          |\n|school bus                         |\n|chassis cab                        |\n|pk                                 |\n|bus                                |\n|tanker                             |\n|govt.                              |\n|food                               |\n|flat rack                          |\n|gene                               |\n|left                               |\n|tractor truck gasoline             |\n|other                              |\n|backh                              |\n|3-door                             |\n|n/a                                |\n|flatb                              |\n|convertible                        |\n|passenger vehicle                  |\n|pedicab                            |\n|station wagon/sport utility vehicle|\n|tractor truck diesel               |\n|refrigerated van                   |\n|fire truck                         |\n|hoe-l                              |\n|tow truck / wrecker                |\n|motorbike                          |\n|beverage truck                     |\n|forkl                              |\n|ambul                              |\n|ford                               |\n|box truck                          |\n|2 dr sedan                         |\n|golf                               |\n|ukn                                |\n|tow t                              |\n|nycta                              |\n|small com veh(4 tires)             |\n|flat                               |\n|firet                              |\n|luv                                |\n|taxi                               |\n|schoo                              |\n|sedan                              |\n|uhaul                              |\n|cargo                              |\n|unk                                |\n|livery vehicle                     |\n|sport utility / station wagon      |\n|tract                              |\n|dump                               |\n|hopper                             |\n|us po                              |\n|e-bik                              |\n|bulk agriculture                   |\n|excav                              |\n|motor                              |\n|ambu                               |\n|4dr                                |\n|truck                              |\n|stree                              |\n|garbage or refuse                  |\n|unkno                              |\n|scooter                            |\n|picku                              |\n|pick-up truck                      |\n|flat bed                           |\n|trac                               |\n|comme                              |\n|livestock rack                     |\n|bike                               |\n|fire                               |\n+-----------------------------------+\nonly showing top 100 rows\n\n"
     ]
    }
   ],
   "source": [
    "df_drop.select(\"VEHICLE_TYPE\").distinct().show(100,truncate=False)"
   ]
  },
  {
   "cell_type": "code",
   "execution_count": 0,
   "metadata": {
    "application/vnd.databricks.v1+cell": {
     "cellMetadata": {
      "byteLimit": 2048000,
      "rowLimit": 10000
     },
     "inputWidgets": {},
     "nuid": "1abb651a-9f63-4bdd-9366-8b3fbc512fd5",
     "showTitle": false,
     "title": ""
    }
   },
   "outputs": [],
   "source": [
    "vehicle_type_mapping = {\n",
    "    \"sedan\": \"car\",\n",
    "    \"suv\": \"car\",\n",
    "    \"convertible\": \"car\",\n",
    "    \"truck\": \"truck\",\n",
    "    \"van\": \"van\",\n",
    "    \"motorcycle\": \"motorcycle\",\n",
    "    \"bus\": \"bus\",\n",
    "    \"station wagon/sport utility vehicle\": \"car\",\n",
    "    \"bike\": \"bike\",\n",
    "    \"passenger vehicle\": \"bus\",\n",
    "    \"pick-up\": \"truck\",\n",
    "    \"taxi\": \"taxi\"\n",
    "\n",
    "}"
   ]
  },
  {
   "cell_type": "code",
   "execution_count": 0,
   "metadata": {
    "application/vnd.databricks.v1+cell": {
     "cellMetadata": {
      "byteLimit": 2048000,
      "rowLimit": 10000
     },
     "inputWidgets": {},
     "nuid": "05b2d5dd-88f5-4028-aee3-4cc1a4fcda7d",
     "showTitle": false,
     "title": ""
    }
   },
   "outputs": [
    {
     "output_type": "stream",
     "name": "stdout",
     "output_type": "stream",
     "text": [
      "+-----------------------------------+-----------------------------------+\n|VEHICLE_TYPE                       |GENERAL_VEHICLE_TYPE               |\n+-----------------------------------+-----------------------------------+\n|passenger vehicle                  |passenger vehicle                  |\n|station wagon/sport utility vehicle|station wagon/sport utility vehicle|\n|taxi                               |taxi                               |\n|passenger vehicle                  |passenger vehicle                  |\n|passenger vehicle                  |passenger vehicle                  |\n|4 dr sedan                         |others                             |\n|bus                                |bus                                |\n|station wagon/sport utility vehicle|station wagon/sport utility vehicle|\n|passenger vehicle                  |passenger vehicle                  |\n|passenger vehicle                  |passenger vehicle                  |\n|convertible                        |convertible                        |\n|passenger vehicle                  |passenger vehicle                  |\n|sedan                              |sedan                              |\n|sedan                              |sedan                              |\n|bike                               |bike                               |\n|bicycle                            |others                             |\n|station wagon/sport utility vehicle|station wagon/sport utility vehicle|\n|passenger vehicle                  |passenger vehicle                  |\n|station wagon/sport utility vehicle|station wagon/sport utility vehicle|\n|station wagon/sport utility vehicle|station wagon/sport utility vehicle|\n+-----------------------------------+-----------------------------------+\nonly showing top 20 rows\n\n"
     ]
    }
   ],
   "source": [
    "df_vehicle=df_drop.select(F.col(\"VEHICLE_TYPE\"))\n",
    "\n",
    "df_vehicle = df_vehicle.withColumn(\n",
    "    \"GENERAL_VEHICLE_TYPE\", \n",
    "    F.when(df_vehicle[\"VEHICLE_TYPE\"].isin(*vehicle_type_mapping.keys()), df_vehicle[\"VEHICLE_TYPE\"]).otherwise(\"others\")\n",
    ")\n",
    "\n",
    "# Show the DataFrame with the new column\n",
    "df_vehicle.show(truncate=False)"
   ]
  },
  {
   "cell_type": "code",
   "execution_count": 0,
   "metadata": {
    "application/vnd.databricks.v1+cell": {
     "cellMetadata": {
      "byteLimit": 2048000,
      "rowLimit": 10000
     },
     "inputWidgets": {},
     "nuid": "a2f25c1a-e82d-4005-96ae-0ee14b608eed",
     "showTitle": false,
     "title": ""
    }
   },
   "outputs": [
    {
     "output_type": "stream",
     "name": "stdout",
     "output_type": "stream",
     "text": [
      "+-----------------------------------+-----------------------------------+\n|VEHICLE_TYPE                       |GENERAL_VEHICLE_TYPE               |\n+-----------------------------------+-----------------------------------+\n|passenger vehicle                  |passenger vehicle                  |\n|station wagon/sport utility vehicle|station wagon/sport utility vehicle|\n|taxi                               |taxi                               |\n|passenger vehicle                  |passenger vehicle                  |\n|passenger vehicle                  |passenger vehicle                  |\n|4 dr sedan                         |others                             |\n|bus                                |bus                                |\n|station wagon/sport utility vehicle|station wagon/sport utility vehicle|\n|passenger vehicle                  |passenger vehicle                  |\n|passenger vehicle                  |passenger vehicle                  |\n|convertible                        |convertible                        |\n|passenger vehicle                  |passenger vehicle                  |\n|sedan                              |sedan                              |\n|sedan                              |sedan                              |\n|bike                               |bike                               |\n|bicycle                            |others                             |\n|station wagon/sport utility vehicle|station wagon/sport utility vehicle|\n|passenger vehicle                  |passenger vehicle                  |\n|station wagon/sport utility vehicle|station wagon/sport utility vehicle|\n|station wagon/sport utility vehicle|station wagon/sport utility vehicle|\n|sedan                              |sedan                              |\n|sport utility / station wagon      |others                             |\n|pick-up truck                      |others                             |\n|passenger vehicle                  |passenger vehicle                  |\n|passenger vehicle                  |passenger vehicle                  |\n|station wagon/sport utility vehicle|station wagon/sport utility vehicle|\n|passenger vehicle                  |passenger vehicle                  |\n|passenger vehicle                  |passenger vehicle                  |\n|sedan                              |sedan                              |\n|other                              |others                             |\n|bicycle                            |others                             |\n|station wagon/sport utility vehicle|station wagon/sport utility vehicle|\n|sport utility / station wagon      |others                             |\n|passenger vehicle                  |passenger vehicle                  |\n|taxi                               |taxi                               |\n|other                              |others                             |\n|taxi                               |taxi                               |\n|sedan                              |sedan                              |\n|station wagon/sport utility vehicle|station wagon/sport utility vehicle|\n|sport utility / station wagon      |others                             |\n|bike                               |bike                               |\n|taxi                               |taxi                               |\n|sedan                              |sedan                              |\n|passenger vehicle                  |passenger vehicle                  |\n|station wagon/sport utility vehicle|station wagon/sport utility vehicle|\n|sport utility / station wagon      |others                             |\n|passenger vehicle                  |passenger vehicle                  |\n|sedan                              |sedan                              |\n|sport utility / station wagon      |others                             |\n|sport utility / station wagon      |others                             |\n+-----------------------------------+-----------------------------------+\nonly showing top 50 rows\n\n"
     ]
    }
   ],
   "source": [
    "df_vehicle.show(50,truncate=False)"
   ]
  },
  {
   "cell_type": "code",
   "execution_count": 0,
   "metadata": {
    "application/vnd.databricks.v1+cell": {
     "cellMetadata": {
      "byteLimit": 2048000,
      "rowLimit": 10000
     },
     "inputWidgets": {},
     "nuid": "8d757e71-d206-475d-8058-a1031204d8db",
     "showTitle": false,
     "title": ""
    }
   },
   "outputs": [],
   "source": [
    "df_vehicle_count = df_vehicle.select(F.col(\"GENERAL_VEHICLE_TYPE\")).groupBy(\"GENERAL_VEHICLE_TYPE\").agg(F.count(\"*\").alias(\"count\")).orderBy(\"GENERAL_VEHICLE_TYPE\")"
   ]
  },
  {
   "cell_type": "code",
   "execution_count": 0,
   "metadata": {
    "application/vnd.databricks.v1+cell": {
     "cellMetadata": {
      "byteLimit": 2048000,
      "rowLimit": 10000
     },
     "inputWidgets": {},
     "nuid": "5faf73a6-d75d-4231-b594-d225705af099",
     "showTitle": false,
     "title": ""
    }
   },
   "outputs": [
    {
     "output_type": "stream",
     "name": "stdout",
     "output_type": "stream",
     "text": [
      "+--------------------+-------+\n|GENERAL_VEHICLE_TYPE|  count|\n+--------------------+-------+\n|                bike|  47157|\n|                 bus|  67491|\n|         convertible|   6513|\n|          motorcycle|  23451|\n|              others| 818521|\n|   passenger vehicle| 770753|\n|             pick-up|      7|\n|               sedan|1042336|\n|station wagon/spo...| 830944|\n|                 suv|     24|\n|                taxi| 152554|\n|               truck|    660|\n|                 van|  68555|\n+--------------------+-------+\n\n"
     ]
    }
   ],
   "source": [
    "df_vehicle_count.show()"
   ]
  },
  {
   "cell_type": "code",
   "execution_count": 0,
   "metadata": {
    "application/vnd.databricks.v1+cell": {
     "cellMetadata": {
      "byteLimit": 2048000,
      "rowLimit": 10000
     },
     "inputWidgets": {},
     "nuid": "8c5facfa-8162-415c-968b-081b709b68b1",
     "showTitle": false,
     "title": ""
    }
   },
   "outputs": [],
   "source": [
    "df_vehicle_count = df_vehicle_count.toPandas()"
   ]
  },
  {
   "cell_type": "code",
   "execution_count": 0,
   "metadata": {
    "application/vnd.databricks.v1+cell": {
     "cellMetadata": {
      "byteLimit": 2048000,
      "rowLimit": 10000
     },
     "inputWidgets": {},
     "nuid": "4d7564f9-7d1d-4425-b452-70b102e7b885",
     "showTitle": false,
     "title": ""
    }
   },
   "outputs": [
    {
     "output_type": "display_data",
     "data": {
      "image/png": "[encoded data removed]"
     },
     "metadata": {
      "application/vnd.databricks.v1+output": {
       "addedWidgets": {},
       "arguments": {},
       "data": "data:image/png;base64,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\n",
       "datasetInfos": [],
       "metadata": {},
       "removedWidgets": [],
       "type": "image"
      }
     },
     "output_type": "display_data"
    },
    {
     "output_type": "stream",
     "name": "stdout",
     "output_type": "stream",
     "text": [
      "<Figure size 1440x432 with 0 Axes>"
     ]
    }
   ],
   "source": [
    "df_vehicle_count.plot(kind = 'barh', x='GENERAL_VEHICLE_TYPE',y='count')\n",
    "plt.title(\"CRASH DISTRIBUTION BY VEHICLE_TYPE\")\n",
    "plt.xlabel(\"VEHICLE_TYPE\")\n",
    "plt.ylabel(\"count\")\n",
    "plt.figure(figsize=(20, 6))\n",
    "plt.show()"
   ]
  },
  {
   "cell_type": "code",
   "execution_count": 0,
   "metadata": {
    "application/vnd.databricks.v1+cell": {
     "cellMetadata": {
      "byteLimit": 2048000,
      "rowLimit": 10000
     },
     "inputWidgets": {},
     "nuid": "af88b575-6707-4ff2-895a-0b17c4bcd866",
     "showTitle": false,
     "title": ""
    }
   },
   "outputs": [],
   "source": [
    "#doing top 10 for better values\n",
    "top_10_vehicles = df_drop.groupBy(\"VEHICLE_TYPE\").count()"
   ]
  },
  {
   "cell_type": "code",
   "execution_count": 0,
   "metadata": {
    "application/vnd.databricks.v1+cell": {
     "cellMetadata": {
      "byteLimit": 2048000,
      "rowLimit": 10000
     },
     "inputWidgets": {},
     "nuid": "f466e0b8-7174-4d34-ae76-be5d6cb9e199",
     "showTitle": false,
     "title": ""
    }
   },
   "outputs": [
    {
     "output_type": "stream",
     "name": "stdout",
     "output_type": "stream",
     "text": [
      "+-----------------------------------+-------+\n|VEHICLE_TYPE                       |count  |\n+-----------------------------------+-------+\n|sedan                              |1042336|\n|station wagon/sport utility vehicle|830944 |\n|passenger vehicle                  |770753 |\n|sport utility / station wagon      |337927 |\n|taxi                               |152554 |\n|pick-up truck                      |92187  |\n|4 dr sedan                         |73577  |\n|van                                |68555  |\n|bus                                |67491  |\n|box truck                          |53663  |\n+-----------------------------------+-------+\n\n"
     ]
    }
   ],
   "source": [
    "top_10_vehicles = top_10_vehicles.orderBy(F.col(\"count\").desc()).limit(20)\n",
    "top_10_vehicles.show(truncate=False)"
   ]
  },
  {
   "cell_type": "code",
   "execution_count": 0,
   "metadata": {
    "application/vnd.databricks.v1+cell": {
     "cellMetadata": {
      "byteLimit": 2048000,
      "rowLimit": 10000
     },
     "inputWidgets": {},
     "nuid": "928924c2-0af7-48ea-b520-325e94ea7e70",
     "showTitle": false,
     "title": ""
    }
   },
   "outputs": [],
   "source": [
    "top_10_vehicles =top_10_vehicles.toPandas()"
   ]
  },
  {
   "cell_type": "code",
   "execution_count": 0,
   "metadata": {
    "application/vnd.databricks.v1+cell": {
     "cellMetadata": {
      "byteLimit": 2048000,
      "rowLimit": 10000
     },
     "inputWidgets": {},
     "nuid": "03087f61-9a43-4f2c-9987-bcfc15122fb5",
     "showTitle": false,
     "title": ""
    }
   },
   "outputs": [
    {
     "output_type": "display_data",
     "data": {
      "image/png": "[encoded data removed]"
     },
     "metadata": {
      "application/vnd.databricks.v1+output": {
       "addedWidgets": {},
       "arguments": {},
       "data": "data:image/png;base64,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\n",
       "datasetInfos": [],
       "metadata": {},
       "removedWidgets": [],
       "type": "image"
      }
     },
     "output_type": "display_data"
    },
    {
     "output_type": "stream",
     "name": "stdout",
     "output_type": "stream",
     "text": [
      "<Figure size 1440x432 with 0 Axes>"
     ]
    }
   ],
   "source": [
    "top_10_vehicles.plot(kind = 'barh', x='VEHICLE_TYPE',y='count')\n",
    "plt.title(\"CRASH DISTRIBUTION BY VEHICLE_TYPE\")\n",
    "plt.xlabel(\"VEHICLE_TYPE\")\n",
    "plt.ylabel(\"count\")\n",
    "plt.figure(figsize=(20, 6))\n",
    "plt.show()"
   ]
  },
  {
   "cell_type": "code",
   "execution_count": 0,
   "metadata": {
    "application/vnd.databricks.v1+cell": {
     "cellMetadata": {
      "byteLimit": 2048000,
      "rowLimit": 10000
     },
     "inputWidgets": {},
     "nuid": "46155201-cdb0-4817-8d6f-453b1fa87180",
     "showTitle": false,
     "title": ""
    }
   },
   "outputs": [],
   "source": [
    "#pre_crash"
   ]
  },
  {
   "cell_type": "code",
   "execution_count": 0,
   "metadata": {
    "application/vnd.databricks.v1+cell": {
     "cellMetadata": {
      "byteLimit": 2048000,
      "rowLimit": 10000
     },
     "inputWidgets": {},
     "nuid": "252c26aa-0925-4d72-8cb0-17fa26411b18",
     "showTitle": false,
     "title": ""
    }
   },
   "outputs": [
    {
     "output_type": "stream",
     "name": "stdout",
     "output_type": "stream",
     "text": [
      "Out[46]: 920209"
     ]
    }
   ],
   "source": [
    "df3.where(F.col(\"PRE_CRASH\").isNull()).count()"
   ]
  },
  {
   "cell_type": "code",
   "execution_count": 0,
   "metadata": {
    "application/vnd.databricks.v1+cell": {
     "cellMetadata": {
      "byteLimit": 2048000,
      "rowLimit": 10000
     },
     "inputWidgets": {},
     "nuid": "81bd5ede-ab30-4978-8f93-9324f982a828",
     "showTitle": false,
     "title": ""
    }
   },
   "outputs": [
    {
     "output_type": "stream",
     "name": "stdout",
     "output_type": "stream",
     "text": [
      "Out[47]: 3249681"
     ]
    }
   ],
   "source": [
    "df_precrash = df3.filter(F.col(\"PRE_CRASH\").isNotNull())\n",
    "df_precrash.count()"
   ]
  },
  {
   "cell_type": "code",
   "execution_count": 0,
   "metadata": {
    "application/vnd.databricks.v1+cell": {
     "cellMetadata": {
      "byteLimit": 2048000,
      "rowLimit": 10000
     },
     "inputWidgets": {},
     "nuid": "42c96e49-07d6-4985-bb3f-98a50a9383a2",
     "showTitle": false,
     "title": ""
    }
   },
   "outputs": [
    {
     "output_type": "stream",
     "name": "stdout",
     "output_type": "stream",
     "text": [
      "Out[48]: 19"
     ]
    }
   ],
   "source": [
    "df_precrash.select(F.col(\"PRE_CRASH\")).distinct().count()"
   ]
  },
  {
   "cell_type": "code",
   "execution_count": 0,
   "metadata": {
    "application/vnd.databricks.v1+cell": {
     "cellMetadata": {
      "byteLimit": 2048000,
      "rowLimit": 10000
     },
     "inputWidgets": {},
     "nuid": "a5ac8e8e-d627-482d-b449-60db4d4bba93",
     "showTitle": false,
     "title": ""
    }
   },
   "outputs": [
    {
     "output_type": "stream",
     "name": "stdout",
     "output_type": "stream",
     "text": [
      "+--------------------+\n|           PRE_CRASH|\n+--------------------+\n|Making Right Turn...|\n|             Merging|\n| Starting in Traffic|\n|             Passing|\n|       Making U Turn|\n|Starting from Par...|\n|  Stopped in Traffic|\n|              Other*|\n|             Backing|\n|Making Left Turn ...|\n|    Making Left Turn|\n|Entering Parked P...|\n|Going Straight Ahead|\n|      Police Pursuit|\n|      Changing Lanes|\n| Slowing or Stopping|\n|Avoiding Object i...|\n|              Parked|\n|   Making Right Turn|\n+--------------------+\n\n"
     ]
    }
   ],
   "source": [
    "df_precrash.select(F.col(\"PRE_CRASH\")).distinct().show()"
   ]
  },
  {
   "cell_type": "code",
   "execution_count": 0,
   "metadata": {
    "application/vnd.databricks.v1+cell": {
     "cellMetadata": {
      "byteLimit": 2048000,
      "rowLimit": 10000
     },
     "inputWidgets": {},
     "nuid": "d0295e3b-3882-40bd-9a7a-f67e83a00328",
     "showTitle": false,
     "title": ""
    }
   },
   "outputs": [],
   "source": [
    "df_pre_crash_count = df_precrash.select(F.col(\"PRE_CRASH\")).groupBy(\"PRE_CRASH\").agg(F.count(\"*\").alias(\"count\")).orderBy(\"PRE_CRASH\")"
   ]
  },
  {
   "cell_type": "code",
   "execution_count": 0,
   "metadata": {
    "application/vnd.databricks.v1+cell": {
     "cellMetadata": {
      "byteLimit": 2048000,
      "rowLimit": 10000
     },
     "inputWidgets": {},
     "nuid": "698eecbe-f20d-4b8e-aa8a-b6aaea4c70cf",
     "showTitle": false,
     "title": ""
    }
   },
   "outputs": [
    {
     "output_type": "stream",
     "name": "stdout",
     "output_type": "stream",
     "text": [
      "+--------------------+-------+\n|           PRE_CRASH|  count|\n+--------------------+-------+\n|Avoiding Object i...|   3558|\n|             Backing| 110951|\n|      Changing Lanes|  95346|\n|Entering Parked P...|  40763|\n|Going Straight Ahead|1590661|\n|    Making Left Turn| 200217|\n|Making Left Turn ...|    998|\n|   Making Right Turn| 164672|\n|Making Right Turn...|    892|\n|       Making U Turn|  28536|\n|             Merging|  53019|\n|              Other*|  34882|\n|              Parked| 558116|\n|             Passing|  34310|\n|      Police Pursuit|   1350|\n| Slowing or Stopping| 115326|\n|Starting from Par...|  53230|\n| Starting in Traffic|  12961|\n|  Stopped in Traffic| 149893|\n+--------------------+-------+\n\n"
     ]
    }
   ],
   "source": [
    "df_pre_crash_count.show()"
   ]
  },
  {
   "cell_type": "code",
   "execution_count": 0,
   "metadata": {
    "application/vnd.databricks.v1+cell": {
     "cellMetadata": {
      "byteLimit": 2048000,
      "rowLimit": 10000
     },
     "inputWidgets": {},
     "nuid": "e19edac4-ffe5-4949-84c6-0592270409c2",
     "showTitle": false,
     "title": ""
    }
   },
   "outputs": [],
   "source": [
    "pd_pre_crash_count = df_pre_crash_count.toPandas()\n"
   ]
  },
  {
   "cell_type": "code",
   "execution_count": 0,
   "metadata": {
    "application/vnd.databricks.v1+cell": {
     "cellMetadata": {
      "byteLimit": 2048000,
      "rowLimit": 10000
     },
     "inputWidgets": {},
     "nuid": "3017e8ab-2e41-4ff9-bd3c-ff9ffd07be07",
     "showTitle": false,
     "title": ""
    }
   },
   "outputs": [
    {
     "output_type": "stream",
     "name": "stderr",
     "output_type": "stream",
     "text": [
      "No artists with labels found to put in legend.  Note that artists whose label start with an underscore are ignored when legend() is called with no argument.\n"
     ]
    },
    {
     "output_type": "display_data",
     "data": {
      "image/png": "[encoded data removed]"
     },
     "metadata": {
      "application/vnd.databricks.v1+output": {
       "addedWidgets": {},
       "arguments": {},
       "data": "data:image/png;base64,iVBORw0KGgoAAAANSUhEUgAABQsAAAGDCAYAAACMb0ZlAAAAOXRFWHRTb2Z0d2FyZQBNYXRwbG90bGliIHZlcnNpb24zLjUuMSwgaHR0cHM6Ly9tYXRwbG90bGliLm9yZy/YYfK9AAAACXBIWXMAAAsTAAALEwEAmpwYAABnrElEQVR4nOzdebheVXn38e9PgoYAghILKmoUEQxTgICioKCIihMUFRGr1IFailOLb2mtilNF0aqo1KJFmUREQRFRKUoEkSkhIWHSOmCNihoEZIbE+/1jryMPx3NynpOcIcP3c13nOvtZe+217v2cXU1v77V2qgpJkiRJkiRJetBkByBJkiRJkiRp1WCyUJIkSZIkSRJgslCSJEmSJElSY7JQkiRJkiRJEmCyUJIkSZIkSVJjslCSJEmSJEkSYLJQkiRJkiRJUmOyUJIkSZIkSRJgslCSJGlUkrwyydwktyf5TZJvJdm9nTsqyX3t3C1JfphktyHG+EKSpUkeOah94yQnJLkxyW1JfpzkyJ7zleSJg645Kskpw8Q6o11ze/v5bZJzkjxnUL8bkuzdjh+c5KNJFrdrbkjy8Xbu9p6fPyW5q+fzwSPdf5I9kyzu+Twnyd2t/61JLkyy3aDv6f3D3NOUPuM5pefaJHl7kv9tff8vyQeTPGTQnJVk1562Jyapob7jnu9vYO6bk3wzyWOSbJpkSZI9B/U/IcmXhhmrktzRxvpVkv9Iss4Q89zYYt1gUOz3Dvperhou7p7rHty+q/9tc9/QYpwxxN9pSZIzh3h2k+RnSa4dYvxtkpyX5A/tuZiXZN927gHPRM81c5K8fqTYW9/Ht7//fw5x7qFJPt7+1rcn+Wn7PH1VeX4kSVrVmCyUJEnqU5J/BD4O/DuwKfBY4DjgJT3dTq+qDYDpwAXAGYPGWB84ALgVeNWgKT4GbAA8GdgIeDHwkzEIfeMW0w7A/wBnJTlkmL7/AswGdgU2BPYErgSoqg0GfoD/A17U03Zqu3659z+Ew1v/hwNzgJP7vak+4+l1LHAo8Op2b88Hng18eVC/PwDvZ3Re1OJ4JPBb4JNV9VvgbcBnk6wHkOTZwAuBNy1nrB3aWM8GXgm8YYh5ZgE70v29en2493upqh36iP0rdM/aK+meux2AeW3+AQN/pyfSPaMfGTTGM4C/Ap6QZJdB575B99xt1vq8GfhjH3H169XAzcCBgxJ3Dwa+C2wDPA94KLAbcBOw6yr2/EiStMowWShJktSHJBsB7wX+oarOrKo7quq+qvpGVb19cP+qWgqcCjw6ySN6Th0A3NLGes2gy3YBvlhVN1fVn6rq+qr6yljdQ1XdWFWfAI4CPpRkqH8L7gKcVVW/rs4NVXXSCsw13P0P138Z8CVg5mjn6keSLYHDgIOr6pKqWlpV19D9PZ6X5Fk93U8Etk/yzNHOU1V30yXfZrbPJwM/At7bEob/Bby5qn7fx1jXAxcB2w5x7kbgO3RJwxWWrqL0OcBLquqK9r3cWlWfrqr/HmLeW4CvDTHva4CvA+fS81wnmQ48HvhsVd3bfi6uqh+sTNw944cuefdvwH3Ai3pOv5ouob9/VV3b/m/qd1X1vqo6d5TzTMjzI0nSqsBkoSRJUn92A6YCZ/XTuVU1vZquiunmnlOvAU6jS4xtnWTnnnOXAh9I8rctOTFezqSr8NpqiHOXAv+Y5LAk27VkzKgt5/6X1//gNv94eDawuKou722sql+2OXuXZt9JVz36gdFOkmQacCAPvI83Aq+l+5tfXVVDLkEeYqyZwB7A/CHObU5X2baylad7A5e376GfmDYB/rp33nbPL6VLDp8KvKL9PaH7+/8EOCXJfkk2Xcl4B9sd2Jzuu/0yD0zA7w18u6puH4N5JuT5kSRpVWCyUJIkqT+bAEtaxdzyvDzJLcBddMtHXzpwTZLHAnvRVQ/+lm6J5Kt7rn0TXbLlcODaJD9J8vxB41/Z9n27pc1zJKP36/b74UOc+yDwIbrE3VzgV0kGV0Auz7D3P4xjW//b6O77PaOYazSmA78Z5txv2vle/wU8dojvfzhfa/dxK13i6JiBE1W1GHgXXfLq7/sY68okN9Mt3/0c8PlB89wG/BL4HfDuQdce0ft8JDlxhLk2YfjvpdexSW4FltB9V73LqP8auAc4D/gmsC7wAoCqKrpn/gbgo8Bv0u1N2ZsMf9SgmG+hSwL24zXAt6rqZuCLdFV+fzXKe+vHeD8/kiStMkwWSpIk9ecmYHqSKSP0+3JVbUy3p+HVQG/l4N8A11XVgvb5VOCVSdYFqKq7qurfq2pnukTHl4EzkvQm9Xaqqo0HfoCjV+BeHt1+/2Hwiapa1pagPh3YmK466oQkT+5z7OXd/1De3PqvR7eX31eSbN/OLaVLPPVaF/hT+xmNJXT7CQ7lke38n1XVPcD72k8/9mv3MZUu6fn9JJv1nL8GuLmq+kle7VRVD6uqLarq36qq9173q6qBvSS35i+TVB/pfT6qaqRE700M/730enNVbQRsDzyMrppvwGvo/u5L2zLsr9JT4VdVi6vq8KraAngccAfQu7T914Ni3hgYcZlyW9b9Mrr/O6KqLqHbe/CVo7y3foz38yNJ0irDZKEkSVJ/LqGrntqvn85VtYTuZQhH5f43x76a7gUQNya5EfgPumTPvkNc/0e6pYzr0+35Npb2p6tK+9HyOrXk5afplhGPai/BYe5/ef3/VFUX0S1Z3ac1/x8wY1DXxwO/HJRA68f3gMf0vqUWIMljgKfSVXkO9nm6hOlf9ztJS7aeCSyj/+q4Uauq7wNf4C9fNDJa5wO7tmXN/cy7iO7lHZ9ubwfeHHgW8Kqe5/qlwL5tv8LB1/8S+DRD7MO4Avane2nJcT1zP5r7E5XnA89tLxVaWRPy/EiStCowWShJktSHqrqVbinpp9vea9OSrJvk+Uk+PMw1P6J7CcX/S7IbsAXdW4ZntZ9t6ZZOvhogyTuT7JLkwUmmAm+hexnKcpN6/UqyaZLD6Zau/stQCbckb02yZ5L1kkxpS5A3ZIh980bSe/99xrcbXVLymtb0VeAFSfZJsk6SR9G9yKKvPf8GxfJj4DPAqUme2sbbps1xflWdP8Q1S+m+q3/ud56WQHsJXfXddaONc5Q+DjwnST9vPB5Su++BN2Tv3P7mGyZ5Y5LXDnPZiXSVoy+mq5b9Md3+l7Paz5OAxcBBSR6W5D1JnpjkQS2B+FrGZm/K1wAnANv1zP10YIck29G9WfuXwFeTbN3m3yTJvyb5iwT98kzU8yNJ0qrAZKEkSVKfquqjwD/SJax+T5eIOJzu7bDDOYauwu4NwNeralF7K/GN7Y22nwBe2JYaF1010hK6fQWfA7xgDF7QcEuSO4BFdFWML6uqE4bpeyfd3nI3tjj+ATigqn62gnMfAxzas4/cYJ9KcnuS2+mSO/9WVd8CaG+bPYhuH8U/0FV3XsaK72t4ON0egKcAtwPfBubQvdF2OKfR375332j38Ee6pduvafGPm/ZG5ZPoktgD/t/A99l+lgxzea+X0r3F+HS6PRevBmbTVeYNNe+9dM/tO+kSdsf1PtPtuf5MO3cvXXXo+XTfzdV0FbqHjPJ2HyDJo+leOvLxQXPPo/u7vqYtBd4buJ4uIfpH4HK6at7LVmDa8Xx+JElaZaTbc1iSJEmSJEnS2s7KQkmSJEmSJEmAyUJJkiRpjZbk4EFLkwd+xnWZ9Fho+wsOFfu3Jjs2SZLWVC5DliRJkiRJkgRYWShJkiRJkiSpmTLZAUjLM3369JoxY8ZkhyFJkiRJkrTGmDdv3pKqesRQ50wWapU2Y8YM5s6dO9lhSJIkSZIkrTGS/GK4cy5DliRJkiRJkgSYLJQkSZIkSZLUmCyUJEmSJEmSBLhnoSRJkiRJkrTauu+++1i8eDF33333X5ybOnUqm2++Oeuuu27f45kslCRJkiRJklZTixcvZsMNN2TGjBkk+XN7VXHTTTexePFiHv/4x/c9nsuQJUmSJEmSpNXU3XffzSabbPKARCFAEjbZZJMhKw6Xx2ShJEmSJEmStBobnCgcqX15TBZKkiRJkiRJAkwWSpIkSZIkSWpMFkqSJEmSJEmrsaoaVfvymCyUJEmSJEmSVlNTp07lpptu+ovE4MDbkKdOnTqq8aaMZXCSJEmSJEmSJs7mm2/O4sWL+f3vf/8X56ZOncrmm28+qvFMFmqVduOdSzl6/hKO3HH6ZIciSZIkSZK0yll33XV5/OMfP2bjuQxZkiRJkiRJEmCyUJIkSZIkSVIz7snCJPslqSRbr8QY5ybZeIj2o5Ic0Y7fm2TvlQi1d9yNkpyU5CdJftqON2rn9kxyzmji7GO+PZM8bZhzL05y5CjHW5ZkQZKrk3xjRWIaZtzbx2IcSZIkSZIkrZomorLwIOAH7fcKqap9q+qWEfq8q6rOX9E5Bvlv4GdV9cSq2gL4OfC5kS7qJ85h7AkMmSysqrOr6uhRjndXVc2qqm2BPwD/sAIxSZIkSZIkaS0zrsnCJBsAuwOvA17R2p6X5IyePn+u1EtyUJJFrSLuQz19bkgyvR2/I8mPk/wA2KqnzxeSvLSn/3uSXNnG27q1PyLJ/yS5JsnnkvxiYNyecZ4I7Ay8r6f5vcDsJFu0zw9N8s0kP0rymSQPGiLOVyW5vFX4/VeSdXru/8okVyX5bpIZwBuBt7W+ewyK55Akn+q5x2OT/DDJzwbudwSXAI9u189KcmmShUnOSvKw1v6GJFe0mL6aZFprf3ySS9p3+P6emD6d5MXt+KwkJ7Tj1yb5QDv+WpJ57bs+tOf8x3vGeUOSj/VxD5IkSZIkSZoA411Z+BLg21X1Y+CmJDsD5wNPSbJ+63Mg8KUkjwI+BDwLmAXskmS/3sHa9a9o5/cFdlnO3EuqaifgP4EjWtu7ge9V1TbAV4DHDnHdTGBBVS0baGjHC4BtWtOuwJta3y2Avx4U55PbfT29qmYBy4CDkzwC+CxwQFXtALysqm4APgN8rFUDXrScewJ4JF0C9oXAcisOW4Ly2cDZrekk4J+rantgUfs+AM6sql1aTNfRJXcBPgH8Z1VtB/ymZ+iLgIGk5qPb90Bru7Adv7aqdgZmA29OsgnwZeBFSdZtff4WOGGE+5UkSZIkSdIEGe9k4UHAl9rxl4CDqmop8G26pNEU4AXA1+kSf3Oq6vetz6nAMwaNtwdwVlXdWVV/5P4k2FDObL/nATPa8e4D8VTVt4GbV/C+Lq+qn7Uk4mlt3F7PpqtOvCLJgvb5CcBTgQur6ucthj+swNxfq6o/VdW1wKbD9FmvzXtj6/M/bc/Fjavq+63Pidz//W6b5KIki4CDuT8p+vR2fwAn94x/EbBHkpnAtcBvkzwS2A34Yevz5iRXAZcCjwG2rKrbge8BL2zVnutW1aLBwSc5NMncJHPvuPmmfr8XSZIkSZIkraQp4zVwkofTVQlul6SAdYBK8na6hN3hdPvpza2q25KMdQj3tN/LGN19XgvMSvKgqvoTQFtmPKud2xyoQdcM/hzgxKr6lwc0Ji8aRRzDuafneLgv7a6qmtWWE3+Hbs/CE5cz5heA/arqqiSH0O2hOGDwvVFVv2ovTXkeXSXhw4GXA7e3v+WewN7AblV1Z5I5wNR2+eeAfwWuBz4/VDBVdTxwPMDmM2f9xfySJEmSJEkaH+NZWfhS4OSqelxVzaiqx9C9KGQP4PvATsAbuL/y8HLgmUmmt+WzB7V+vS4E9kuyXpINgdEm3y6mS2qRZB/gYYM7VNVPgPnAv/U0/xtwZTsHsGvbz+9BdMuNfzBomO8CL03yV22uhyd5HF2V3TOSPH6gvfW/DdhwlPcyoqq6E3gz8E/AHcDNPXsi/g33f78bAr9py4MP7hniYtpek4PaobuXt9L9TS6iW+o9sIR6I+Dmlijcmq6iciCmy+gqDV/J/VWLkiRJkiRJWgWMZ7LwIOCsQW1fpVuKvAw4B3h++01V/QY4ErgAuAqYV1Vf7724qq4ETm/nvwVcMcqY3gPsk+Rq4GV0y3RvG6Lf64AnJflpkp8CT+L+ffxo836Kbn+/nw+6z2pLhP8NOC/JQuB/gEdW1e+BQ4Ez2xLd09s13wD2H+oFJyurquYDC+n+Hq8BjmkxzaJ7cQvAO4HL6JKD1/dc/hbgH9ry5EcPGvoiYEpLoF5JV104kCz8NjAlyXV0+ypeOujaLwMXV9WKLgOXJEmSJEnSOEjV2rPKM8lDgGVVtTTJbnQv75g1RmOvA/wO2Kyq7huLMddU6d5+/bGq+u5IfTefOasOP/V8jtxx+khdJUmSJEmS1Ick86pq9lDnxm3PwlXUY4Evt+XD99Itgx4r1wCfM1E4vLbP4eXAVf0kCiVJkiRJkjSx1qpkYVX9L7DjOI299XiMuyapqlvolnT3bbNpU6wqlCRJkiRJmiDjuWehJEmSJEmSpNWIyUJJkiRJkiRJwFq2DFmrnxvvXMrR85dMdhirPJdqS5IkSZKksWBloSRJkiRJkiTAZKEkSZIkSZKkxmThWiLJsiQLklyV5MokT1vBcb6Q5KVDtH8uycyVj1SSJEmSJEmTxT0L1x53VdUsgCTPBT4IPHOsBq+q14/VWJIkSZIkSZocVhaunR4K3AyQZIMk323VhouSvGSgU5JXJ1nYqhFPHjxIkve1SsN1ksxJMru1357kA+26S5Ns2tq3aJ8XJXl/ktsn6H4lSZIkSZLUB5OFa4/12jLk64HPAe9r7XcD+1fVTsBewEfT2Qb4N+BZVbUD8JbewZIcAzwC+NuqWjZorvWBS9t1FwJvaO2fAD5RVdsBi8f+FiVJkiRJkrQyTBauPe6qqllVtTXwPOCkJAEC/HuShcD5wKOBTYFnAWdU1RKAqvpDz1jvBDaqqjdWVQ0x173AOe14HjCjHe8GnNGOvzhcoEkOTTI3ydw7br5pBW5VkiRJkiRJK8Jk4Vqoqi4BptNVBh7cfu/c9jT8LTB1hCGuAHZO8vBhzt/Xk0Rcxij3xqyq46tqdlXNXv9hm4zmUkmSJEmSJK0Ek4VroSRbA+sANwEbAb+rqvuS7AU8rnX7HvCyJJu0a3oTg98Gjga+mWTDUUx9KXBAO37FStyCJEmSJEmSxoFvQ157rJdkQTsO8JqqWpbkVOAbSRYBc4HrAarqmiQfAL6fZBkwHzhkYLCqOqMlCs9Osm+fMbwVOCXJO+gSjreu/G1JkiRJkiRprGToLeeksZdkGt3eiZXkFcBBVfWS5V2z+cxZdfip509MgKuxI3ecPtkhSJIkSZKk1USSeVU1e6hzVhZqIu0MfKq9WOUW4LWTG44kSZIkSZJ6mSzUhKmqi4AdRnPNZtOmWDUnSZIkSZI0QXzBiSRJkiRJkiTAZKEkSZIkSZKkxmXIWqXdeOdSjp6/ZLLDmDQuwZYkSZIkSRPJykJJkiRJkiRJgMlCSZIkSZIkSY3JwjGSZLMkX0ry0yTzkpyb5ElJ9kxyzgTMf26SjcdgnBlJrh6DkCRJkiRJkrSacc/CMZAkwFnAiVX1ita2A7DpRMVQVftO1FySJEmSJElaM1lZODb2Au6rqs8MNFTVVVV1Ufu4QZKvJLk+yaktuUiSdyW5IsnVSY7vaZ+T5ENJLk/y4yR7tPZpSb6c5NokZyW5LMnsdu6GJNNbZeB1ST6b5Jok5yVZr/XZJcnCJAuSHDOaCsIkb2ixXpXkq0mmtfYvJDk2yQ+T/CzJS3uueXu7ZmGS97S29ZN8s41zdZIDV+aLlyRJkiRJ0tgxWTg2tgXmLef8jsBbgZnAE4Cnt/ZPVdUuVbUtsB7wwp5rplTVru26d7e2w4Cbq2om8E5g52Hm2xL4dFVtA9wCHNDaPw/8XVXNApb1eW8Dzmyx7gBcB7yu59wjgd1b/EcDJNmnxbErMAvYOckzgOcBv66qHdp9f3vwREkOTTI3ydw7br5plGFKkiRJkiRpRZksnBiXV9XiqvoTsACY0dr3atWBi4BnAdv0XHNm+z2vp//uwJcAqupqYOEw8/28qhb0Xt/2M9ywqi5p7V8c5T1sm+SiFuvBg2L9WlX9qaqu5f6l1/u0n/nAlcDWdMnDRcBzWuXkHlV16+CJqur4qppdVbPXf9gmowxTkiRJkiRJK8o9C8fGNcBLl3P+np7jZcCUJFOB44DZVfXLJEcBU4e4Zhmj/zsNnm+9UV4/lC8A+1XVVUkOAfYcZr70/P5gVf3X4IGS7ATsC7w/yXer6r1jEJ8kSZIkSZJWkpWFY+N7wEOSHDrQkGT7gb0GhzGQGFySZAOWn2wccDHw8jb+TGC7fgOsqluA25I8pTW9ot9rmw2B3yRZl66ycCTfAV7b7o0kj07yV0keBdxZVacAxwA7jTIOSZIkSZIkjRMrC8dAVVWS/YGPJ/ln4G7gBrr9Bh89zDW3JPkscDVwI3BFH1MdB5yY5FrgerqKxr9YxrscrwM+m+RPwPeXc+1WSRb3fH4b3R6JlwG/b783XN5EVXVekicDl7T3ttwOvAp4InBMi+E+4O9HEb8kSZIkSZLGUapqsmNQn5KsA6xbVXcn2QI4H9iqqu7t8/oNqur2dnwk8Miqesv4RbzyNp85qw4/9fzJDmPSHLnj9MkOQZIkSZIkrWGSzKuq2UOds7Jw9TINuKAtBQ5wWL+JwuYFSf6F7u/+C+CQsQ9RkiRJkiRJqysrC7VKmz17ds2dO3eyw5AkSZIkSVpjLK+y0BecSJIkSZIkSQJMFkqSJEmSJElq3LNQq7Qb71zK0fOXTMhcvkxEkiRJkiSt7awslCRJkiRJkgSYLJQkSZIkSZLUrBbJwiTLkizo+TlyhP57JnnaCswzO8mxKx7pA8Y6KsmvWrxXJ3nxKK+/IckKrYtNMifJX7zRprX/KMlVSS5OstUKjH1uko3bz2E97Y9K8pUViVeSJEmSJEmrhtVlz8K7qmrWKPrvCdwO/LDfC5JMqaq5wNzRhbZcH6uqjyR5MnBRkr+qqj/1Ecs6YxjDYAdX1dwkhwLHAKNKYlbVvgBJZgCHAce19l8DLx3bUCVJkiRJkjSRVovKwuG06rv3JLkyyaIkW7ck1huBt7Wqvj2SPCLJV5Nc0X6e3q4/KsnJSS4GTm4Vief0nDuhVeP9LMmbe+Z9Z6vQ+0GS05Icsbw4q+o6YCkwPcnXksxLck1L2A2MeXuSjya5Ctitp329JN9K8oYk67eYLk8yP8lLevp8Kcl1Sc4C1uvj67sQeGI6x7Tqx0VJDmxjPjLJhT2VkXv0fOfTgaOBLdr5Y5LMSHJ16zM1yefbePOT7NXaD0lyZpJvJ/nfJB/uI05JkiRJkiRNkNWlsnC9JAt6Pn+wqk5vx0uqaqe2JPaIqnp9ks8At1fVRwCSfJGuyu8HSR4LfAd4crt+JrB7Vd2VZM9B824N7AVsCPwoyX8Cs4ADgB2AdYErgXnLCz7JU4A/Ab8HXltVf0iyHnBFkq9W1U3A+sBlVfVP7RqADYAvASdV1UlJ/h34XlW9NsnGwOVJzgf+Drizqp6cZPsW00heBCwC/rrd0w7A9BbThcArge9U1QdapeO0QdcfCWw7UPHZkrQD/gGoqtouydbAeUme1M7NAnYE7qH7Tj9ZVb8c9H0dChwKsPFmm/dxK5IkSZIkSRoLq0uycHnLkM9sv+fRJb6GsjcwsyXgAB6aZIN2fHZV3TXMdd+sqnuAe5L8DtgUeDrw9aq6G7g7yTeWE/fbkrwKuA04sKoqyZuT7N/OPwbYErgJWAZ8ddD1Xwc+XFWnts/7AC/uqWScCjwWeAZwLEBVLUyycDkxnZrkLuAG4E3APwKnVdUy4LdJvg/sAlwBnJBkXeBrVbVgOWMOtjvwyRbP9Ul+AQwkC79bVbcCJLkWeBzwgGRhVR0PHA+w+cxZNYp5JUmSJEmStBJWl2Th8tzTfi9j+Pt5EPDUluD7s5Y8vKOPsUcafzgfG6hubPPtSZe43K2q7kwyhy7hB3B3S9j1uhh4XpIvVlUBAQ6oqh8NcR/9Orjtzbjca6vqwiTPAF4AfCHJf1TVSaOZaBgr+51KkiRJkiRpnKzWexYux210S4cHnEdXRQdAklkrMfbFwIvavnwbAC8cxbUbATe3ROHWwFNH6P8u4Gbg0+3zd4A3pWX4kuzY2geWDZNkW2D7UcR0EXBgknWSPIKuSvHyJI8DfltVnwU+B+w06LrB3/HgMQ9u8TyJrvrxR8P0lSRJkiRJ0ipidUkWrtdepDHwc/QI/b8B7N/67gG8GZidZGFb+vrGFQ2kqq4AzgYWAt+i2/fv1j4v/zYwJcl1dC8IubSPa95Cd/8fBt5Ht0/iwiTXtM8A/wls0MZ9LyPsoTjIWXT3chXwPeD/VdWNdG+UvirJfOBA4BO9F7V9Fi9uLz85ZtCYxwEPSrIIOB04pC3nliRJkiRJ0ios3epWjUaSDarq9iTT6Kr6Dq2qfl4qolHafOasOvzU8ydkriN3nD4h80iSJEmSJE2mJPOqavZQ59wvbsUcn2Qm3X6DJ5ooHD+bTZtiEk+SJEmSJGmCmCxcAVX1ysmOQZIkSZIkSRprq8uehZIkSZIkSZLGmclCSZIkSZIkSYDLkLWKu/HOpRw9f8lkhyFJkiRJktZSa9u7FKwslCRJkiRJkgSs4cnCJJsm+WKSnyWZl+SSJPuPcM3sJMeO0fxbJZmTZEGS65Ic39pnJdl3BcZ7VJKv9NHv9mHa92tvcV7etQuSfGlQ25wkQ75Oe2UkOSrJEWM9riRJkiRJklbMGpssTBLga8CFVfWEqtoZeAWw+fKuq6q5VfXmMQrjWOBjVTWrqp4MfLK1zwKGTBYmGXZpeFX9uqpeuhLx7AcMmyxM8mRgHWCPJOuvxDySJEmSJElaDa2xyULgWcC9VfWZgYaq+kVVfRIgydQkn0+yKMn8JHu19j2TnNOOj0pyQqus+1mSPycRk7wzyY+S/CDJacNUyD0SWNwz/6IkDwbeCxzYqvgObPOcnORi4OQkM5JclOTK9vO0NueMJFe342lJvpzk2iRnJbmst/ovyQeSXJXk0lZh+TTgxcAxbd4thoj3IOBk4DzgJYPOvSzJ5Ul+nGSPNsc6SY5JckWShUn+rrVvkOS7LfZFSf48VpJ3tDF+AGy1vD+gJEmSJEmSJtaa/IKTbYArl3P+H4Cqqu2SbA2cl+RJQ/TbGtgL2BD4UZL/pKsMPADYAVi3zTNviGs/BnwvyQ/pEnCfr6pbkrwLmF1Vh0OXlKSr+Nu9qu5KMg14TlXdnWRL4DRg8DLgw4Cbq2pmkm2BBT3n1gcurap3JPkw8Iaqen+Ss4Fzqmq4pcwHAs9p9/wm4Is956ZU1a5t+fS7gb2B1wG3VtUuSR4CXJzkPOCXwP5V9cck04FL29w70VV3zqJ79ob73iRJkiRJkjQJ1uTKwgdI8ulWaXdFa9odOAWgqq4HfgEMlSz8ZlXdU1VLgN8BmwJPB75eVXdX1W3AN4aas6o+DzwZOAPYky5p9pBhQjy7qu5qx+sCn02yqF071NLh3YEvtXmuBhb2nLsXOKcdzwNmDDPnn7WqxCVV9X/Ad4Edkzy8p8uZQ4y3D/DqJAuAy4BNgC2BAP+eZCFwPvBouu9tD+Csqrqzqv4InD1MLIcmmZtk7h033zRS6JIkSZIkSRoja3Jl4TV01X8AVNU/tCq3uaMc556e42WM8jurql8DJwAntCXE2w7T9Y6e47cBv6WrXHwQcPdo5gTuq6pqx/3GfBCwdZIb2ueH0n1/n22fB76H3vECvKmqvtM7UJJDgEcAO1fVfW3Mqf0GX1XHA8cDbD5zVo3QXZIkSZIkSWNkTa4s/B4wNcnf97RN6zm+CDgYoC0/fizwoz7Hvhh4Udv3cAPghUN1SvK8JOu2483oKu9+BdxGt6x5OBsBv6mqPwF/Q/fSkaFieHkbeyawXR9xDzlvkge1sbarqhlVNYNuz8KDRhjvO8Df99zjk9qLUTYCftcShXsBj2v9LwT2S7Jekg2BF/URsyRJkiRJkibIGpssbJV1+wHPTPLzJJcDJwL/3LocBzyoLfU9HTikqu4ZcrC/HPsKuiW0C4FvAYuAW4foug9wdZKr6BJrb6+qG4ELgJkDLzgZ4rrjgNe067bmgVWHvX0ekeRa4P10lZRDxdDrS8Db2wtdel9wsgfwq1YFOeDCFuMjlzPe54BrgStb1eR/0VUdngrMbt/tq4HrAarqSrrv+iq67+2KoQaVJEmSJEnS5Mj9q1U1Gkk2qKrb28tILgQObcmwiZp/HWDd9hKULej2Btyqqu6dqBgmwuYzZ9Xhp54/2WFIkiRJkqS11JE7Tp/sEMZcknlVNfhlusCavWfheDu+Lf+dCpw4kYnCZhpwQVsCHOCwNS1RKEmSJEmSpIllsnAFVdUrJ3n+24AhM8Brks2mTVkjM/iSJEmSJEmrojV2z0JJkiRJkiRJo2OyUJIkSZIkSRLgMmSt4m68cylHz18y2WFoFePSdEmSJEmSxoeVhZIkSZIkSZIAk4WSJEmSJEmSGpOFKylJJTml5/OUJL9Pcs4I1x2S5FNDtL8xyavHKLY5Sfp+Y3KS05IsTPK2JG9NMm2IPmclWZDkJ0lubccLkjxtLGKWJEmSJEnS5HHPwpV3B7BtkvWq6i7gOcCvVnSwqvrMmEU2Ckk2A3apqie2zzcApwB39varqv3b+T2BI6rqhaOYY52qWjZGIUuSJEmSJGmMWVk4Ns4FXtCODwJOGziRZNcklySZn+SHSbYafHGSF7Q+05McleSI1j4nyYeSXJ7kx0n2aO3Tknw5ybWt0u+yfisIk6yf5IQ25vwkL2mnzgMe3aoE3w08CrggyQV9jPmAKskk57RkIkluT/LRJFcBu7XPH0hyVZJLk2zaT9ySJEmSJEkafyYLx8aXgFckmQpsD1zWc+56YI+q2hF4F/DvvRcm2R84Eti3qoZ67e+UqtoVeCvw7tZ2GHBzVc0E3gnsPIpY3wF8r425F3BMkvWBFwM/rapZVfUe4NfAXlW11yjGHsr6wGVVtUNV/aB9vrSqdgAuBN6wkuNLkiRJkiRpjLgMeQxU1cIkM+iqCs8ddHoj4MQkWwIFrNtz7lnAbGCfqvrjMMOf2X7PA2a0492BT7S5r06ycBTh7gO8eKB6EZgKPBa4axRjjMYy4Ks9n+8FBvZznEe3bPsBkhwKHAqw8Wabj1NYkiRJkiRJGszKwrFzNvARepYgN+8DLqiqbYEX0SXnBvwU2BB40nLGvaf9XsbYJHcDHNAqCGdV1WOr6rqVHHMpD3yWeu/x7kH7FN5XVdWOh7ynqjq+qmZX1ez1H7bJSoYmSZIkSZKkfpksHDsnAO+pqkWD2jfi/heeHDLo3C+AA4CTkmwzirkuBl4OkGQmsN0orv0O8KYkadfvOEy/2+gSmf24AZiV5EFJHgPsOop4JEmSJEmStIowWThGqmpxVR07xKkPAx9MMp+hq+iuBw4GzkiyRZ/THQc8Ism1wPuBa4Bbh+n7zSSL288ZdJWO6wILk1zTPg/leODb/bzghC55+XPgWuBY4Mo+70OSJEmSJEmrkNy/IlSriyTrAOtW1d0twXg+sFVV3TvJoY25zWfOqsNPPX+yw9Aq5sgdp092CJIkSZIkrbaSzKuq2UOd8wUnq6dpwAVJ1qXbg/CwNTFRKEmSJEmSpIllsnA1VFW30b1FeY232bQpVpFJkiRJkiRNEPcslCRJkiRJkgSYLJQkSZIkSZLUmCzUKu3GO5dOdgiSJEmSJElrDZOFkiRJkiRJkgCThZIkSZIkSZKa1SZZmKSSnNLzeUqS3yc5Z4TrDknyqSHa35jk1WMU25wkfb+dOMlpSRYmeVuStyaZNkSfs5IsSPKTJLe24wVJnjYWMY+FJDckWdTu5ftJHrcC1/uqY0mSJEmSpFXElMkOYBTuALZNsl5V3QU8B/jVig5WVZ8Zs8hGIclmwC5V9cT2+QbgFODO3n5VtX87vydwRFW9cBRzrFNVy8Yo5JHsVVVLkrwH+DfgDRM0ryRJkiRJksbYalNZ2JwLvKAdHwScNnAiya5JLkkyP8kPk2w1+OIkL2h9pic5KskRrX1Okg8luTzJj5Ps0dqnJflykmtbpd9l/VYQJlk/yQltzPlJXtJOnQc8ulUJvht4FHBBkgv6GPMBVZJJzmnJRJLcnuSjSa4CdmufP5DkqiSXJtl0iPEenuRrrTLw0iTbt/ajWuxzkvwsyZv7uOVLgEe36x+R5KtJrmg/T2/tmyQ5L8k1ST4HpI9xJUmSJEmSNEFWt2Thl4BXJJkKbA9c1nPuemCPqtoReBfw770XJtkfOBLYt6qWDDH2lKraFXgr8O7Wdhhwc1XNBN4J7DyKWN8BfK+NuRdwTJL1gRcDP62qWVX1HuDXdNV5e41i7KGsD1xWVTtU1Q/a50uragfgQoau+HsPML+qtgf+FTip59zWwHOBXYF3J1l3hPmfB3ytHX8C+FhV7QIcAHyutb8b+EFVbQOcBTx2qIGSHJpkbpK5d9x80wjTSpIkSZIkaayMuAw5yc+B6m3q+VxVtcV4BDaUqlqYZAZdVeG5g05vBJyYZMsWX29y61nAbGCfqvrjMMOf2X7PA2a0493pEl9U1dVJFo4i3H2AFw9ULwJT6ZJjd41ijNFYBny15/O9wMB+jvPolm0PtjtdMo+q+l6r/HtoO/fNqroHuCfJ74BNgcVDjHFBkocDt9MlVAH2BmYmfy4cfGiSDYBnAH/d5vtmkpuHupGqOh44HmDzmbNqqD6SJEmSJEkae/3sWTh42e2DgJcDRwDzxzyikZ0NfATYE9ikp/19wAVVtX9LKM7pOfdT4AnAk4C5w4x7T/u9jLHZyzHAAVX1owc0drGtqKU8sBp0as/x3YP2KbyvqgYSbStyT/f0HC/v+r2AW4BT6SoV/7HF+NSquru3Y0/yUJIkSZIkSaugEZchV9VNVXUTcDPwQuACYDfgBVV1wDjHN5QTgPdU1aJB7Rtx/wtPDhl07hd0FXQnJdlmFHNdTJcYJclMYLtRXPsd4E1pGbIkOw7T7zZgwz7HvAGYleRBSR5Dt0R4ZVwEHNzi2xNYspzKy2FV1VK65duvblWG5wFvGjifZFY7vBB4ZWt7PvCwFY5ckiRJkiRJY27EZGGSdZP8HXAtsAewX1W9qqquHffohlBVi6vq2CFOfRj4YJL5DFEFV1XX0yXGzkjS79Lp44BHJLkWeD9wDXDrMH2/mWRx+zmDrtJxXWBhkmva56EcD3y7nxec0CUvf073tzgWuLLP+xjOUcDObXn10cBrVnSgqvoN3Qtn/gF4MzC7vTjlWuCNrdt7gGe07+Ovgf9bidglSZIkSZI0xnL/StVhOiSL6Za/fpwhkjtVdebgtjVFknWAdavq7pZgPB/YqqruneTQ1hqbz5xVi69dMNlhSJIkSZIkrTGSzKuqwVsPAv3tY3c+3QtDdmg/vYr7XwyyJppG9wKPden2IDzMRKEkSZIkSZLWVCMmC6vqkAmIY5VUVbfxly940QTabNpYvGtGkiRJkiRJ/Rhxz0KAJNsmOTHJ3PZzYpLRvOxDkiRJkiRJ0iqunxecvAQ4C/g+8Nr2833gzHZOkiRJkiRJ0hqgnzWe7wWeU1U39LQtTPI94OvtRxoXN965lKPnL5nsMDRKR+44fbJDkCRJkiRJK6CfZchTBiUKAWht6451QJIkSZIkSZImRz/JwqVJHju4McnjgKVjH5IkSZIkSZKkydBPsvDdwPlJDkmyXfv5W+A84F3jG97kS1JJTun5PCXJ75OcM8J1hyT51BDtb0zy6jGKbU6SHyW5KskVSWb1nDs3ycZ9XP8Xb3tOMivJvkO0PzfJgvZze5t7QZKTxuJ+JEmSJEmSNLlG3LOwqr6W5OfAPwFvas3XAi+vqqvGM7hVxB3AtknWq6q7gOcAv1rRwarqM2MWWefgqprbErjH0MVHVf1Fsm8UZgGzgXN7G6vqO8B3oEs0AkdU1dx+BkwypaqsRJUkSZIkSVqF9VNZSFVdVVWvrqqd28/frCWJwgHnAi9oxwcBpw2cSLJrkkuSzE/ywyRbDb44yQtan+lJjkpyRGufk+RDSS5P8uMke7T2aUm+nOTaJGcluWyoCsBBLgEe3TPnDUmmt+N3tirAHyQ5bWD+5mW98yd5MN1LbQ5sVYMHjvTlDJprdksk0u715CQXAye3zye0+/5ZkjePNLYkSZIkSZImzoiVhUm+AdRw56vqxWMa0arpS8C72tLj7YETgD3aueuBPapqaZK9gX8HDhi4MMn+wD8C+1bVzUkGjz2lqnZty37fDewNHAbcXFUzk2wLLOgjxucBXxvcmGSXFs8OdC+kuRKYN9z8VbV3kncBs6vq8D7mHclMYPequivJUcDWwF7AhsCPkvxnVd03KOZDgUMBNt5s8zEIQZIkSZIkSf0YMVkIfGTco1jFVdXCJDPoqgrPHXR6I+DEJFvSJVV73xD9LLrlvPtU1R+HGf7M9nseMKMd7w58os19dZKFywnv1FYNuAHd8uHBng58varuBu5uyd+R5h9LZ7fl2wO+WVX3APck+R2wKbC494KqOh44HmDzmbOGTVRLkiRJkiRpbPWTLPzbqjpkvANZDZxNlzjdE9ikp/19wAVVtX9LKM7pOfdT4AnAk4Dh9va7p/1eRn9/j8EOpkv0HQN8EvjrUV6/svND91bsgSXtUwedu2OY+VZ2TkmSJEmSJI2xfvYs3H7co1g9nAC8p6oWDWrfiPtfeHLIoHO/oFsCfFKSbUYx18XAywGSzAS2W17nqirgncBTk2w9xFgvSjI1yQbAC/uY/za6ZcL9ugHYuR0fsJx+kiRJkiRJWoX1kyyclmTHJDsN9TPuEa4iqmpxVR07xKkPAx9MMp8hquSq6nq66r8zkmzR53THAY9Ici3wfuAa4NYR4rsL+Cjw9kHtV9BVRS4EvgUsGmks4AJgZr8vOAHeA3wiyVy6akFJkiRJkiSthtIVpS2nQ3IbcAXwF2/moCtqe9Z4BLY2S7IOsG5V3d0SjOcDW1XVvSs43gZVdXuSacCFwKFVdeUYhjxuNp85qw4/9fzJDkOjdOSO0yc7BEmSJEmSNIwk86pq9lDn+tkv7icmBCfcNOCCJOvSJWkPW9FEYXN8W848FThxdUkUAmw2bYqJJ0mSJEmSpAniyyVWQVV1G91blMdqvFeO1ViSJEmSJElac/WzZ+EHW1XaAySZmeQR4xCTJEmSJEmSpEnQT7Lwr4Gh1oFuAnxibMORJEmSJEmSNFn6SRY+saouHNxYVRcB2499SNL9brxz6WSHIEmSJEmStNboJ1m44XLOrTtWgUiSJEmSJEmaXP0kC3+SZN/BjUmeD/xs7EOSJEmSJEmSNBn6SRa+Ffh4ki8keVP7OZFuv8K3jGUwSSrJKT2fpyT5fZJzRrjukCSfGqL9jUlePUaxzUnyoyRXJbkiyayec+cm2biP6//iDcdJZg2TjH1ukgXt5/Y294IkJ43F/YyF9r3/vsV1fZK3rcD1f/F3kyRJkiRJ0uQYMVlYVf8LbAd8H5jRfr4PbF9VPx7jeO4Atk2yXvv8HOBXKzpYVX2mqsYyuXZwVe0AHAcc0zPPvlV1ywqOOQv4i2RhVX2nqmZV1Sxgbpt7VlWNmPxMMmUFY1kRp7cYnw68I8ljJnBuSZIkSZIkjaF+Kgupqnuq6vNV9U9V9U/A6cBLk3xzHGI6F3hBOz4IOG3gRJJdk1ySZH6SHybZavDFSV7Q+kxPclSSI1r7nCQfSnJ5kh8n2aO1T0vy5STXJjkryWVDVQAOcgnw6J45b0gyvR2/s1UB/iDJaQPzNy/rnT/Jg4H3Age26rwDR/pyBs01O8mcdnxUkpOTXAyc3D6f0O77Z0nePMx4ByVZlOTqJB/qab89yQdaJeWlSTZdXlxVdRPwE+CR7fpXtXtdkOS/kqzT2v+23f/ldAlGSZIkSZIkrSL6ShYCJHlwkv2TnAH8Bng28JlxiOlLwCuSTKV72/JlPeeuB/aoqh2BdwH/PijG/YEjgX2raskQY0+pql3plla/u7UdBtxcVTOBdwI79xHj84CvDW5MsgtwALAD8HxgcNLxAfNX1b3tPk5vVYOn9zH38swE9q6qg9rnrYHnArsC707ygBfSJHkU8CHgWXQVjrsk2a+dXh+4tFVSXgi8YXkTJ3ksMBVYmOTJwIHA01vV4TLg4CSPBN5DlyTcvcU71FiHJpmbZO4dN9/U/91LkiRJkiRppYy4XDXJPnQVfvsAFwAnAbtU1d+OR0BVtTDJjDbnuYNObwScmGRLoHjg25ifRZec26eq/jjM8Ge23/PollNDl7T6RJv76iQLlxPeqa0acAO65NpgTwe+XlV3A3cn+UYf84+ls6vqrp7P36yqe4B7kvwO2BRY3HN+F2BOVf0eIMmpwDPoEqH3AgN7Rc6jWxI+lAOTPIMuMXl4Vd2d5Nl0SdcrkgCsB/wOeMqg+U4HnjR4wKo6HjgeYPOZs2pU34AkSZIkSZJWWD+Vhd8GngDsXlWvqqpvAH8a37A4G/gIPUuQm/cBF1TVtsCL6CrZBvwU2JAhkk897mm/l9FHonQIB9N9FycCn1yB61d2foCl3P93mzro3B3DzLcic95XVQOJuuVde3pVbQ88DTg6yWZAgBMH9lysqq2q6qhRzC1JkiRJkqRJ0E+ycCe6PfrOT/I/SV4HrDO+YXEC8J6qWjSofSPuf+HJIYPO/YJuCfBJSbYZxVwXAy8HSDKT7mUuw2oJtHcCT02y9RBjvSjJ1CQbAC/sY/7b6JKc/bqB+5dKHzCK64ZyOfDMtr/jOnTVnN9fkYGqai5wMt0bsr9Lt6flXwEkeXiSx9EtKX9mkk3akuiXrWT8kiRJkiRJGkP9vA15QVUdWVVb0O3zNwtYN8m3khw6HkFV1eKqOnaIUx8GPphkPkNUulXV9XTVf2ck2aLP6Y4DHpHkWuD9wDXArSPEdxfwUeDtg9qvoKuKXAh8C1g00lh0S7tn9vuCE7o9/z6RZC5dxd8Kq6rf0O3xeAFwFTCvqr6+EkN+CPhb4JfAvwHntWXd/wM8ss13FF3y+WLgupWYS5IkSZIkSWMs9680HcVFyYOAvYFXVNVrW9s2VXXNGMc37lpF3bptr70tgPOBrdrLR1ZkvA2q6vYk0+heDHJoVV05hiGvVTafOasWX7tgssOQJEmSJElaYySZV1WDX8wLrOC+eVX1J+C89jPgZLoly6ubacAFbVlsgMNWNFHYHN+WM0+l27fPROFK2Gzaim7tKEmSJEmSpNEay0xMxnCsCVNVt9G9RXmsxnvlWI0lSZIkSZIkTaR+XnDSr9GvZ5YkSZIkSZK0ynCNp1ZpN965lKPnLxmTsY7ccfqYjCNJkiRJkrSmGsvKwpXZ50+SJEmSJEnSJBuxsjDJcl9aMvACj6p66lgFJUmSJEmSJGni9bMM+aM9xzsDc7n/ZSYFPGusg1pTJSng1Kp6Vfs8BfgNcFlVvXA51x0CzK6qwwe1vxG4s6pOGoPYbmhzLGmf9wSO6I0ryXOBD7WPTwR+BdwFLKyqV69sDJIkSZIkSZpcIyYLq2qvgeMk86vK5OCKuwPYNsl6VXUX8By6hNsKqarPjFlk/c33HeA7AEnm0CUT5/ZzbZIpVbV0HMOTJEmSJEnSShrtnoW+8XjlnQu8oB0fBJw2cCLJrkkuSTI/yQ+TbDX44iQvaH2mJzkqyRGtfU6SDyW5PMmPk+zR2qcl+XKSa5OcleSyJLPH8oaS3JBkejue3RKJtPhOTnIxcHL7fEKL9WdJ3jyWcUiSJEmSJGnljOULTtSfLwGvSDIV2B64rOfc9cAeVbUj8C7g33svTLI/cCSw78By4UGmVNWuwFuBd7e2w4Cbq2om8E66peQTaSawd1Ud1D5vDTwX2BV4d5J1JzgeSZIkSZIkDaOfF5x8kvsrCjdPcmzv+aqyOmwUqmphkhl0VYXnDjq9EXBiki3pvvPeRNqzgNnAPlX1x2GGP7P9ngfMaMe7A59oc1+dZOFwofXZNlpntyXXA75ZVfcA9yT5HbApsLj3giSHAocCbLzZ5mMQgiRJkiRJkvrRzwtOevekmzdegaxlzgY+AuwJbNLT/j7ggqravyUU5/Sc+ynwBOBJPPBv0uue9nsZ/f1te90EPAwYqFh8eM/xSJZyf5Xq1EHn7hgmRhgmzqo6HjgeYPOZs1z6LkmSJEmSNEH6ecHJiYPbkjwMuKWqTOSsmBPovr9F7a3DAzbi/heeHDLoml8AbwfOTPKyqrqmz7kuBl4OXJBkJrDdMP3mAH8DvCvJOsCrgK/1OccNdMubvwUc0Oc1kiRJkiRJWsWMuGdhkncl2bodPyTJ9+iq3H6bZO/xDnBNVFWLq+rYIU59GPhgkvkMXXF3PXAwcEaSLfqc7jjgEUmuBd4PXAPcOkS/9wFPTHIVMB/4CXBKn3O8B/hEkrl01YKSJEmSJElaDWWk4sAk1wDbVlW1veQOAvamWw57YnuhhlZRrUpw3aq6uyUYzwe2qqp7Jzm0vmw+c1Ydfur5YzLWkTtOH5NxJEmSJEmSVmdJ5lXV7KHO9bOv3b09y42fC3ypqpYB1yUZ7b54mnjT6JYgrwsEOGx1SRRKkiRJkiRpYvWT7LsnybbAb4G9gCN6zk0bl6g0ZqrqNrq3KK+WNps2xYpASZIkSZKkCdJPsvAtwFeARwAfq6qfAyTZl25vO0mSJEmSJElrgH7ehnwZsPUQ7ecmmTcuUUmSJEmSJEmacKPeczDJxsABwCuBJwOPGuOYpD+78c6lHD1/yWSH8WcuiZYkSZIkSWuyvpKFSdYDXkKXINwR2BDYD7hw3CKTJEmSJEmSNKEeNFKHJF8Efgw8B/gkMAO4uarmVNWfxjc8SZIkSZIkSRNlxGQhMBO4GbgOuK6qlgE1rlFpTCWpJKf0fJ6S5PdJzhnDOc5tS9QlSZIkSZK0mhoxWVhVs4CX0y09Pj/JD4ANk2w6zrFp7NwBbNuWk0NXJfqr0QyQZLlL1qtq36q6ZcXCkyRJkiRJ0qqgn8pCqur6qnp3VW0NvAU4CbgiyQ/HNTqNpXOBF7Tjg4DTBk4kWT/JCUkuTzI/yUta+yFJzk7yPeC7SaYl+XKSa5OcleSyJLNb3xuSTE8yI8l1ST6b5Jok5w0kKZPskmRhkgVJjkly9cR+BZIkSZIkSVqevpKFvapqXlX9E7AF8O2xD0nj5EvAK5JMBbYHLus59w7ge1W1K7AXcEyS9du5nYCXVtUzgcPo9qucCbwT2HmYubYEPl1V2wC30L09G+DzwN+1atVlwwWa5NAkc5PMvePmm0Z/p5IkSZIkSVoh/bzg5KFJ/iXJp5Lsk87hdC89GS5ZpFVMVS2keznNQXRVhr32AY5MsgCYA0wFHtvO/U9V/aEd706XdKSqrgYWDjPdz6tqQTueB8xo+xluWFWXtPYvLifW46tqdlXNXv9hm/Rze5IkSZIkSRoDy92HrjmZ7gUnlwCvB/4VCLB/T0JIq4ezgY8AewK9WbgAB1TVj3o7J3kK3X6Ho3VPz/EyYL3hOkqSJEmSJGnV0c8y5CdU1SFV9V90VWkzgeeaKFwtnQC8p6oWDWr/DvCmJAFIsuMw119M97IbkswEtut34vbyk9taAhLgFaOIW5IkSZIkSROgn2ThfQMHVbUMWFxVd49fSBovVbW4qo4d4tT7gHWBhUmuaZ+HchzwiCTXAu8HrgFuHUUIrwM+25Y7rz/KayVJkiRJkjTOUlXL75As4/6lqKFbUnpnO66qeui4RqhVRpJ1gHWr6u4kWwDnA1tV1b19Xr9BVd3ejo8EHllVb1neNZvPnFWHn3r+yoY+Zo7ccfpkhyBJkiRJkrRSksyrqtlDnRtxz8KqWmfsQ9JqahpwQZJ16ZLFh/WbKGxekORf6J67XwCHjH2IkiRJkiRJWlH9VBbuAkyvqm8Nan8+8LuqmjeO8WktN3v27Jo7d+5khyFJkiRJkrTGWF5lYT97Fn4IuHaI9muBY1YmMEmSJEmSJEmrjn6ShRtW1S8GN7Y2N3CTJEmSJEmS1hAj7lkIPGw556aNVSDSUG68cylHz18yLmP7shJJkiRJkqQH6qey8PwkH0iSgYZ03gt8b/xCkyRJkiRJkjSR+qks/Cfgc8BPkixobTsAc4HXj1NckiRJkiRJkibYiMnCqroDOCjJE4BtWvM1VfWz3n5Jtqmqa8YhRo2zJJsDnwZm0lWbngO8vX1+VFWd2/odBdxeVR9ZwXlSVZXkqKo6auDzmNyEJEmSJEmSVlo/y5ABqKqfVdU32s/Phuhy8hjGpQnSlpefCXytqrYEngRsAHwAmAXsO4bT7ZTkWODhSfZrc0iSJEmSJGkV0c8y5H5l5C5aBT0LuLuqPg9QVcuSvA34BXAfXT5xd+CDrf/MJHOAxwIfr6pj6Tq9Cngz8GDgMuCwNtbtwH8BewP/ABwHXAKsW1V/P0H3KEmSJEmSpD70XVnYB5eTrp62Aeb1NlTVH4EbgPcDp1fVrKo6vZ3eGngusCvw7iTrJnkycCDw9KqaBSwDDm791wcuq6odgNuBv6erQv1OkvcPFVCSQ5PMTTL3jptvGrs7lSRJkiRJ0nKNZbJQa4dvVtU9VbUE+B2wKfBsYGfgivYSnGcDT2j9lwFfbcdXVdVbgD9U1deAdw41QVUdX1Wzq2r2+g/bZPzuRJIkSZIkSQ8wlsuQ7x3DsTRxrgVe2tuQ5KF0y4yXDtH/np7jZXTPUIATq+pfhuh/d1UtAxh4mUlVHdX7WZIkSZIkSauGESsL2150A8dPH3Tu8IHjqnrq2IamCfJdYFqSVwMkWQf4KPAF4LfAhn2O8dIkf9XGeHiSx41PuJIkSZIkSRov/SxD/see408OOvfaMYxFk6BV9+0PvCzJ/wI/Bu4G/hW4gO6FJguSHLicMa4F/g04L8lC4H+AR4578JIkSZIkSRpT/SxDzjDHQ33Waqiqfgm8aIhT9wC7LOe6bXuOTwdOH6LPBmMRoyRJkiRJksZfP5WFNczxUJ8lSZIkSZIkrab6qSzcui0tDbBFO6Z9fsLwl0krb7NpUzhyx+mTHYYkSZIkSdJaoZ9k4ZPHPQpJkiRJkiRJk27EZGFV/WKo9iQPAg4ChjwvSZIkSZIkafUyYrIwyUOBfwAeDZxN96bbw4F/Aq4CTh3PALV2u/HOpRw9f8lkhyFJGgNuKyFJkiSt+vpZhnwycDNwCfB64F/p9ivcr6oWjF9okiRJkiRJkiZSP8nCJ1TVdgBJPgf8BnhsVd09rpFJkiRJkiRJmlAP6qPPfQMHVbUMWGyicM2RZFmSBUmuTnJGkmmjuPaQJJ9awXn3THLOilwrSZIkSZKk8dFPsnCHJH9McluS24Dtez7/cbwD1Li7q6pmVdW2wL3AG/u5KEk/VamSJEmSJElajYyYLKyqdarqoVW1YfuZ0vP5oRMRpCbMRcATk7woyWVJ5ic5P8mmAEmOSnJykovp9rL8syQvSHJJkulJ9mnHV7ZqxQ1an+cluT7JlcBfT/jdSZIkSZIkablGTBYmmZrkrUk+leRQK8rWTO3v+nxgEfAD4KlVtSPwJeD/9XSdCexdVQf1XLs/cCSwb2v6t9ZnJ2Au8I9JpgKfBV4E7AxstpxYDk0yN8ncO26+aaxuUZIkSZIkSSPoJ/F3It2+hRfRJYO2Ad4ynkFpQq2XZEE7vgj4b2Ar4PQkjwQeDPy8p//ZVXVXz+dnAbOBfarqj0leSJdQvDgJ7fpLgK2Bn1fV/wIkOQU4dKiAqup44HiAzWfOqrG4SUmSJEmSJI2sn2ThzJ63If83cPn4hqQJdldVzeptSPJJ4D+q6uwkewJH9Zy+Y9D1PwWeADyJroowwP/0Vh62MWchSZIkSZKkVdpo34a8dBxj0apjI+BX7fg1I/T9BXAAcFKSbYBLgacneSJAkvWTPAm4HpiRZIt23UFDjiZJkiRJkqRJM5q3If/RtyGvNY4CzkgyD1gyUuequh44GDgDeChwCHBakoW0JchVdTfdsuNvthec/G58QpckSZIkSdKKSpVbwmnVtfnMWXX4qedPdhiSpDFw5I7TJzsESZIkSUCSeVU1e6hzvtlYq7TNpk3x/7mUJEmSJEmaIP0sQ5YkSZIkSZK0FjBZKEmSJEmSJAlwGbJWcTfeuZSj54/4jpUV4vJmSZIkSZKkB7KyUJIkSZIkSRJgslCSJEmSJElSY7JwLZNkWZIFSa5OckaSaWM07rlJNh6LsSRJkiRJkjQ5TBaufe6qqllVtS1wL/DGsRi0qvatqlvGYixJkiRJkiRNDpOFa7eLgCcmeVGSy5LMT3J+kk0BkjyzVSEuaOc2TPLIJBf2VCfu0frekGR6khlJrkvy2STXJDkvyXqtzy5JFrZrj0ly9STeuyRJkiRJkgYxWbiWSjIFeD6wCPgB8NSq2hH4EvD/WrcjgH+oqlnAHsBdwCuB77S2HYAFQwy/JfDpqtoGuAU4oLV/Hvi7du2ysb4nSZIkSZIkrZwpkx2AJtx6SRa044uA/wa2Ak5P8kjgwcDP2/mLgf9IcipwZlUtTnIFcEKSdYGvVdUC/tLPe9rnATPafoYbVtUlrf2LwAuHCjDJocChABtvtvmK3qckSZIkSZJGycrCtc/AnoWzqupNVXUv8EngU1W1HfB3wFSAqjoaeD2wHnBxkq2r6kLgGcCvgC8kefUQc9zTc7yMUSalq+r4qppdVbPXf9gmo75BSZIkSZIkrRgrCwWwEV3yD+A1A41JtqiqRcCiJLsAWye5C1hcVZ9N8hBgJ+CkkSaoqluS3JbkKVV1GfCKsb8NSZIkSZIkrQwrCwVwFHBGknnAkp72t7aXmCwE7gO+BewJXJVkPnAg8IlRzPM64LNtGfT6wK0rH7okSZIkSZLGipWFa5mq2mCItq8DXx+i/U1DDHFi+xncd0Y7XAJs29P+kZ5u11TV9gBJjgTmjiZ2SZIkSZIkjS+ThZpIL0jyL3TP3S+AQyY3HEmSJEmSJPUyWagJU1WnA6eP5prNpk3hyB2nj1NEkiRJkiRJ6uWehZIkSZIkSZIAk4WSJEmSJEmSGpOFWqXdeOfSyQ5BkiRJkiRprWGyUJIkSZIkSRJgslCSJEmSJElSY7JwEiVZlmRBkquTnJFk2nL6HpLkU+34jUlePQbz35BkUZKFSc5LstnKjjnCfOcm2bj9HDaec0mSJEmSJGn0TBZOrruqalZVbQvcC7yxn4uq6jNVddIYxbBXVW0PzAX+td+LkkwZ7URVtW9V3QJsDJgslCRJkiRJWsWYLFx1XAQ8McnDk3ytVftdmmT7wR2THJXkiHb8xCTnJ7kqyZVJtmjtb09yRRvnPX3Mf2Gbf0aSq3vmOiLJUe14TpKPJ5kLvCXJy1pV5FVJLmx9/lwB2T6fk2TPdnxDkunA0cAWrarymBX6tiRJkiRJkjTmRl0dprHXqvSeD3wbeA8wv6r2S/Is4CRg1nIuPxU4uqrOSjIVeFCSfYAtgV2BAGcneUZVXbiccV4ILOoj3AdX1ewW9yLguVX1qyQb93HtgCOBbatq1iiukSRJkiRJ0jizsnByrZdkAd0S4P8D/hvYHTgZoKq+B2yS5KFDXZxkQ+DRVXVW6393Vd0J7NN+5gNXAlvTJQ+HckGL4aHAB/uI+fSe44uBLyR5A7BOH9f2JcmhSeYmmXvHzTeN1bCSJEmSJEkagZWFk+uuwdV1ScZi3AAfrKr/6qPvXlW1pGf+DXhgEnnqoP53DBxU1RuTPAV4ATAvyc7A0hGuH1FVHQ8cD7D5zFk12uslSZIkSZK0YqwsXPVcBBwM0Pb6W1JVfxyqY1XdBixOsl/r/5D2RuXvAK9tiT+SPDrJX/U5/2+Bv0qySZKH0C1PHlKSLarqsqp6F/B74DHADcCsJA9K8hi6pdCD3QZs2Gc8kiRJkiRJmiBWFq56jgJOSLIQuBN4zQj9/wb4ryTvBe4DXlZV5yV5MnBJq1S8HXgV8LuRJq+q+9pYlwO/Aq5fTvdjkmxJV8n4XeCq1v5z4FrgOrpl0IPnuCnJxe1FKt+qqrePFJckSZIkSZLGX6pc5alV1+YzZ9XiaxdMdhiSJEmSJElrjCTzBl5gO5jLkCVJkiRJkiQBJgu1ittsmivlJUmSJEmSJorJQkmSJEmSJEmAyUJJkiRJkiRJjWs8tUq78c6lHD1/yWSHsVo5csfpkx2CJEmSJElaTVlZKEmSJEmSJAkwWShJkiRJkiSpWauThUnekeSaJAuTLEjylNY+J8nslRz7c0lmjk2kKzT/C5PMT3JVkmuT/F1r32884kryqCRfGetxJUmSJEmSNHHW2j0Lk+wGvBDYqaruSTIdePBYjV9Vrx+rsUaSJECq6k/t87rA8cCuVbU4yUOAGa37fsA5wLVjGUNV/Rp46ViOKUmSJEmSpIm1NlcWPhJYUlX3AFTVkpbweoAkByVZlOTqJB9qbS9L8h/t+C1JftaOn5Dk4nb85+rEJLcn+UCr8rs0yaatfYv2eVGS9ye5fahAk/xjm//qJG9tbTOS/CjJScDVwGN6LtmQLhF8U7u3e6rqR0meBrwYOKZVUm6RZFaLYWGSs5I8rCf+T7R+VyfZtbUfleTkJJck+d8kb+iJ5+p2fEiSM5N8u/X5cM+9vC7Jj5NcnuSzST416r+cJEmSJEmSxsXanCw8D3hMS1wdl+SZgzskeRTwIeBZwCxglyT7ARcBe7RuewA3JXl0O75wiLnWBy6tqh3a+Te09k8An6iq7YDFQwWZZGfgb4GnAE8F3pBkx3Z6S+C4qtqmqn4xcE1V/QE4G/hFktOSHJzkQVX1w9b+9qqaVVU/BU4C/rmqtgcWAe/umX5aVc0CDgNO6Gnfvn0nuwHvat/TYLOAA4HtgAOTPKb1e2e7j6cDWw9zz4cmmZtk7h033zRUF0mSJEmSJI2DtTZZWFW3AzsDhwK/B05PcsigbrsAc6rq91W1FDgVeEZV3QhskGRDuoq+LwLPoEsWXjTEdPfSLf0FmMf9S4J3A85ox18cJtTdgbOq6o4W85ncn6j8RVVdOsz9vR54NnA5cAQPTPYBkGQjYOOq+n5rOrHdx4DT2lgXAg9NsnFr/3pV3VVVS4ALgF2HCOG7VXVrVd1Nt+T5ca3f96vqD1V1X8+9D479+KqaXVWz13/YJkN1kSRJkiRJ0jhYa5OFAFW1rKrmVNW7gcOBA0Zx+Q/pKv5+xP2VhrsBFw/R976qqna8jLHbK/KO5Z2sqkVV9THgOYzu3v48xDCfh2vvdU/P8VjesyRJkiRJksbJWpssTLJVki17mmYBvxjU7XLgmUmmJ1kHOAgYqMK7iK5i70JgPrAXcE9V3TqKMC7l/iTeK4bpcxGwX5JpSdYH9mfo6sU/S7JBkj17mmZx/73dRrenIS3Wm5MMVCr+DfffH3TLiEmyO3Brz729JMnUJJsAewJXLC+eHlfQfZ8PSzKFFUtgSpIkSZIkaZyszdVeGwCfbEtrlwI/oVuS/GdV9ZskR9IttQ3wzar6ejt9Ed0S5AuralmSXwLXjzKGtwKnJHkH8G3gLxKNVXVlki/QJS4BPldV85PMWM64Af5fkv8C7qKrQDyknfsS8Nkkb6Z7e/FrgM8kmQb8jK5acsDdSeYD6wKv7WlfSPedTAfeV1W/HiGegXv5VZJ/b/fyB7rvazTJVUmSJEmSJI2j3L86VhOtJejuqqpK8grgoKp6yWTHBd3bkIEjqmruoPajgNur6iMrOO4GVXV7qyw8Czihqs4arv/mM2fV4aeevyJTrbWO3HH6ZIcgSZIkSZJWYUnmVdXsoc6tzZWFq4KdgU8lCXALD6zeW1MdlWRvYCrdG6m/NrnhSJIkSZIkaYCVhVqlzZ49u+bOnTtyR0mSJEmSJPVleZWFa+0LTiRJkiRJkiQ9kMlCSZIkSZIkSYB7FmoVd+OdSzl6/pLJDuPPfHmIJEmSJElak1lZKEmSJEmSJAkwWShJkiRJkiSpWeOThUnekeSaJAuTLEjylNb+1iTTVmC8Q5I8qufz55LMHKNY35zkuiSnjsV4y5lnTpIfJbkqycVJthrFtTOSXD1E++wkx45tpJIkSZIkSZpIa/SehUl2A14I7FRV9ySZDjy4nX4rcApw5yjGWwc4BLga+DVAVb1+DEM+DNi7qhYPmndKVS0dw3kADq6quUkOBY4BXjzSBUmGfV6qai4wdwzjkyRJkiRJ0gRb0ysLHwksqap7AKpqSVX9OsmbgUcBFyS5ACDJfyaZ26oQ3zMwQJIbknwoyZXAQcBs4NRWpbheq9Kb3frenuQDrWLv0iSbtvYt2udFSd6f5PbBgSb5DPAE4FtJ3pbkqCQnJ7kYOLlV9H2vVUh+N8lj23VfaLFfmuRnSfZMckKrUPxCH9/RhcAT2/gXJbmy/Tytjb9naz8buHZQzE9IMj/JLq3fOa39qBbDnBbTm3uueWeravxBktOSHNFHjJIkSZIkSZoAa3qy8DzgMUl+nOS4JM8EqKpj6SoD96qqvVrfd1TVbGB74JlJtu8Z56aq2qmqTqGrnju4qmZV1V2D5lsfuLSqdqBLwr2htX8C+ERVbQcsZghV9caemD7WmmfSVRoeBHwSOLGqtgdOBXqX/D4M2A14G3A28DFgG2C7JLNG+I5eBCwCfgc8p6p2Ag4cNP5OwFuq6kkDDW3p8leBQ6rqiiHG3Rp4LrAr8O4k6ybZBTgA2AF4Pl3i9S8kObQlbufecfNNI4QvSZIkSZKksbJGJwur6nZgZ+BQ4PfA6UkOGab7y1v14Hy6RFvvPoSn9znlvcA57XgeMKMd7wac0Y6/2OdYAGf3JCR367n2ZGD3nn7fqKqiS/r9tqoWVdWfgGt6Yhjs1CQLgKcDRwDrAp9NsqjF2nv/l1fVz3s+PwL4Ol3S9Kphxv9mVd1TVUvoEpGbtrm+XlV3V9VtwDeGurCqjq+q2VU1e/2HbTLM8JIkSZIkSRpra/SehQBVtQyYA8xpibDXAF/o7ZPk8XQJs12q6ua2fHdqT5c7+pzuvpa0A1jGyn+//c57T/v9p57jgc/DxXBw22cQ6JYOA7+lq/p7EHD3cuK4Ffg/uoTltQytN46x+C4kSZIkSZI0ztboysIkWyXZsqdpFvCLdnwbsGE7fihdQuzWts/g85czbO91/bqUbvktwCtGee2AH/ZcezBw0QqOM5yNgN+0isS/AdZZTt97gf2BVyd55SjmuBh4UZKpSTage/mMJEmSJEmSVhFrerXXBsAnk2wMLAV+QrckGeB44NtJfl1VeyWZD1wP/JIuqTWcLwCfSXIX3dLgfrwVOCXJO4Bv01XmjdabgM8neTvdkuq/XYExluc44KtJXk0X43KrGqvqjiQvBP6nvbDljyNNUFVXtBelLKSrYlzEin0XkiRJkiRJGge5f9WsxkuSacBdVVVJXgEcVFUvmey4JkOSDarq9vadXAgcWlVXDtd/85mz6vBTz5+4AEdw5I7TJzsESZIkSZKklZJkXnvR719Y0ysLVxU7A59KEuAW4LWTG86kOj7JTLo9IU9cXqIQYLNpU0zQSZIkSZIkTRCThROgqi6ie3HIWq+qRrPHoSRJkiRJkibQGv2CE0mSJEmSJEn9M1koSZIkSZIkCXAZslZxN965lKPnL1luH/c0lCRJkiRJGhtWFkqSJEmSJEkCTBaOWpJ3JLkmycIkC5I8pbW/Ncm0FRjvkCSP6vn8ufa24LGI9Yej6Pvpdj/XJrmrHS9I8tI+r39ZkuuSXNA+n9a+o7cleW+SvVf0PiRJkiRJkjQxXIY8Ckl2A14I7FRV9ySZDjy4nX4rcApw5yjGWwc4BLga+DVAVb1+rOKtqqeNou8/tJhmAOdU1aze80mmVNXS5QzxOuANVfWDJJsBu1TVE0cftSRJkiRJkiaLlYWj80hgSVXdA1BVS6rq10neDDwKuKCnsu4/k8xtVYjvGRggyQ1JPpTkSuAgYDZwaqviWy/JnCSzW9/bk3wgyVVJLk2yaWvfon1elOT9SW4fKtiB9iR7tnG/kuT6JKcmyUg32667KMnZwLWt7WtJ5rX7OrS1vQvYHfjvJMcA5wGPbve0R5IvDFQoJtklyQ/bPV2eZMNR/xUkSZIkSZI0LkwWjs55wGOS/DjJcUmeCVBVx9JVBu5VVXu1vu+oqtnA9sAzk2zfM85NVbVTVZ0CzAUOrqpZVXXXoPnWBy6tqh2AC4E3tPZPAJ+oqu2AxX3GviNd9eNM4AnA0/u8bifgLVX1pPb5tVW1M12S881JNqmq9/bcx9uBFwM/bfd00cBASR4MnN7G2wHYGxh8z5IkSZIkSZokJgtHoapuB3YGDgV+D5ye5JBhur+8VQ/OB7ahS9INOL3PKe8FzmnH84AZ7Xg34Ix2/MU+x7q8qhZX1Z+ABT1j9XPdz3s+vznJVcClwGOALfscB2Ar4DdVdQVAVf1xqKXNSQ5tVZlz77j5plEML0mSJEmSpJVhsnCUqmpZVc2pqncDhwMHDO6T5PHAEcCzq2p74JvA1J4ud/Q53X1VVe14GSu3x+Q9PcejGevPsSbZk64acLdWGTifB97XmKiq46tqdlXNXv9hm4z18JIkSZIkSRqGycJRSLJVkt5KulnAL9rxbcDA/nsPpUuy3dr2GXz+cobtva5fl3J/kvIVo7x2ZWwE3FxVdybZGnjqKK//EfDIJLsAJNkwiS/ZkSRJkiRJWkWYqBmdDYBPJtkYWAr8hG5JMsDxwLeT/Lqq9koyH7ge+CVw8XLG/ALwmSR30S0v7sdbgVOSvAP4NnDrKO9jRX0beGOS6+gSf5eO5uKqujfJgXTf4Xp0+xXuDQz5ghZJkiRJkiRNrNy/ylWriyTTgLuqqpK8Ajioql4y2XGNh81nzqrDTz1/uX2O3HH6BEUjSZIkSZK0+ksyr72Y9y9YWbh62hn4VJIAtwCvndxwJEmSJEmStCYwWbgaqqqLgB0mO46JsNm0KVYOSpIkSZIkTRBfcCJJkiRJkiQJMFkoSZIkSZIkqXEZslZpN965lKPnL5nsMNS4JFySJEmSpDWblYWSJEmSJEmSAJOFkiRJkiRJkhqThaOQ5B1JrkmyMMmCJE9p7W9NMm0S45qTZPYQ7Z9LMrPPMf623dOCJPcmWdSOj+7z+q1b//lJtkjy5iTXJTk1yYuTHDna+5IkSZIkSdLEcs/CPiXZDXghsFNV3ZNkOvDgdvqtwCnAnZMU3pCq6vWj6Pt54PMASW4A9qqqB2wWmGSdqlo2zBD7AV+pqve3vocBe1fV4nb+7NFFL0mSJEmSpIlmZWH/Hgksqap7AKpqSVX9OsmbgUcBFyS5ACDJQa0y7+okHxoYIMntST7WqhO/m+QRrX1Okk+0yryrk+za2tdPckKSy1vF3kta+3pJvtQq984C1hsq4N6Kwzb3B5JcleTSJJv2c9Ptuo8muQrYLcm7klzR4jw+nX3pEqZ/n+SCJJ8BngB8K8nbkhyS5FNtvE2TnNXiuCrJ00b7h5AkSZIkSdL4MFnYv/OAxyT5cZLjkjwToKqOBX5NV4m3V5JHAR8CngXMAnZJsl8bY31gblVtA3wfeHfP+NOqahZwGHBCa3sH8L2q2hXYCzgmyfrA3wN3VtWT2xg79xH/+sClVbUDcCHwhj7ve33gsqraoap+AHyqqnapqm3pkpQvrKpzgc8AH6uqvarqjT3fyccGjXcs8P0Wx07ANX3GIUmSJEmSpHFmsrBPVXU7XVLuUOD3wOlJDhmi6y7AnKr6fVUtBU4FntHO/Qk4vR2fAuzec91pbZ4LgYcm2RjYBzgyyQJgDjAVeGwb75TWfyGwsI9buBc4px3PA2b0cQ3AMuCrPZ/3SnJZkkV0CdFt+hxnwLOA/wSoqmVVdevgDkkOTTI3ydw7br5plMNLkiRJkiRpRbln4Si0/frmAHNasuw1wBdWZshhjgc+Bzigqn7UeyLJisx1X1UNzLGM/v/2dw/sU5hkKnAcMLuqfpnkKLoE5piqquOB4wE2nzlr8PciSZIkSZKkcWJlYZ+SbJVky56mWcAv2vFtwIbt+HLgmUmmJ1kHOIhuyTF03/dL2/ErgR/0jHdgm2d34NZWcfcd4E1p2cEkO7a+F7brSbItsP1Y3GMfBhKDS5JswP33MhrfpVtGTZJ1kmw0VsFJkiRJkiRp5VhZ2L8NgE+25cFLgZ/QLUmGrgru20l+3fYtPBK4gK4y8JtV9fXW7w5g1yT/BvyOliBs7k4yH1gXeG1rex/wcWBhkgcBP6d7I/N/Ap9Pch1wHd2y4nFXVbck+SxwNXAjcMUKDPMW4Pgkr6OrcPx74JKxi1KSJEmSJEkrKvevTNV4S3J7VW0wRPsc4IiqmjvxUa3aNp85qw4/9fzJDkPNkTtOn+wQJEmSJEnSSkoyr6pmD3XOZciSJEmSJEmSAJchT6ihqgpb+54THMpqY7NpU6xmkyRJkiRJmiBWFkqSJEmSJEkCTBZKkiRJkiRJakwWSpIkSZIkSQJMFkqSJEmSJElqTBZKkiRJkiRJAkwWSpIkSZIkSWpMFkqSJEmSJEkCTBZKkiRJkiRJakwWSpIkSZIkSQJMFkqSJEmSJElqTBZKkiRJkiRJAkwWSpIkSZIkSWpMFkqSJEmSJEkCTBZKkiRJkiRJalJVkx2DNKwktwE/muw4tMqZDiyZ7CC0SvGZ0FB8LjQUnwsN5jOhofhcaCg+FxpsdX4mHldVjxjqxJSJjkQapR9V1ezJDkKrliRzfS7Uy2dCQ/G50FB8LjSYz4SG4nOhofhcaLA19ZlwGbIkSZIkSZIkwGShJEmSJEmSpMZkoVZ1x092AFol+VxoMJ8JDcXnQkPxudBgPhMais+FhuJzocHWyGfCF5xIkiRJkiRJAqwslCRJkiRJktSYLNQqIcnzkvwoyU+SHDnE+YckOb2dvyzJjEkIUxOoj2fiH5Ncm2Rhku8medxkxKmJNdJz0dPvgCSVZI17M5n+Uj/PRZKXt//MuCbJFyc6Rk2sPv475LFJLkgyv/33yL6TEacmTpITkvwuydXDnE+SY9szszDJThMdoyZeH8/Fwe15WJTkh0l2mOgYNfFGei56+u2SZGmSl05UbJoc/TwTSfZMsqD9W/P7ExnfeDBZqEmXZB3g08DzgZnAQUlmDur2OuDmqnoi8DHgQxMbpSZSn8/EfGB2VW0PfAX48MRGqYnW53NBkg2BtwCXTWyEmgz9PBdJtgT+BXh6VW0DvHWi49TE6fM/K/4N+HJV7Qi8AjhuYqPUJPgC8LzlnH8+sGX7ORT4zwmISZPvCyz/ufg58Myq2g54H2vo3mT6C19g+c/FwH/XfAg4byIC0qT7Ast5JpJsTPdviRe3f2u+bGLCGj8mC7Uq2BX4SVX9rKruBb4EvGRQn5cAJ7bjrwDPTpIJjFETa8RnoqouqKo728dLgc0nOEZNvH7+swK6f8x/CLh7IoPTpOnnuXgD8Omquhmgqn43wTFqYvXzTBTw0Ha8EfDrCYxPk6CqLgT+sJwuLwFOqs6lwMZJHjkx0WmyjPRcVNUPB/67A/+9udbo4z8vAN4EfBXw3xRrgT6eiVcCZ1bV/7X+q/1zYbJQq4JHA7/s+by4tQ3Zp6qWArcCm0xIdJoM/TwTvV4HfGtcI9KqYMTnoi0be0xVfXMiA9Ok6uc/L54EPCnJxUkuTbLcagGt9vp5Jo4CXpVkMXAu3f/Tp7XbaP/tobWP/94UAEkeDeyPFci635OAhyWZk2RekldPdkAra8pkByBJKyPJq4DZwDMnOxZNriQPAv4DOGSSQ9GqZwrd0sI96apCLkyyXVXdMplBaVIdBHyhqj6aZDfg5CTbVtWfJjswSaueJHvRJQt3n+xYtEr4OPDPVfUnF7upmQLsDDwbWA+4JMmlVfXjyQ1rxZks1KrgV8Bjej5v3tqG6rM4yRS6JUM3TUx4mgT9PBMk2Rt4B91eMvdMUGyaPCM9FxsC2wJz2j/cNgPOTvLiqpo7YVFqovXznxeLgcuq6j7g50l+TJc8vGJiQtQE6+eZeB1t76GquiTJVGA6Lidbm/X1bw+tfZJsD3wOeH5V+f9/CLpChS+1f29OB/ZNsrSqvjapUWkyLQZuqqo7gDuSXAjsAKy2yUKXIWtVcAWwZZLHJ3kw3UbjZw/qczbwmnb8UuB7VVUTGKMm1ojPRJIdgf+i20TW/+du7bDc56Kqbq2q6VU1o6pm0O0tZKJwzdfPf4d8ja6qkCTT6ZaK/GwCY9TE6ueZ+D+6//WfJE8GpgK/n9Aotao5G3h1eyvyU4Fbq+o3kx2UJleSxwJnAn+zOlcIaWxV1eN7/r35FeAwE4Vrva8DuyeZkmQa8BTgukmOaaVYWahJV1VLkxwOfAdYBzihqq5J8l5gblWdDfw33RKhn9BtLPqKyYtY463PZ+IYYAPgjPa/6v1fVb140oLWuOvzudBaps/n4jvAPkmuBZYBb7c6ZM3V5zPxT8Bnk7yN7mUnh/g/Qq7ZkpxG9z8aTG97Vb4bWBegqj5Dt3flvsBPgDuBv52cSDWR+ngu3kW3T/px7d+bS6tq9uREq4nSx3OhtcxIz0RVXZfk28BC4E/A56rq6smKdyzEfxdJkiRJkiRJApchS5IkSZIkSWpMFkqSJEmSJEkCTBZKkiRJkiRJakwWSpIkSZIkSQJMFkqSJEmSJEmrhSQnJPldkr7euJzk5UmuTXJNki/2dY1vQ5YkSZIeKMlmwMeBXYBbgN8Cb62qH4/R+HsC91bVD8diPEmStHZI8gzgduCkqtp2hL5bAl8GnlVVNyf5q6r63UhzWFkoSZIk9UgS4CxgTlVtUVU7A/8CbDqG0+wJPG0Mx5MkSWuBqroQ+ENvW5Itknw7ybwkFyXZup16A/Dpqrq5XTtiohBMFkqSJEmD7QXcV1WfGWioqquAHyQ5JsnVSRYlORC6KsEk5wz0TfKpJIe04xuSvCfJle2arZPMAN4IvC3JgiR7TOTNSZKkNc7xwJva/8B5BHBca38S8KQkFye5NMnz+hlsyjgFKUmSJK2utgXmDdH+18AsYAdgOnBFkgv7GG9JVe2U5DDgiKp6fZLPALdX1UfGKmhJkrT2SbIB3WqFM7rFEQA8pP2eAmxJt6Jhc+DCJNtV1S3LG9NkoSRJktSf3YHTqmoZ8Nsk36fb0/CPI1x3Zvs9jy7hKEmSNFYeBNxSVbOGOLcYuKyq7gN+nuTHdMnDK0YaUJIkSdL9rgF2HkX/pTzw39VTB52/p/1ehv9jvSRJGkNV9Ue6RODLoNt7OckO7fTX6KoKSTKdblnyz0Ya02ShJEmS9EDfAx6S5NCBhiTb070V+cAk6yR5BPAM4HLgF8DMJA9JsjHw7D7muA3YcKwDlyRJa7YkpwGXAFslWZzkdcDBwOuSXEX3P3q+pHX/DnBTkmuBC4C3V9VNI83h/7IpSZIk9aiqSrI/8PEk/wzcDdwAvBXYALgKKPj/7d0hbgIwGIDRrydE7xoTHIrgOAIHmJnH7hY/gjqyBDHF3kuqmqap/ZK2HWfmp2qtdaq+q1v19cI2l+q81jr0eJD8+tfnAADez8x8/DL19HnJzEz1ucfL1mMdAAAAAPDfuYYMAAAAAFRiIQAAAACwiYUAAAAAQCUWAgAAAACbWAgAAAAAVGIhAAAAALCJhQAAAABAJRYCAAAAANsdYn8r/wQ8iF8AAAAASUVORK5CYII=\n",
       "datasetInfos": [],
       "metadata": {},
       "removedWidgets": [],
       "type": "image"
      }
     },
     "output_type": "display_data"
    }
   ],
   "source": [
    "pd_pre_crash_count['count'] = pd_pre_crash_count['count'].astype(int)\n",
    "plt.figure(figsize=(20, 6))  \n",
    "plt.barh(pd_pre_crash_count['PRE_CRASH'] , pd_pre_crash_count['count'] , color='skyblue')\n",
    "plt.title(\"CRASH DISTRIBUTION BY PRE_CRASH_ACTION\")\n",
    "plt.xlabel(\"Count\")\n",
    "plt.ylabel(\"PRE_CRASH_ACTION\")\n",
    "plt.gca().invert_yaxis()\n",
    "plt.legend()  \n",
    "plt.show()\n"
   ]
  },
  {
   "cell_type": "code",
   "execution_count": 0,
   "metadata": {
    "application/vnd.databricks.v1+cell": {
     "cellMetadata": {
      "byteLimit": 2048000,
      "rowLimit": 10000
     },
     "inputWidgets": {},
     "nuid": "d211399c-92fa-4582-ac7b-4ac384122fcd",
     "showTitle": false,
     "title": ""
    }
   },
   "outputs": [
    {
     "output_type": "stream",
     "name": "stdout",
     "output_type": "stream",
     "text": [
      "root\n |-- CRASH DATE: string (nullable = true)\n |-- CRASH TIME: string (nullable = true)\n |-- BOROUGH: string (nullable = true)\n |-- ZIP CODE: string (nullable = true)\n |-- LATITUDE: string (nullable = true)\n |-- LONGITUDE: string (nullable = true)\n |-- LOCATION: string (nullable = true)\n |-- ON STREET NAME: string (nullable = true)\n |-- CROSS STREET NAME: string (nullable = true)\n |-- OFF STREET NAME: string (nullable = true)\n |-- NUMBER OF PERSONS INJURED: string (nullable = true)\n |-- NUMBER OF PERSONS KILLED: string (nullable = true)\n |-- NUMBER OF PEDESTRIANS INJURED: string (nullable = true)\n |-- NUMBER OF PEDESTRIANS KILLED: string (nullable = true)\n |-- NUMBER OF CYCLIST INJURED: string (nullable = true)\n |-- NUMBER OF CYCLIST KILLED: string (nullable = true)\n |-- NUMBER OF MOTORIST INJURED: string (nullable = true)\n |-- NUMBER OF MOTORIST KILLED: string (nullable = true)\n |-- CONTRIBUTING FACTOR VEHICLE 1: string (nullable = true)\n |-- CONTRIBUTING FACTOR VEHICLE 2: string (nullable = true)\n |-- CONTRIBUTING FACTOR VEHICLE 3: string (nullable = true)\n |-- CONTRIBUTING FACTOR VEHICLE 4: string (nullable = true)\n |-- CONTRIBUTING FACTOR VEHICLE 5: string (nullable = true)\n |-- COLLISION_ID: string (nullable = true)\n |-- VEHICLE TYPE CODE 1: string (nullable = true)\n |-- VEHICLE TYPE CODE 2: string (nullable = true)\n |-- VEHICLE TYPE CODE 3: string (nullable = true)\n |-- VEHICLE TYPE CODE 4: string (nullable = true)\n |-- VEHICLE TYPE CODE 5: string (nullable = true)\n\n"
     ]
    }
   ],
   "source": [
    "df1.printSchema()"
   ]
  },
  {
   "cell_type": "code",
   "execution_count": 0,
   "metadata": {
    "application/vnd.databricks.v1+cell": {
     "cellMetadata": {
      "byteLimit": 2048000,
      "rowLimit": 10000
     },
     "inputWidgets": {},
     "nuid": "e562374a-381c-4b1c-a69b-028f285b61d2",
     "showTitle": false,
     "title": ""
    }
   },
   "outputs": [
    {
     "output_type": "stream",
     "name": "stdout",
     "output_type": "stream",
     "text": [
      "Out[3]: 646431"
     ]
    }
   ],
   "source": [
    "df1.where(F.col(\"BOROUGH\").isNull()).count()"
   ]
  },
  {
   "cell_type": "code",
   "execution_count": 0,
   "metadata": {
    "application/vnd.databricks.v1+cell": {
     "cellMetadata": {
      "byteLimit": 2048000,
      "rowLimit": 10000
     },
     "inputWidgets": {},
     "nuid": "e49486ad-d242-44b7-8633-00b09958d99a",
     "showTitle": false,
     "title": ""
    }
   },
   "outputs": [
    {
     "output_type": "stream",
     "name": "stdout",
     "output_type": "stream",
     "text": [
      "Out[4]: 1431168"
     ]
    }
   ],
   "source": [
    "df_pk = df1.filter(F.col(\"BOROUGH\").isNotNull())\n",
    "df_pk.count()"
   ]
  },
  {
   "cell_type": "code",
   "execution_count": 0,
   "metadata": {
    "application/vnd.databricks.v1+cell": {
     "cellMetadata": {
      "byteLimit": 2048000,
      "rowLimit": 10000
     },
     "inputWidgets": {},
     "nuid": "047fe091-d9c8-4afb-b6c1-a3ab985484f2",
     "showTitle": false,
     "title": ""
    }
   },
   "outputs": [
    {
     "output_type": "stream",
     "name": "stdout",
     "output_type": "stream",
     "text": [
      "Out[5]: 11"
     ]
    }
   ],
   "source": [
    "df_pk.where(F.col(\"NUMBER OF PERSONS INJURED\").isNull()).count()"
   ]
  },
  {
   "cell_type": "code",
   "execution_count": 0,
   "metadata": {
    "application/vnd.databricks.v1+cell": {
     "cellMetadata": {
      "byteLimit": 2048000,
      "rowLimit": 10000
     },
     "inputWidgets": {},
     "nuid": "8161433e-9145-4e5c-9804-5e9684834b63",
     "showTitle": false,
     "title": ""
    }
   },
   "outputs": [
    {
     "output_type": "stream",
     "name": "stdout",
     "output_type": "stream",
     "text": [
      "Out[6]: 1431157"
     ]
    }
   ],
   "source": [
    "df_pk = df_pk.filter(F.col(\"NUMBER OF PERSONS INJURED\").isNotNull())\n",
    "df_pk.count()"
   ]
  },
  {
   "cell_type": "code",
   "execution_count": 0,
   "metadata": {
    "application/vnd.databricks.v1+cell": {
     "cellMetadata": {
      "byteLimit": 2048000,
      "rowLimit": 10000
     },
     "inputWidgets": {},
     "nuid": "cc3787e9-c91d-4192-bc01-86e5922d53bd",
     "showTitle": false,
     "title": ""
    }
   },
   "outputs": [
    {
     "output_type": "stream",
     "name": "stdout",
     "output_type": "stream",
     "text": [
      "+-------------+---------------------+\n|      BOROUGH|Total Persons Injured|\n+-------------+---------------------+\n|       QUEENS|             115539.0|\n|     BROOKLYN|             150695.0|\n|        BRONX|              69285.0|\n|    MANHATTAN|              67467.0|\n|STATEN ISLAND|              17174.0|\n+-------------+---------------------+\n\n"
     ]
    }
   ],
   "source": [
    "injuries_by_borough = df_pk.groupBy('BOROUGH').agg(F.sum('NUMBER OF PERSONS INJURED').alias('Total Persons Injured'))\n",
    "injuries_by_borough.show()"
   ]
  },
  {
   "cell_type": "code",
   "execution_count": 0,
   "metadata": {
    "application/vnd.databricks.v1+cell": {
     "cellMetadata": {
      "byteLimit": 2048000,
      "rowLimit": 10000
     },
     "inputWidgets": {},
     "nuid": "8404d6f8-01b4-42ad-b39d-2e6e6fe1a282",
     "showTitle": false,
     "title": ""
    }
   },
   "outputs": [],
   "source": [
    "injuries_by_borough= injuries_by_borough.toPandas()"
   ]
  },
  {
   "cell_type": "code",
   "execution_count": 0,
   "metadata": {
    "application/vnd.databricks.v1+cell": {
     "cellMetadata": {},
     "inputWidgets": {},
     "nuid": "189f707a-1106-49d2-9c40-b96330e17179",
     "showTitle": false,
     "title": ""
    }
   },
   "outputs": [],
   "source": []
  },
  {
   "cell_type": "code",
   "execution_count": 0,
   "metadata": {
    "application/vnd.databricks.v1+cell": {
     "cellMetadata": {
      "byteLimit": 2048000,
      "rowLimit": 10000
     },
     "inputWidgets": {},
     "nuid": "a7900c68-56bc-48cd-81b4-b14fd9093cbd",
     "showTitle": false,
     "title": ""
    }
   },
   "outputs": [
    {
     "output_type": "stream",
     "name": "stdout",
     "output_type": "stream",
     "text": [
      "<Figure size 720x576 with 0 Axes>"
     ]
    },
    {
     "output_type": "display_data",
     "data": {
      "image/png": "[encoded data removed]"
     },
     "metadata": {
      "application/vnd.databricks.v1+output": {
       "addedWidgets": {},
       "arguments": {},
       "data": "data:image/png;base64,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\n",
       "datasetInfos": [],
       "metadata": {},
       "removedWidgets": [],
       "type": "image"
      }
     },
     "output_type": "display_data"
    }
   ],
   "source": [
    "plt.figure(figsize=(10, 8))\n",
    "injuries_by_borough.plot(kind='bar', x='BOROUGH', y='Total Persons Injured')\n",
    "plt.title(\"Proportion of Total Persons Injured by Borough\")\n",
    "plt.xlabel(\"BOROUGH\")\n",
    "plt.ylabel(\"TOTAL Persons Injured\")\n",
    "plt.show()"
   ]
  },
  {
   "cell_type": "code",
   "execution_count": 0,
   "metadata": {
    "application/vnd.databricks.v1+cell": {
     "cellMetadata": {
      "byteLimit": 2048000,
      "rowLimit": 10000
     },
     "inputWidgets": {},
     "nuid": "870e8283-f265-4010-ad4c-dff2905709e7",
     "showTitle": false,
     "title": ""
    }
   },
   "outputs": [
    {
     "output_type": "stream",
     "name": "stdout",
     "output_type": "stream",
     "text": [
      "Out[62]: 16"
     ]
    }
   ],
   "source": [
    "df_pk.where(F.col(\"NUMBER OF PERSONS KILLED\").isNull()).count()"
   ]
  },
  {
   "cell_type": "code",
   "execution_count": 0,
   "metadata": {
    "application/vnd.databricks.v1+cell": {
     "cellMetadata": {
      "byteLimit": 2048000,
      "rowLimit": 10000
     },
     "inputWidgets": {},
     "nuid": "f97a3866-4ffe-4773-970d-32344ef1a727",
     "showTitle": false,
     "title": ""
    }
   },
   "outputs": [
    {
     "output_type": "stream",
     "name": "stdout",
     "output_type": "stream",
     "text": [
      "Out[15]: 1431141"
     ]
    }
   ],
   "source": [
    "df_pk = df_pk.filter(F.col(\"NUMBER OF PERSONS KILLED\").isNotNull())\n",
    "df_pk.count()"
   ]
  },
  {
   "cell_type": "code",
   "execution_count": 0,
   "metadata": {
    "application/vnd.databricks.v1+cell": {
     "cellMetadata": {
      "byteLimit": 2048000,
      "rowLimit": 10000
     },
     "inputWidgets": {},
     "nuid": "aeaf8138-6e73-4967-bf71-cb57e738b4c3",
     "showTitle": false,
     "title": ""
    }
   },
   "outputs": [
    {
     "output_type": "stream",
     "name": "stdout",
     "output_type": "stream",
     "text": [
      "+-------------+--------------------+\n|      BOROUGH|Total Persons Killed|\n+-------------+--------------------+\n|       QUEENS|               528.0|\n|     BROOKLYN|               625.0|\n|        BRONX|               275.0|\n|    MANHATTAN|               330.0|\n|STATEN ISLAND|                95.0|\n+-------------+--------------------+\n\n"
     ]
    }
   ],
   "source": [
    "killed_by_borough = df_pk.groupBy('BOROUGH').agg(F.sum('NUMBER OF PERSONS KILLED').alias('Total Persons Killed'))\n",
    "killed_by_borough.show()"
   ]
  },
  {
   "cell_type": "code",
   "execution_count": 0,
   "metadata": {
    "application/vnd.databricks.v1+cell": {
     "cellMetadata": {
      "byteLimit": 2048000,
      "rowLimit": 10000
     },
     "inputWidgets": {},
     "nuid": "3a882ea1-ca1a-4b9b-81f4-a315f28e40c6",
     "showTitle": false,
     "title": ""
    }
   },
   "outputs": [],
   "source": [
    "killed_by_borough=killed_by_borough.toPandas()"
   ]
  },
  {
   "cell_type": "code",
   "execution_count": 0,
   "metadata": {
    "application/vnd.databricks.v1+cell": {
     "cellMetadata": {
      "byteLimit": 2048000,
      "rowLimit": 10000
     },
     "inputWidgets": {},
     "nuid": "4d00cd98-3483-4faf-8bcd-27d0f4f78a68",
     "showTitle": false,
     "title": ""
    }
   },
   "outputs": [],
   "source": [
    "j = killed_by_borough.join(injuries_by_borough, \"BOROUGH\")"
   ]
  },
  {
   "cell_type": "code",
   "execution_count": 0,
   "metadata": {
    "application/vnd.databricks.v1+cell": {
     "cellMetadata": {
      "byteLimit": 2048000,
      "rowLimit": 10000
     },
     "inputWidgets": {},
     "nuid": "3fab4d12-b4d5-4df9-970c-767b16d65b22",
     "showTitle": false,
     "title": ""
    }
   },
   "outputs": [
    {
     "output_type": "stream",
     "name": "stdout",
     "output_type": "stream",
     "text": [
      "+-------------+--------------------+---------------------+\n|      BOROUGH|Total Persons Killed|Total Persons Injured|\n+-------------+--------------------+---------------------+\n|       QUEENS|               528.0|             115539.0|\n|     BROOKLYN|               625.0|             150695.0|\n|        BRONX|               275.0|              69285.0|\n|    MANHATTAN|               330.0|              67467.0|\n|STATEN ISLAND|                95.0|              17174.0|\n+-------------+--------------------+---------------------+\n\n"
     ]
    }
   ],
   "source": [
    "j.show()"
   ]
  },
  {
   "cell_type": "code",
   "execution_count": 0,
   "metadata": {
    "application/vnd.databricks.v1+cell": {
     "cellMetadata": {
      "byteLimit": 2048000,
      "rowLimit": 10000
     },
     "inputWidgets": {},
     "nuid": "33cf4d49-50fe-44b4-9b19-a95a6b2794c2",
     "showTitle": false,
     "title": ""
    }
   },
   "outputs": [],
   "source": [
    "j =j.toPandas()"
   ]
  },
  {
   "cell_type": "code",
   "execution_count": 0,
   "metadata": {
    "application/vnd.databricks.v1+cell": {
     "cellMetadata": {
      "byteLimit": 2048000,
      "rowLimit": 10000
     },
     "inputWidgets": {},
     "nuid": "48e08a17-9fda-44b2-af79-29b049ed7753",
     "showTitle": false,
     "title": ""
    }
   },
   "outputs": [
    {
     "output_type": "display_data",
     "data": {
      "text/html": [
       "<div>\n",
       "<style scoped>\n",
       "    .dataframe tbody tr th:only-of-type {\n",
       "        vertical-align: middle;\n",
       "    }\n",
       "\n",
       "    .dataframe tbody tr th {\n",
       "        vertical-align: top;\n",
       "    }\n",
       "\n",
       "    .dataframe thead th {\n",
       "        text-align: right;\n",
       "    }\n",
       "</style>\n",
       "<table border=\"1\" class=\"dataframe\">\n",
       "  <thead>\n",
       "    <tr style=\"text-align: right;\">\n",
       "      <th></th>\n",
       "      <th>BOROUGH</th>\n",
       "      <th>Total Persons Killed</th>\n",
       "      <th>Total Persons Injured</th>\n",
       "    </tr>\n",
       "  </thead>\n",
       "  <tbody>\n",
       "    <tr>\n",
       "      <th>0</th>\n",
       "      <td>QUEENS</td>\n",
       "      <td>528.0</td>\n",
       "      <td>115539.0</td>\n",
       "    </tr>\n",
       "    <tr>\n",
       "      <th>1</th>\n",
       "      <td>BROOKLYN</td>\n",
       "      <td>625.0</td>\n",
       "      <td>150695.0</td>\n",
       "    </tr>\n",
       "    <tr>\n",
       "      <th>2</th>\n",
       "      <td>BRONX</td>\n",
       "      <td>275.0</td>\n",
       "      <td>69285.0</td>\n",
       "    </tr>\n",
       "    <tr>\n",
       "      <th>3</th>\n",
       "      <td>MANHATTAN</td>\n",
       "      <td>330.0</td>\n",
       "      <td>67467.0</td>\n",
       "    </tr>\n",
       "    <tr>\n",
       "      <th>4</th>\n",
       "      <td>STATEN ISLAND</td>\n",
       "      <td>95.0</td>\n",
       "      <td>17174.0</td>\n",
       "    </tr>\n",
       "  </tbody>\n",
       "</table>\n",
       "</div>"
      ]
     },
     "metadata": {
      "application/vnd.databricks.v1+output": {
       "addedWidgets": {},
       "arguments": {},
       "data": "<div>\n<style scoped>\n    .dataframe tbody tr th:only-of-type {\n        vertical-align: middle;\n    }\n\n    .dataframe tbody tr th {\n        vertical-align: top;\n    }\n\n    .dataframe thead th {\n        text-align: right;\n    }\n</style>\n<table border=\"1\" class=\"dataframe\">\n  <thead>\n    <tr style=\"text-align: right;\">\n      <th></th>\n      <th>BOROUGH</th>\n      <th>Total Persons Killed</th>\n      <th>Total Persons Injured</th>\n    </tr>\n  </thead>\n  <tbody>\n    <tr>\n      <th>0</th>\n      <td>QUEENS</td>\n      <td>528.0</td>\n      <td>115539.0</td>\n    </tr>\n    <tr>\n      <th>1</th>\n      <td>BROOKLYN</td>\n      <td>625.0</td>\n      <td>150695.0</td>\n    </tr>\n    <tr>\n      <th>2</th>\n      <td>BRONX</td>\n      <td>275.0</td>\n      <td>69285.0</td>\n    </tr>\n    <tr>\n      <th>3</th>\n      <td>MANHATTAN</td>\n      <td>330.0</td>\n      <td>67467.0</td>\n    </tr>\n    <tr>\n      <th>4</th>\n      <td>STATEN ISLAND</td>\n      <td>95.0</td>\n      <td>17174.0</td>\n    </tr>\n  </tbody>\n</table>\n</div>",
       "datasetInfos": [],
       "metadata": {},
       "removedWidgets": [],
       "textData": null,
       "type": "htmlSandbox"
      }
     },
     "output_type": "display_data"
    }
   ],
   "source": [
    "j.head()"
   ]
  },
  {
   "cell_type": "code",
   "execution_count": 0,
   "metadata": {
    "application/vnd.databricks.v1+cell": {
     "cellMetadata": {
      "byteLimit": 2048000,
      "rowLimit": 10000
     },
     "inputWidgets": {},
     "nuid": "a86a772d-69ec-45f3-954e-bcbcef9f463d",
     "showTitle": false,
     "title": ""
    }
   },
   "outputs": [
    {
     "output_type": "display_data",
     "data": {
      "application/vnd.databricks.v1+bamboolib_hint": "{\"pd.DataFrames\": [\"j\"], \"version\": \"0.0.1\"}",
      "text/plain": []
     },
     "metadata": {},
     "output_type": "display_data"
    },
    {
     "output_type": "stream",
     "name": "stdout",
     "output_type": "stream",
     "text": [
      "<Figure size 720x432 with 0 Axes>"
     ]
    },
    {
     "output_type": "display_data",
     "data": {
      "image/png": "[encoded data removed]"
     },
     "metadata": {
      "application/vnd.databricks.v1+output": {
       "addedWidgets": {},
       "arguments": {},
       "data": "data:image/png;base64,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\n",
       "datasetInfos": [],
       "metadata": {},
       "removedWidgets": [],
       "type": "image"
      }
     },
     "output_type": "display_data"
    }
   ],
   "source": [
    "\n",
    "import pandas as pd\n",
    "data = pd.DataFrame({\n",
    "    'BOROUGH': ['QUEENS', 'BROOKLYN', 'BRONX', 'MANHATTAN', 'STATEN ISLAND'],\n",
    "    'Total Persons Killed': [528, 625, 275, 330, 95],\n",
    "    'Total Persons Injured': [115539, 150695, 69285, 67467, 17174]\n",
    "})\n",
    "\n",
    "plt.figure(figsize=(10, 6))\n",
    "\n",
    "# Plot stacked bar chart\n",
    "data.plot(kind='bar', x='BOROUGH', stacked=True, figsize=(10, 6))\n",
    "\n",
    "plt.title('Total Persons Killed and Injured by Borough')\n",
    "plt.xlabel('Borough')\n",
    "plt.ylabel('Count')\n",
    "\n",
    "# Show legend\n",
    "plt.legend([\"Total Persons Killed\", \"Total Persons Injured\"], loc=\"upper left\")\n",
    "\n",
    "plt.show()\n"
   ]
  },
  {
   "cell_type": "code",
   "execution_count": 0,
   "metadata": {
    "application/vnd.databricks.v1+cell": {
     "cellMetadata": {
      "byteLimit": 2048000,
      "rowLimit": 10000
     },
     "inputWidgets": {},
     "nuid": "228c5b5a-9898-46b3-b054-0e04c001aa94",
     "showTitle": false,
     "title": ""
    }
   },
   "outputs": [
    {
     "output_type": "stream",
     "name": "stdout",
     "output_type": "stream",
     "text": [
      "<Figure size 1440x432 with 0 Axes>"
     ]
    },
    {
     "output_type": "display_data",
     "data": {
      "image/png": "[encoded data removed]"
     },
     "metadata": {
      "application/vnd.databricks.v1+output": {
       "addedWidgets": {},
       "arguments": {},
       "data": "data:image/png;base64,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\n",
       "datasetInfos": [],
       "metadata": {},
       "removedWidgets": [],
       "type": "image"
      }
     },
     "output_type": "display_data"
    }
   ],
   "source": [
    "plt.figure(figsize=(20, 6))  \n",
    "killed_by_borough.plot(kind='bar', x='BOROUGH', y='Total Persons Killed')\n",
    "plt.title(\"People Killed Borough wise\")\n",
    "plt.xlabel(\"BOROUGH\")\n",
    "plt.ylabel(\"TOTAL Persons Killed\")\n",
    "plt.legend()  \n",
    "plt.show()"
   ]
  },
  {
   "cell_type": "code",
   "execution_count": 0,
   "metadata": {
    "application/vnd.databricks.v1+cell": {
     "cellMetadata": {
      "byteLimit": 2048000,
      "rowLimit": 10000
     },
     "inputWidgets": {},
     "nuid": "637ec9df-2b04-4814-901f-36f6d020bb4f",
     "showTitle": false,
     "title": ""
    }
   },
   "outputs": [
    {
     "output_type": "stream",
     "name": "stdout",
     "output_type": "stream",
     "text": [
      "Out[67]: 0"
     ]
    }
   ],
   "source": [
    "df_pk.where(F.col(\"NUMBER OF PEDESTRIANS INJURED\").isNull()).count()"
   ]
  },
  {
   "cell_type": "code",
   "execution_count": 0,
   "metadata": {
    "application/vnd.databricks.v1+cell": {
     "cellMetadata": {
      "byteLimit": 2048000,
      "rowLimit": 10000
     },
     "inputWidgets": {},
     "nuid": "8c97356b-6032-42af-befc-2b9c86df30b8",
     "showTitle": false,
     "title": ""
    }
   },
   "outputs": [
    {
     "output_type": "stream",
     "name": "stdout",
     "output_type": "stream",
     "text": [
      "Out[68]: 0"
     ]
    }
   ],
   "source": [
    "df_pk.where(F.col(\"NUMBER OF CYCLIST INJURED\").isNull()).count()"
   ]
  },
  {
   "cell_type": "code",
   "execution_count": 0,
   "metadata": {
    "application/vnd.databricks.v1+cell": {
     "cellMetadata": {
      "byteLimit": 2048000,
      "rowLimit": 10000
     },
     "inputWidgets": {},
     "nuid": "577e17a5-d089-4a25-94a7-83f606a3e1de",
     "showTitle": false,
     "title": ""
    }
   },
   "outputs": [
    {
     "output_type": "stream",
     "name": "stdout",
     "output_type": "stream",
     "text": [
      "Out[69]: 0"
     ]
    }
   ],
   "source": [
    "df_pk.where(F.col(\"NUMBER OF MOTORIST INJURED\").isNull()).count()"
   ]
  },
  {
   "cell_type": "code",
   "execution_count": 0,
   "metadata": {
    "application/vnd.databricks.v1+cell": {
     "cellMetadata": {
      "byteLimit": 2048000,
      "rowLimit": 10000
     },
     "inputWidgets": {},
     "nuid": "f5877a85-c677-4a98-a56e-8fb22baf3310",
     "showTitle": false,
     "title": ""
    }
   },
   "outputs": [],
   "source": [
    "injured_counts = df_pk.agg(\n",
    "    F.sum(\"NUMBER OF PEDESTRIANS INJURED\").alias(\"Pedestrians Injured\"),\n",
    "    F.sum(\"NUMBER OF CYCLIST INJURED\").alias(\"Cyclists Injured\"),\n",
    "    F.sum(\"NUMBER OF MOTORIST INJURED\").alias(\"Motorists Injured\"))"
   ]
  },
  {
   "cell_type": "code",
   "execution_count": 0,
   "metadata": {
    "application/vnd.databricks.v1+cell": {
     "cellMetadata": {
      "byteLimit": 2048000,
      "rowLimit": 10000
     },
     "inputWidgets": {},
     "nuid": "62f3b06f-e182-4dc2-bf63-757f2dc3f5c6",
     "showTitle": false,
     "title": ""
    }
   },
   "outputs": [
    {
     "output_type": "stream",
     "name": "stdout",
     "output_type": "stream",
     "text": [
      "+-------------------+----------------+-----------------+\n|Pedestrians Injured|Cyclists Injured|Motorists Injured|\n+-------------------+----------------+-----------------+\n|            93735.0|         43118.0|         277686.0|\n+-------------------+----------------+-----------------+\n\n"
     ]
    }
   ],
   "source": [
    "injured_counts.show()"
   ]
  },
  {
   "cell_type": "code",
   "execution_count": 0,
   "metadata": {
    "application/vnd.databricks.v1+cell": {
     "cellMetadata": {
      "byteLimit": 2048000,
      "rowLimit": 10000
     },
     "inputWidgets": {},
     "nuid": "a9ff47cd-177d-422e-ae8e-da80ee69b3fa",
     "showTitle": false,
     "title": ""
    }
   },
   "outputs": [],
   "source": [
    "injured_counts = injured_counts.toPandas()"
   ]
  },
  {
   "cell_type": "code",
   "execution_count": 0,
   "metadata": {
    "application/vnd.databricks.v1+cell": {
     "cellMetadata": {
      "byteLimit": 2048000,
      "rowLimit": 10000
     },
     "inputWidgets": {},
     "nuid": "b185b59d-7e04-4bb5-a429-16c2fa9e2676",
     "showTitle": false,
     "title": ""
    }
   },
   "outputs": [
    {
     "output_type": "display_data",
     "data": {
      "image/png": "[encoded data removed]"
     },
     "metadata": {
      "application/vnd.databricks.v1+output": {
       "addedWidgets": {},
       "arguments": {},
       "data": "data:image/png;base64,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\n",
       "datasetInfos": [],
       "metadata": {},
       "removedWidgets": [],
       "type": "image"
      }
     },
     "output_type": "display_data"
    }
   ],
   "source": [
    "categories = [\"Pedestrians\", \"Cyclists\", \"Motorists\"]\n",
    "counts = [93735, 43118, 277686]\n",
    "colors = [\"skyblue\", \"lightgreen\", \"salmon\"]  # Specify colors for each category\n",
    "\n",
    "# Plotting the bar graph\n",
    "plt.figure(figsize=(10, 6))\n",
    "plt.bar(categories, counts, color=colors)\n",
    "plt.title(\"Distribution of Persons Injured in Collisions\")\n",
    "plt.xlabel(\"Person Type\")\n",
    "plt.ylabel(\"Count\")\n",
    "plt.show()"
   ]
  },
  {
   "cell_type": "code",
   "execution_count": 0,
   "metadata": {
    "application/vnd.databricks.v1+cell": {
     "cellMetadata": {
      "byteLimit": 2048000,
      "rowLimit": 10000
     },
     "inputWidgets": {},
     "nuid": "94ec551b-8d2b-4056-a85e-89cc63dbec75",
     "showTitle": false,
     "title": ""
    }
   },
   "outputs": [
    {
     "output_type": "stream",
     "name": "stdout",
     "output_type": "stream",
     "text": [
      "Out[74]: 0"
     ]
    }
   ],
   "source": [
    "df_pk.where(F.col(\"NUMBER OF PEDESTRIANS KILLED\").isNull()).count()"
   ]
  },
  {
   "cell_type": "code",
   "execution_count": 0,
   "metadata": {
    "application/vnd.databricks.v1+cell": {
     "cellMetadata": {
      "byteLimit": 2048000,
      "rowLimit": 10000
     },
     "inputWidgets": {},
     "nuid": "7d6717cb-5658-4bcc-aae2-e98da6442b71",
     "showTitle": false,
     "title": ""
    }
   },
   "outputs": [
    {
     "output_type": "stream",
     "name": "stdout",
     "output_type": "stream",
     "text": [
      "Out[75]: 0"
     ]
    }
   ],
   "source": [
    "df_pk.where(F.col(\"NUMBER OF CYCLIST KILLED\").isNull()).count()"
   ]
  },
  {
   "cell_type": "code",
   "execution_count": 0,
   "metadata": {
    "application/vnd.databricks.v1+cell": {
     "cellMetadata": {
      "byteLimit": 2048000,
      "rowLimit": 10000
     },
     "inputWidgets": {},
     "nuid": "80f48a13-9118-43d3-a499-d8226a0a39c2",
     "showTitle": false,
     "title": ""
    }
   },
   "outputs": [
    {
     "output_type": "stream",
     "name": "stdout",
     "output_type": "stream",
     "text": [
      "Out[76]: 0"
     ]
    }
   ],
   "source": [
    "df_pk.where(F.col(\"NUMBER OF MOTORIST KILLED\").isNull()).count()"
   ]
  },
  {
   "cell_type": "code",
   "execution_count": 0,
   "metadata": {
    "application/vnd.databricks.v1+cell": {
     "cellMetadata": {
      "byteLimit": 2048000,
      "rowLimit": 10000
     },
     "inputWidgets": {},
     "nuid": "93a2f1d0-634b-4b78-b7c7-fecdc428966e",
     "showTitle": false,
     "title": ""
    }
   },
   "outputs": [
    {
     "output_type": "display_data",
     "data": {
      "text/html": [
       "<style scoped>\n",
       "  .ansiout {\n",
       "    display: block;\n",
       "    unicode-bidi: embed;\n",
       "    white-space: pre-wrap;\n",
       "    word-wrap: break-word;\n",
       "    word-break: break-all;\n",
       "    font-family: \"Menlo\", \"Monaco\", \"Consolas\", \"Ubuntu Mono\", \"Source Code Pro\", monospace;\n",
       "    font-size: 13px;\n",
       "    color: #555;\n",
       "    margin-left: 4px;\n",
       "    line-height: 19px;\n",
       "  }\n",
       "</style>"
      ]
     },
     "metadata": {
      "application/vnd.databricks.v1+output": {
       "arguments": {},
       "data": "",
       "errorSummary": "The spark driver has stopped unexpectedly and is restarting. Your notebook will be automatically reattached.",
       "errorTraceType": "html",
       "metadata": {},
       "type": "ipynbError"
      }
     },
     "output_type": "display_data"
    }
   ],
   "source": [
    "injured_killed = df_pk.agg(\n",
    "    F.sum(\"NUMBER OF PEDESTRIANS KILLED\").alias(\"Pedestrians Killed\"),\n",
    "    F.sum(\"NUMBER OF CYCLIST KILLED\").alias(\"Cyclists Killed\"),\n",
    "    F.sum(\"NUMBER OF MOTORIST KILLED\").alias(\"Motorists Killed\"))"
   ]
  },
  {
   "cell_type": "code",
   "execution_count": 0,
   "metadata": {
    "application/vnd.databricks.v1+cell": {
     "cellMetadata": {
      "byteLimit": 2048000,
      "rowLimit": 10000
     },
     "inputWidgets": {},
     "nuid": "1c747291-82cf-4010-a629-8e0aa09e68c4",
     "showTitle": false,
     "title": ""
    }
   },
   "outputs": [
    {
     "output_type": "stream",
     "name": "stdout",
     "output_type": "stream",
     "text": [
      "+------------------+---------------+----------------+\n|Pedestrians Killed|Cyclists Killed|Motorists Killed|\n+------------------+---------------+----------------+\n|            1020.0|          170.0|           629.0|\n+------------------+---------------+----------------+\n\n"
     ]
    }
   ],
   "source": [
    "injured_killed.show()"
   ]
  },
  {
   "cell_type": "code",
   "execution_count": 0,
   "metadata": {
    "application/vnd.databricks.v1+cell": {
     "cellMetadata": {
      "byteLimit": 2048000,
      "rowLimit": 10000
     },
     "inputWidgets": {},
     "nuid": "4d75829b-d93c-463b-af09-cf9397a8322e",
     "showTitle": false,
     "title": ""
    }
   },
   "outputs": [
    {
     "output_type": "display_data",
     "data": {
      "text/html": [
       "<style scoped>\n",
       "  .ansiout {\n",
       "    display: block;\n",
       "    unicode-bidi: embed;\n",
       "    white-space: pre-wrap;\n",
       "    word-wrap: break-word;\n",
       "    word-break: break-all;\n",
       "    font-family: \"Menlo\", \"Monaco\", \"Consolas\", \"Ubuntu Mono\", \"Source Code Pro\", monospace;\n",
       "    font-size: 13px;\n",
       "    color: #555;\n",
       "    margin-left: 4px;\n",
       "    line-height: 19px;\n",
       "  }\n",
       "</style>"
      ]
     },
     "metadata": {
      "application/vnd.databricks.v1+output": {
       "arguments": {},
       "data": "",
       "errorSummary": "Cancelled",
       "errorTraceType": "html",
       "metadata": {},
       "type": "ipynbError"
      }
     },
     "output_type": "display_data"
    }
   ],
   "source": [
    "injured_killed_pd = injured_killed.toPandas()\n",
    "\n",
    "categories = [\"Pedestrians\", \"Cyclists\", \"Motorists\"]\n",
    "counts = [1020, 170, 629]\n",
    "# Plotting the bar graph\n",
    "plt.figure(figsize=(10, 6))\n",
    "injured_killed_pd.plot(kind='bar', ax=plt.gca())\n",
    "plt.title(\"Distribution of Persons Killed in Collisions\")\n",
    "plt.xlabel(\"Person Type\")\n",
    "plt.ylabel(\"Count\")\n",
    "plt.xticks(rotation=0)\n",
    "plt.show()"
   ]
  },
  {
   "cell_type": "code",
   "execution_count": 0,
   "metadata": {
    "application/vnd.databricks.v1+cell": {
     "cellMetadata": {},
     "inputWidgets": {},
     "nuid": "e85afb31-9a03-43a8-a0ee-97998d9633c9",
     "showTitle": false,
     "title": ""
    }
   },
   "outputs": [],
   "source": []
  },
  {
   "cell_type": "code",
   "execution_count": 0,
   "metadata": {
    "application/vnd.databricks.v1+cell": {
     "cellMetadata": {
      "byteLimit": 2048000,
      "rowLimit": 10000
     },
     "inputWidgets": {},
     "nuid": "9a9811a4-e434-4d3a-8bd8-38036702e766",
     "showTitle": false,
     "title": ""
    }
   },
   "outputs": [
    {
     "output_type": "stream",
     "name": "stdout",
     "output_type": "stream",
     "text": [
      "Out[80]: 147345"
     ]
    }
   ],
   "source": [
    "df3.where(F.col(\"CONTRIBUTING_FACTOR_1\").isNull()).count()"
   ]
  },
  {
   "cell_type": "code",
   "execution_count": 0,
   "metadata": {
    "application/vnd.databricks.v1+cell": {
     "cellMetadata": {
      "byteLimit": 2048000,
      "rowLimit": 10000
     },
     "inputWidgets": {},
     "nuid": "9e11f0dc-8bb8-40d9-bbe2-f2c31daaedc9",
     "showTitle": false,
     "title": ""
    }
   },
   "outputs": [
    {
     "output_type": "stream",
     "name": "stdout",
     "output_type": "stream",
     "text": [
      "Out[81]: 1686870"
     ]
    }
   ],
   "source": [
    "df3.where(F.col(\"CONTRIBUTING_FACTOR_2\").isNull()).count()"
   ]
  },
  {
   "cell_type": "code",
   "execution_count": 0,
   "metadata": {
    "application/vnd.databricks.v1+cell": {
     "cellMetadata": {
      "byteLimit": 2048000,
      "rowLimit": 10000
     },
     "inputWidgets": {},
     "nuid": "b9f17e9f-1afa-4bf3-b37d-95c9cfe31ee3",
     "showTitle": false,
     "title": ""
    }
   },
   "outputs": [
    {
     "output_type": "stream",
     "name": "stdout",
     "output_type": "stream",
     "text": [
      "Out[82]: 0"
     ]
    }
   ],
   "source": [
    "df3.where(F.col(\"CONTRIBUTING_FACTOR_1\").isNotNull() & F.col(\"CONTRIBUTING_FACTOR_2\").isNull() ).count()\n",
    "df3.where(F.col(\"CONTRIBUTING_FACTOR_1\").isNull() & F.col(\"CONTRIBUTING_FACTOR_2\").isNotNull() ).count()"
   ]
  },
  {
   "cell_type": "code",
   "execution_count": 0,
   "metadata": {
    "application/vnd.databricks.v1+cell": {
     "cellMetadata": {
      "byteLimit": 2048000,
      "rowLimit": 10000
     },
     "inputWidgets": {},
     "nuid": "62e57158-54df-419d-b230-c4a7578b7c44",
     "showTitle": false,
     "title": ""
    }
   },
   "outputs": [],
   "source": [
    "df3_filtered = df3.filter(F.col(\"CONTRIBUTING_FACTOR_1\").isNotNull())"
   ]
  },
  {
   "cell_type": "code",
   "execution_count": 0,
   "metadata": {
    "application/vnd.databricks.v1+cell": {
     "cellMetadata": {
      "byteLimit": 2048000,
      "rowLimit": 10000
     },
     "inputWidgets": {},
     "nuid": "da5a0b12-8eae-4906-ae91-b05842a4fcf8",
     "showTitle": false,
     "title": ""
    }
   },
   "outputs": [
    {
     "output_type": "stream",
     "name": "stdout",
     "output_type": "stream",
     "text": [
      "Out[84]: 0"
     ]
    }
   ],
   "source": [
    "df3_filtered.where(F.col(\"CONTRIBUTING_FACTOR_1\").isNull()).count()"
   ]
  },
  {
   "cell_type": "code",
   "execution_count": 0,
   "metadata": {
    "application/vnd.databricks.v1+cell": {
     "cellMetadata": {
      "byteLimit": 2048000,
      "rowLimit": 10000
     },
     "inputWidgets": {},
     "nuid": "467f7c57-85e5-4d6d-9127-cc0e52271ea1",
     "showTitle": false,
     "title": ""
    }
   },
   "outputs": [
    {
     "output_type": "stream",
     "name": "stdout",
     "output_type": "stream",
     "text": [
      "Out[89]: 1409453"
     ]
    }
   ],
   "source": [
    "df3_filtered.select(F.col(\"CONTRIBUTING_FACTOR_1\"),F.col(\"CONTRIBUTING_FACTOR_2\")).where(F.col(\"CONTRIBUTING_FACTOR_1\")== F.col(\"CONTRIBUTING_FACTOR_2\")).count()"
   ]
  },
  {
   "cell_type": "code",
   "execution_count": 0,
   "metadata": {
    "application/vnd.databricks.v1+cell": {
     "cellMetadata": {
      "byteLimit": 2048000,
      "rowLimit": 10000
     },
     "inputWidgets": {},
     "nuid": "aa44aae6-d115-4232-97dd-9124559fd26d",
     "showTitle": false,
     "title": ""
    }
   },
   "outputs": [],
   "source": [
    "df3_filtered = df3_filtered.withColumn(\"CONTRIBUTING_FACTOR_2\", \n",
    "                                       F.when(F.col(\"CONTRIBUTING_FACTOR_1\") == F.col(\"CONTRIBUTING_FACTOR_2\"), \n",
    "                                            None).otherwise(F.col(\"CONTRIBUTING_FACTOR_2\")))"
   ]
  },
  {
   "cell_type": "code",
   "execution_count": 0,
   "metadata": {
    "application/vnd.databricks.v1+cell": {
     "cellMetadata": {
      "byteLimit": 2048000,
      "rowLimit": 10000
     },
     "inputWidgets": {},
     "nuid": "9ff60f61-b0ef-4e09-ad37-d6b4cc0e5090",
     "showTitle": false,
     "title": ""
    }
   },
   "outputs": [
    {
     "output_type": "stream",
     "name": "stdout",
     "output_type": "stream",
     "text": [
      "Out[91]: 0"
     ]
    }
   ],
   "source": [
    "df3_filtered.select(F.col(\"CONTRIBUTING_FACTOR_1\"),F.col(\"CONTRIBUTING_FACTOR_2\")).where(F.col(\"CONTRIBUTING_FACTOR_1\")== F.col(\"CONTRIBUTING_FACTOR_2\")).count()"
   ]
  },
  {
   "cell_type": "code",
   "execution_count": 0,
   "metadata": {
    "application/vnd.databricks.v1+cell": {
     "cellMetadata": {
      "byteLimit": 2048000,
      "rowLimit": 10000
     },
     "inputWidgets": {},
     "nuid": "380c68b3-1afa-4526-885e-897b26b3f20d",
     "showTitle": false,
     "title": ""
    }
   },
   "outputs": [
    {
     "output_type": "display_data",
     "data": {
      "image/png": "[encoded data removed]"
     },
     "metadata": {
      "application/vnd.databricks.v1+output": {
       "addedWidgets": {},
       "arguments": {},
       "data": "data:image/png;base64,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\n",
       "datasetInfos": [],
       "metadata": {},
       "removedWidgets": [],
       "type": "image"
      }
     },
     "output_type": "display_data"
    }
   ],
   "source": [
    "from pyspark.sql.functions import explode, array\n",
    "\n",
    "from pyspark.sql.functions import explode, array, col\n",
    "\n",
    "# Filter out None values in CONTRIBUTING_FACTOR_1 and CONTRIBUTING_FACTOR_2 columns\n",
    "filtered_factors = df3_filtered.filter(col(\"CONTRIBUTING_FACTOR_1\").isNotNull() & col(\"CONTRIBUTING_FACTOR_2\").isNotNull())\n",
    "filtered_factors = df3_filtered.filter((col(\"CONTRIBUTING_FACTOR_1\") != \"Unspecified\") & (col(\"CONTRIBUTING_FACTOR_2\") != \"Unspecified\"))\n",
    "\n",
    "# Stack CONTRIBUTING_FACTOR_1 and CONTRIBUTING_FACTOR_2 vertically\n",
    "stacked_factors = filtered_factors.select(explode(array(\"CONTRIBUTING_FACTOR_1\", \"CONTRIBUTING_FACTOR_2\")).alias(\"factors\"))\n",
    "\n",
    "# Count occurrences of each factor\n",
    "factor_counts = stacked_factors.groupBy(\"factors\").count()\n",
    "\n",
    "# Sort by count in descending order\n",
    "factor_counts = factor_counts.orderBy(\"count\", ascending=False)\n",
    "\n",
    "# Take top 10 factors\n",
    "top_10_factors = factor_counts.limit(10).toPandas()\n",
    "\n",
    "# Plot the graph\n",
    "plt.figure(figsize=(10, 6))\n",
    "plt.barh(top_10_factors[\"factors\"], top_10_factors[\"count\"], color='skyblue')\n",
    "plt.xlabel('Count')\n",
    "plt.ylabel('Contributing Factors')\n",
    "plt.title('Top 10 Contributing Factors')\n",
    "plt.gca().invert_yaxis()  # Invert y-axis to have the highest count at the top\n",
    "plt.show()\n",
    "\n"
   ]
  },
  {
   "cell_type": "code",
   "execution_count": 0,
   "metadata": {
    "application/vnd.databricks.v1+cell": {
     "cellMetadata": {},
     "inputWidgets": {},
     "nuid": "0ee21dee-2860-4a9d-928d-85f627a71a6d",
     "showTitle": false,
     "title": ""
    }
   },
   "outputs": [],
   "source": []
  }
 ],
 "metadata": {
  "application/vnd.databricks.v1+notebook": {
   "dashboards": [
    {
     "elements": [
      {
       "dashboardResultIndex": 0,
       "elementNUID": "31e008d0-6afb-416b-899a-6c9b6660af04",
       "elementType": "command",
       "guid": "0d40fc3f-4681-43df-9695-5b6f53144399",
       "options": null,
       "position": {
        "height": 7,
        "width": 14,
        "x": 0,
        "y": 0,
        "z": null
       },
       "resultIndex": null
      }
     ],
     "globalVars": {},
     "guid": "",
     "layoutOption": {
      "grid": true,
      "stack": true
     },
     "nuid": "9b8c7f00-9036-4444-b7ed-2bce8c1550bc",
     "origId": 2164718436714875,
     "title": "Untitled",
     "version": "DashboardViewV1",
     "width": 1024
    },
    {
     "elements": [
      {
       "dashboardResultIndex": 0,
       "elementNUID": "31e008d0-6afb-416b-899a-6c9b6660af04",
       "elementType": "command",
       "guid": "90b77c2e-ad08-4b66-9c68-15c51f6f7534",
       "options": null,
       "position": {
        "height": 6,
        "width": 12,
        "x": 12,
        "y": 0,
        "z": null
       },
       "resultIndex": null
      },
      {
       "dashboardResultIndex": 0,
       "elementNUID": "8614c484-f82a-4144-8cbe-3fcc6e3af7dc",
       "elementType": "command",
       "guid": "b6d2e862-1594-4f2f-95f6-c3f53288b54a",
       "options": null,
       "position": {
        "height": 6,
        "width": 12,
        "x": 0,
        "y": 0,
        "z": null
       },
       "resultIndex": null
      }
     ],
     "globalVars": {},
     "guid": "",
     "layoutOption": {
      "grid": true,
      "stack": true
     },
     "nuid": "49e75dea-4983-4675-8762-68760bd96afc",
     "origId": 2164718436714876,
     "title": "Untitled",
     "version": "DashboardViewV1",
     "width": 1024
    }
   ],
   "environmentMetadata": null,
   "language": "python",
   "notebookMetadata": {
    "pythonIndentUnit": 4
   },
   "notebookName": "latest (1)",
   "widgets": {}
  }
 },
 "nbformat": 4,
 "nbformat_minor": 0
}
