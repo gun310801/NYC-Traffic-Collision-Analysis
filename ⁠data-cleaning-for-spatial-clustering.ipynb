{
 "cells": [
  {
   "cell_type": "code",
   "execution_count": 0,
   "metadata": {
    "application/vnd.databricks.v1+cell": {
     "cellMetadata": {},
     "inputWidgets": {},
     "nuid": "641f40f5-d034-449f-a3b1-d0de1fb990cf",
     "showTitle": false,
     "title": ""
    }
   },
   "outputs": [],
   "source": [
    "#cleaning data for spatial clustering"
   ]
  },
  {
   "cell_type": "code",
   "execution_count": 0,
   "metadata": {
    "application/vnd.databricks.v1+cell": {
     "cellMetadata": {
      "byteLimit": 2048000,
      "rowLimit": 10000
     },
     "inputWidgets": {},
     "nuid": "3359dfb9-8175-41a3-8810-a7c278a90d36",
     "showTitle": false,
     "title": ""
    }
   },
   "outputs": [],
   "source": [
    "from pyspark.sql import SparkSession\n",
    "from pyspark.sql import functions as F\n",
    "spark = SparkSession.builder.getOrCreate()\n",
    "\n"
   ]
  },
  {
   "cell_type": "code",
   "execution_count": 0,
   "metadata": {
    "application/vnd.databricks.v1+cell": {
     "cellMetadata": {
      "byteLimit": 2048000,
      "rowLimit": 10000
     },
     "inputWidgets": {},
     "nuid": "0f3e9e6f-80d0-4e68-b957-eb7c878b1b9c",
     "showTitle": false,
     "title": ""
    }
   },
   "outputs": [],
   "source": [
    "df1 = spark.read.format(\"csv\").option(\"header\", \"true\").load(\"dbfs:/FileStore/tables/mv-collisions/Crashes.csv\")\n",
    "df2 = spark.read.format(\"csv\").option(\"header\", \"true\").load(\"dbfs:/FileStore/tables/mv-collisions/Vehicles.csv\")\n",
    "df3 = spark.read.format(\"csv\").option(\"header\", \"true\").load(\"dbfs:/FileStore/tables/mv-collisions/Persons.csv\")"
   ]
  },
  {
   "cell_type": "code",
   "execution_count": 0,
   "metadata": {
    "application/vnd.databricks.v1+cell": {
     "cellMetadata": {
      "byteLimit": 2048000,
      "rowLimit": 10000
     },
     "inputWidgets": {},
     "nuid": "d87d3d8f-a5fa-432b-aa76-e3537b4e5464",
     "showTitle": false,
     "title": ""
    }
   },
   "outputs": [],
   "source": [
    "df1.count()"
   ]
  },
  {
   "cell_type": "code",
   "execution_count": 0,
   "metadata": {
    "application/vnd.databricks.v1+cell": {
     "cellMetadata": {
      "byteLimit": 2048000,
      "rowLimit": 10000
     },
     "inputWidgets": {},
     "nuid": "0d68abdf-015c-4381-adb8-edd780077b69",
     "showTitle": false,
     "title": ""
    }
   },
   "outputs": [],
   "source": [
    "df2.count()"
   ]
  },
  {
   "cell_type": "code",
   "execution_count": 0,
   "metadata": {
    "application/vnd.databricks.v1+cell": {
     "cellMetadata": {
      "byteLimit": 2048000,
      "rowLimit": 10000
     },
     "inputWidgets": {},
     "nuid": "a718a527-56df-4079-9ba8-b675b8aad12e",
     "showTitle": false,
     "title": ""
    }
   },
   "outputs": [],
   "source": [
    "df1.printSchema()"
   ]
  },
  {
   "cell_type": "code",
   "execution_count": 0,
   "metadata": {
    "application/vnd.databricks.v1+cell": {
     "cellMetadata": {
      "byteLimit": 2048000,
      "rowLimit": 10000
     },
     "inputWidgets": {},
     "nuid": "79cb2b4a-a613-4c16-82a2-6b91195c113d",
     "showTitle": false,
     "title": ""
    }
   },
   "outputs": [],
   "source": [
    "df2.printSchema()"
   ]
  },
  {
   "cell_type": "code",
   "execution_count": 0,
   "metadata": {
    "application/vnd.databricks.v1+cell": {
     "cellMetadata": {
      "byteLimit": 2048000,
      "rowLimit": 10000
     },
     "inputWidgets": {},
     "nuid": "780f2e28-489d-4210-848e-3346e65b7b41",
     "showTitle": false,
     "title": ""
    }
   },
   "outputs": [],
   "source": [
    "df3.printSchema()"
   ]
  },
  {
   "cell_type": "code",
   "execution_count": 0,
   "metadata": {
    "application/vnd.databricks.v1+cell": {
     "cellMetadata": {
      "byteLimit": 2048000,
      "rowLimit": 10000
     },
     "inputWidgets": {},
     "nuid": "d1e2bc8f-bf62-4f98-879d-2e4103c34012",
     "showTitle": false,
     "title": ""
    }
   },
   "outputs": [],
   "source": [
    "df1.select(\"COLLISION_ID\",\"LOCATION\",\"ON STREET NAME\",\"OFF STREET NAME\",\"CROSS STREET NAME\" , \"BOROUGH\" ).groupby(\"LOCATION\",\"ON STREET NAME\",\"OFF STREET NAME\").count().show(100, truncate = False)"
   ]
  },
  {
   "cell_type": "code",
   "execution_count": 0,
   "metadata": {
    "application/vnd.databricks.v1+cell": {
     "cellMetadata": {
      "byteLimit": 2048000,
      "rowLimit": 10000
     },
     "inputWidgets": {},
     "nuid": "ee892c31-f4da-4459-b73c-060894e22413",
     "showTitle": false,
     "title": ""
    }
   },
   "outputs": [],
   "source": [
    "df1.where(F.col(\"LOCATION\").isNull() & F.col(\"LATITUDE\").isNull() & F.col(\"LONGITUDE\").isNull() & (F.col(\"ON STREET NAME\").isNotNull() | F.col(\"CROSS STREET NAME\").isNotNull() | F.col(\"OFF STREET NAME\").isNotNull())).count()\n",
    "# .groupby(\"ON STREET NAME\",\"OFF STREET NAME\").count().show(50)\n",
    "# .select(\"ON STREET NAME\",\"OFF STREET NAME\")"
   ]
  },
  {
   "cell_type": "code",
   "execution_count": 0,
   "metadata": {
    "application/vnd.databricks.v1+cell": {
     "cellMetadata": {
      "byteLimit": 2048000,
      "rowLimit": 10000
     },
     "inputWidgets": {},
     "nuid": "24085118-7086-4afb-959a-50e3dc50e0c5",
     "showTitle": false,
     "title": ""
    }
   },
   "outputs": [],
   "source": [
    "# df1.select(\"LOCATION\",\"ON STREET NAME\", \"CROSS STREET NAME\", \"OFF STREET NAME\").where((F.col(\"ON STREET NAME\")==\"20 AVENUE\") & (F.col(\"CROSS STREET NAME\") == \"WHITESTONE EXPRESSWAY\")).groupby(\"LOCATION\",\"ON STREET NAME\", \"CROSS STREET NAME\", \"OFF STREET NAME\").count().orderBy(\"count\", ascending = False).show(50, truncate  = False)\n",
    "\n",
    "df1.select(\"LOCATION\",\"ON STREET NAME\", \"CROSS STREET NAME\", \"OFF STREET NAME\").where((F.col(\"ON STREET NAME\")==\"20 AVENUE\")).groupby(\"LOCATION\",\"ON STREET NAME\", \"CROSS STREET NAME\", \"OFF STREET NAME\").count().orderBy(\"count\", ascending = False).show(50, truncate  = False)"
   ]
  },
  {
   "cell_type": "code",
   "execution_count": 0,
   "metadata": {
    "application/vnd.databricks.v1+cell": {
     "cellMetadata": {
      "byteLimit": 2048000,
      "rowLimit": 10000
     },
     "inputWidgets": {},
     "nuid": "82d1cd24-4aab-403e-a4d5-76fc7effae44",
     "showTitle": false,
     "title": ""
    }
   },
   "outputs": [],
   "source": [
    "df1.select(\"COLLISION_ID\",\"LOCATION\",\"ON STREET NAME\",\"OFF STREET NAME\",\"CROSS STREET NAME\" , \"BOROUGH\").where(F.col(\"LOCATION\").isNull() & (F.col(\"LATITUDE\").isNotNull() & F.col(\"LONGITUDE\").isNotNull())).show()"
   ]
  },
  {
   "cell_type": "code",
   "execution_count": 0,
   "metadata": {
    "application/vnd.databricks.v1+cell": {
     "cellMetadata": {
      "byteLimit": 2048000,
      "rowLimit": 10000
     },
     "inputWidgets": {},
     "nuid": "40f0fbc8-7933-4980-99bc-dbad740834aa",
     "showTitle": false,
     "title": ""
    }
   },
   "outputs": [],
   "source": [
    "df1.where(F.col(\"LOCATION\").isNull()).count()"
   ]
  },
  {
   "cell_type": "code",
   "execution_count": 0,
   "metadata": {
    "application/vnd.databricks.v1+cell": {
     "cellMetadata": {
      "byteLimit": 2048000,
      "rowLimit": 10000
     },
     "inputWidgets": {},
     "nuid": "8d8778b6-b304-4140-b6f3-5be183ddb87d",
     "showTitle": false,
     "title": ""
    }
   },
   "outputs": [],
   "source": [
    "df1.where(F.col(\"LATITUDE\").isNull() & F.col(\"LONGITUDE\").isNull()).count()"
   ]
  },
  {
   "cell_type": "code",
   "execution_count": 0,
   "metadata": {
    "application/vnd.databricks.v1+cell": {
     "cellMetadata": {
      "byteLimit": 2048000,
      "rowLimit": 10000
     },
     "inputWidgets": {},
     "nuid": "366109a2-dc1d-41b6-9368-ca86c543cdb4",
     "showTitle": false,
     "title": ""
    }
   },
   "outputs": [],
   "source": [
    "df1.select(\"COLLISION_ID\",\"LOCATION\",\"ON STREET NAME\",\"OFF STREET NAME\",\"CROSS STREET NAME\" , \"BOROUGH\").where(F.col(\"LOCATION\").isNull() & (F.col(\"ON STREET NAME\").isNotNull())).show()"
   ]
  },
  {
   "cell_type": "code",
   "execution_count": 0,
   "metadata": {
    "application/vnd.databricks.v1+cell": {
     "cellMetadata": {},
     "inputWidgets": {},
     "nuid": "d2125292-f700-489a-b27c-854c80d8ced1",
     "showTitle": false,
     "title": ""
    }
   },
   "outputs": [],
   "source": [
    "df1.select(\"LOCATION\", \"ON STREET NAME\").where(F.col(\"LOCATION\").isNull() & F.col(\"ON STREET NAME\").isNotNull()).w"
   ]
  },
  {
   "cell_type": "code",
   "execution_count": 0,
   "metadata": {
    "application/vnd.databricks.v1+cell": {
     "cellMetadata": {
      "byteLimit": 2048000,
      "rowLimit": 10000
     },
     "inputWidgets": {},
     "nuid": "bb4f572b-f066-4921-ba7a-f7736f0289cd",
     "showTitle": false,
     "title": ""
    }
   },
   "outputs": [],
   "source": [
    "from pyspark.sql import Window\n",
    "from pyspark.sql import functions as F\n",
    "\n",
    "\n",
    "w = Window.partitionBy('ON STREET NAME', 'CROSS STREET NAME')\n",
    "\n",
    "grouped = df1.filter(F.col(\"LOCATION\").isNotNull()) \\\n",
    "    .withColumn('count', F.count(\"*\").over(w)) \\\n",
    "    .withColumn('rn', F.row_number().over(w.orderBy(F.desc(\"count\")))) \\\n",
    "    .where(\"rn = 1\") \\\n",
    "    .select('LOCATION', 'ON STREET NAME', 'CROSS STREET NAME')\n",
    "\n",
    "df1.alias(\"loc\").join(grouped.alias(\"mode\"), ['ON STREET NAME', 'CROSS STREET NAME'], \"left\") \\\n",
    "    .select(\"ON STREET NAME\", \"CROSS STREET NAME\", F.coalesce(\"loc.LOCATION\", \"mode.LOCATION\").alias(\"LOCATION_IMPUTED\")) \\\n",
    "    .show()\n"
   ]
  },
  {
   "cell_type": "code",
   "execution_count": 0,
   "metadata": {
    "application/vnd.databricks.v1+cell": {
     "cellMetadata": {
      "byteLimit": 2048000,
      "rowLimit": 10000
     },
     "inputWidgets": {},
     "nuid": "8c97a24e-a95d-4800-9262-0bab9e6ba80b",
     "showTitle": false,
     "title": ""
    }
   },
   "outputs": [],
   "source": [
    "df_imputed_loc = df1.alias(\"loc\").join(grouped.alias(\"mode\"), ['ON STREET NAME', 'CROSS STREET NAME'], \"left\") \\\n",
    "    .select(\"ON STREET NAME\", \"CROSS STREET NAME\", F.coalesce(\"loc.LOCATION\", \"mode.LOCATION\").alias(\"LOCATION_IMPUTED\")) \n"
   ]
  },
  {
   "cell_type": "code",
   "execution_count": 0,
   "metadata": {
    "application/vnd.databricks.v1+cell": {
     "cellMetadata": {
      "byteLimit": 2048000,
      "rowLimit": 10000
     },
     "inputWidgets": {},
     "nuid": "fa5a061e-5c5e-436a-becd-e85e5e95c64a",
     "showTitle": false,
     "title": ""
    }
   },
   "outputs": [],
   "source": [
    "df_imputed_loc.where(F.col(\"LOCATION_IMPUTED\").isNull() & F.col(\"OFF STREET NAME\").isNotNull()).count()"
   ]
  },
  {
   "cell_type": "code",
   "execution_count": 0,
   "metadata": {
    "application/vnd.databricks.v1+cell": {
     "cellMetadata": {
      "byteLimit": 2048000,
      "rowLimit": 10000
     },
     "inputWidgets": {},
     "nuid": "c43cdaf1-5448-4c1a-8abb-3cc31fabc9f2",
     "showTitle": false,
     "title": ""
    }
   },
   "outputs": [],
   "source": [
    "df1.where(F.col(\"LOCATION\").isNull()).count()"
   ]
  },
  {
   "cell_type": "code",
   "execution_count": 0,
   "metadata": {
    "application/vnd.databricks.v1+cell": {
     "cellMetadata": {
      "byteLimit": 2048000,
      "rowLimit": 10000
     },
     "inputWidgets": {},
     "nuid": "7fd3f94e-3c5e-4c9c-8604-c87467bc5957",
     "showTitle": false,
     "title": ""
    }
   },
   "outputs": [],
   "source": [
    "df1.where(F.col(\"LOCATION\").isNull()).count()"
   ]
  },
  {
   "cell_type": "code",
   "execution_count": 0,
   "metadata": {
    "application/vnd.databricks.v1+cell": {
     "cellMetadata": {
      "byteLimit": 2048000,
      "rowLimit": 10000
     },
     "inputWidgets": {},
     "nuid": "4887f0ab-8fe0-4f58-a0f2-5b02502e85a1",
     "showTitle": false,
     "title": ""
    }
   },
   "outputs": [],
   "source": [
    "df1.where(F.col(\"LOCATION\").isNull() &(F.col(\"ON STREET NAME\").isNull() & F.col(\"OFF STREET NAME\").isNull() &F.col(\"CROSS STREET NAME\").isNull())).count()"
   ]
  },
  {
   "cell_type": "code",
   "execution_count": 0,
   "metadata": {
    "application/vnd.databricks.v1+cell": {
     "cellMetadata": {
      "byteLimit": 2048000,
      "rowLimit": 10000
     },
     "inputWidgets": {},
     "nuid": "720b2512-8a80-47e9-b44f-0c620a444f9d",
     "showTitle": false,
     "title": ""
    }
   },
   "outputs": [],
   "source": [
    "data = df1.filter(F.col(\"LOCATION\").isNotNull() |(F.col(\"ON STREET NAME\").isNotNull() | F.col(\"OFF STREET NAME\").isNotNull() |F.col(\"CROSS STREET NAME\").isNotNull()))"
   ]
  },
  {
   "cell_type": "code",
   "execution_count": 0,
   "metadata": {
    "application/vnd.databricks.v1+cell": {
     "cellMetadata": {
      "byteLimit": 2048000,
      "rowLimit": 10000
     },
     "inputWidgets": {},
     "nuid": "eb3fa05c-63f7-4c71-9dc6-94418b0ccf44",
     "showTitle": false,
     "title": ""
    }
   },
   "outputs": [],
   "source": [
    "data.count()"
   ]
  },
  {
   "cell_type": "code",
   "execution_count": 0,
   "metadata": {
    "application/vnd.databricks.v1+cell": {
     "cellMetadata": {
      "byteLimit": 2048000,
      "rowLimit": 10000
     },
     "inputWidgets": {},
     "nuid": "cebc8a6b-8623-4eb3-bfb8-86cb6cb77f51",
     "showTitle": false,
     "title": ""
    }
   },
   "outputs": [],
   "source": [
    "data.where(F.col(\"LOCATION\").isNull()).count()"
   ]
  },
  {
   "cell_type": "code",
   "execution_count": 0,
   "metadata": {
    "application/vnd.databricks.v1+cell": {
     "cellMetadata": {
      "byteLimit": 2048000,
      "rowLimit": 10000
     },
     "inputWidgets": {},
     "nuid": "ace34636-9db1-4a7a-b215-ea58f9913bb8",
     "showTitle": false,
     "title": ""
    }
   },
   "outputs": [],
   "source": [
    "data.where(F.col(\"LOCATION\").isNull() & F.col(\"ON STREET NAME\").isNotNull()).count()"
   ]
  },
  {
   "cell_type": "code",
   "execution_count": 0,
   "metadata": {
    "application/vnd.databricks.v1+cell": {
     "cellMetadata": {
      "byteLimit": 2048000,
      "rowLimit": 10000
     },
     "inputWidgets": {},
     "nuid": "eccd3580-222e-48fe-9d45-fad54e511d53",
     "showTitle": false,
     "title": ""
    }
   },
   "outputs": [],
   "source": [
    "data.where(F.col(\"LOCATION\").isNull() & (F.col(\"ON STREET NAME\").isNotNull())& (F.col(\"CROSS STREET NAME\").isNotNull())).count()"
   ]
  },
  {
   "cell_type": "code",
   "execution_count": 0,
   "metadata": {
    "application/vnd.databricks.v1+cell": {
     "cellMetadata": {
      "byteLimit": 2048000,
      "rowLimit": 10000
     },
     "inputWidgets": {},
     "nuid": "1f82eea3-dd0f-4268-a1ad-cbbc14f9fc5c",
     "showTitle": false,
     "title": ""
    }
   },
   "outputs": [],
   "source": [
    "data.where(F.col(\"LOCATION\").isNull() & (F.col(\"ON STREET NAME\").isNotNull())).count()"
   ]
  },
  {
   "cell_type": "code",
   "execution_count": 0,
   "metadata": {
    "application/vnd.databricks.v1+cell": {
     "cellMetadata": {
      "byteLimit": 2048000,
      "rowLimit": 10000
     },
     "inputWidgets": {},
     "nuid": "f8869bff-f947-434b-a203-da65c0afe4c9",
     "showTitle": false,
     "title": ""
    }
   },
   "outputs": [],
   "source": [
    "data.where(F.col(\"LOCATION\").isNull() & (F.col(\"CROSS STREET NAME\").isNotNull())).count()"
   ]
  },
  {
   "cell_type": "code",
   "execution_count": 0,
   "metadata": {
    "application/vnd.databricks.v1+cell": {
     "cellMetadata": {
      "byteLimit": 2048000,
      "rowLimit": 10000
     },
     "inputWidgets": {},
     "nuid": "8b33aab2-a1bd-4f47-b902-d8040126662d",
     "showTitle": false,
     "title": ""
    }
   },
   "outputs": [],
   "source": [
    "data.where(F.col(\"LOCATION\").isNull() & (F.col(\"OFF STREET NAME\").isNotNull())).count()"
   ]
  },
  {
   "cell_type": "code",
   "execution_count": 0,
   "metadata": {
    "application/vnd.databricks.v1+cell": {
     "cellMetadata": {
      "byteLimit": 2048000,
      "rowLimit": 10000
     },
     "inputWidgets": {},
     "nuid": "7049cd78-2953-4c60-910d-5d2223011410",
     "showTitle": false,
     "title": ""
    }
   },
   "outputs": [],
   "source": [
    "coll = df1"
   ]
  },
  {
   "cell_type": "code",
   "execution_count": 0,
   "metadata": {
    "application/vnd.databricks.v1+cell": {
     "cellMetadata": {
      "byteLimit": 2048000,
      "rowLimit": 10000
     },
     "inputWidgets": {},
     "nuid": "2b5da5a7-b455-44bb-8705-9e3838e4b2c2",
     "showTitle": false,
     "title": ""
    }
   },
   "outputs": [],
   "source": [
    "def normalize_case(street_name):\n",
    "    if street_name:\n",
    "        return street_name.lower()# Normalize to sentence case\n",
    "    else:\n",
    "        return None\n",
    "\n",
    "# UDF to apply the normalization function\n",
    "normalize_case_udf = F.udf(normalize_case)\n",
    "\n",
    "# Normalize casing of street names in DataFrame\n",
    "df_1 = df1.withColumn(\"ON STREET NAME\", normalize_case_udf(\"ON STREET NAME\"))\n",
    "df_1 = df1.withColumn(\"OFF STREET NAME\", normalize_case_udf(\"OFF STREET NAME\"))\n",
    "df_1 = df_1.withColumn(\"CROSS STREET NAME\", normalize_case_udf(\"CROSS STREET NAME\"))\n",
    "\n",
    "# Filter out rows where either LOCATION or any of the street names are not null\n",
    "data = df_1.select(\"COLLISION_ID\", \"LOCATION\", \"ON STREET NAME\", \"OFF STREET NAME\", \"CROSS STREET NAME\", \"ZIP CODE\", \"BOROUGH\").where(F.col(\"LOCATION\").isNotNull() | \n",
    "                  (F.col(\"ON STREET NAME\").isNotNull() | F.col(\"CROSS STREET NAME\").isNotNull()))\n",
    "from pyspark.sql.functions import when, col, mode, lit\n",
    "from pyspark.sql.window import Window\n",
    "data1 = data.withColumn(\"LOCATION\", \n",
    "                        when(col(\"LOCATION\").isNull(), \n",
    "                             when(col(\"ON STREET NAME\").isNotNull() & col(\"CROSS STREET NAME\").isNotNull(), \n",
    "                                  mode(\"LOCATION\").over(Window.partitionBy(\"ON STREET NAME\", \"CROSS STREET NAME\")))\n",
    "                        ).otherwise(col(\"LOCATION\")))\n",
    "\n",
    "data2 = data1.withColumn(\"LOCATION\", \n",
    "                        when(col(\"LOCATION\").isNull(), \n",
    "                             when(col(\"ON STREET NAME\").isNotNull() & col(\"CROSS STREET NAME\").isNull(), \n",
    "                                  mode(\"LOCATION\").over(Window.partitionBy(\"ON STREET NAME\")))\n",
    "                        ).otherwise(col(\"LOCATION\")))       \n",
    "data2.where(col('LOCATION').isNull()).count() \n",
    "data3 = data2.withColumn(\"LOCATION\", \n",
    "                        when(col(\"LOCATION\").isNull(), \n",
    "                             when(col(\"ON STREET NAME\").isNull() & col(\"CROSS STREET NAME\").isNotNull(), \n",
    "                                  mode(\"LOCATION\").over(Window.partitionBy(\"CROSS STREET NAME\")))\n",
    "                             \n",
    "                        ).otherwise(col(\"LOCATION\")))\n",
    "# data4 = data3.withColumn(\"LOCATION\", \n",
    "#                         when(col(\"LOCATION\").isNull(), \n",
    "#                              when(col(\"ON STREET NAME\").isNull() & col(\"CROSS STREET NAME\").isNotNull() & col(\"OFF STREET NAME\").isNull(), \n",
    "#                                   mode(\"LOCATION\").over(Window.partitionBy(\"CROSS STREET NAME\")))\n",
    "                             \n",
    "#                         ).otherwise(col(\"LOCATION\")))\n",
    "data3.where(col('LOCATION').isNull()).count()"
   ]
  },
  {
   "cell_type": "code",
   "execution_count": 0,
   "metadata": {
    "application/vnd.databricks.v1+cell": {
     "cellMetadata": {
      "byteLimit": 2048000,
      "rowLimit": 10000
     },
     "inputWidgets": {},
     "nuid": "6b19db6b-bfda-4731-84d0-035ed76378e8",
     "showTitle": false,
     "title": ""
    }
   },
   "outputs": [],
   "source": [
    "data3.select(\"ON STREET NAME\", \"CROSS STREET NAME\").where(F.col(\"LOCATION\").isNull()).groupby(\"ON STREET NAME\", \"CROSS STREET NAME\").count().orderBy(\"count\", ascending = False).show(50, truncate = False)"
   ]
  },
  {
   "cell_type": "code",
   "execution_count": 0,
   "metadata": {
    "application/vnd.databricks.v1+cell": {
     "cellMetadata": {
      "byteLimit": 2048000,
      "rowLimit": 10000
     },
     "inputWidgets": {},
     "nuid": "b2615e58-f202-427a-a227-f4e53acb9e93",
     "showTitle": false,
     "title": ""
    }
   },
   "outputs": [],
   "source": [
    "df1.select(\"ON STREET NAME\" ,\"CROSS STREET NAME\",\"LOCATION\").where((F.col(\"LOCATION\").isNotNull())& (F.col(\"ON STREET NAME\") == \"UTICA AVENUE\") & (F.col(\"CROSS STREET NAME\") == \"EAST NEW YORK AVENUE\")).show()"
   ]
  },
  {
   "cell_type": "code",
   "execution_count": 0,
   "metadata": {
    "application/vnd.databricks.v1+cell": {
     "cellMetadata": {
      "byteLimit": 2048000,
      "rowLimit": 10000
     },
     "inputWidgets": {},
     "nuid": "92a3be37-2772-49c6-ae05-a193b4be3be2",
     "showTitle": false,
     "title": ""
    }
   },
   "outputs": [],
   "source": [
    "coll = df1"
   ]
  },
  {
   "cell_type": "code",
   "execution_count": 0,
   "metadata": {
    "application/vnd.databricks.v1+cell": {
     "cellMetadata": {
      "byteLimit": 2048000,
      "rowLimit": 10000
     },
     "inputWidgets": {},
     "nuid": "c89bb044-209b-4c60-85fa-9eeeba799e3b",
     "showTitle": false,
     "title": ""
    }
   },
   "outputs": [],
   "source": [
    "coll = coll.dropna(how=\"all\", subset=[\"LOCATION\", \"ON STREET NAME\", \"CROSS STREET NAME\"])\n",
    "\n",
    "# Show the DataFrame after dropping rows\n",
    "coll.count()"
   ]
  },
  {
   "cell_type": "code",
   "execution_count": 0,
   "metadata": {
    "application/vnd.databricks.v1+cell": {
     "cellMetadata": {
      "byteLimit": 2048000,
      "rowLimit": 10000
     },
     "inputWidgets": {},
     "nuid": "c47257e1-12d4-4bbc-a91e-927e7c0225ba",
     "showTitle": false,
     "title": ""
    }
   },
   "outputs": [],
   "source": [
    "coll1 = coll.withColumn(\"LOCATION\", \n",
    "                        when(col(\"LOCATION\").isNull(), \n",
    "                             when(col(\"ON STREET NAME\").isNotNull() & col(\"CROSS STREET NAME\").isNotNull(), \n",
    "                                  mode(\"LOCATION\").over(Window.partitionBy(\"ON STREET NAME\", \"CROSS STREET NAME\")))\n",
    "                             .when(col(\"ON STREET NAME\").isNotNull() & col(\"CROSS STREET NAME\").isNull(), \n",
    "                                  mode(\"LOCATION\").over(Window.partitionBy(\"ON STREET NAME\")))\n",
    "                             .when(col(\"ON STREET NAME\").isNull() & col(\"CROSS STREET NAME\").isNotNull(), \n",
    "                                  mode(\"LOCATION\").over(Window.partitionBy(\"CROSS STREET NAME\")))\n",
    "                             .when(col(\"ON STREET NAME\").isNotNull(), \n",
    "                                  mode(\"LOCATION\").over(Window.partitionBy(\"ON STREET NAME\")))\n",
    "                             .when(col(\"CROSS STREET NAME\").isNotNull(), \n",
    "                                  mode(\"LOCATION\").over(Window.partitionBy(\"CROSS STREET NAME\")))\n",
    "                        ).otherwise(col(\"LOCATION\")))"
   ]
  },
  {
   "cell_type": "code",
   "execution_count": 0,
   "metadata": {
    "application/vnd.databricks.v1+cell": {
     "cellMetadata": {
      "byteLimit": 2048000,
      "rowLimit": 10000
     },
     "inputWidgets": {},
     "nuid": "dc36e58e-8a69-414b-9f33-0989b0d2de09",
     "showTitle": false,
     "title": ""
    }
   },
   "outputs": [],
   "source": [
    "coll1.where(col('LOCATION').isNull()).count()"
   ]
  },
  {
   "cell_type": "code",
   "execution_count": 0,
   "metadata": {
    "application/vnd.databricks.v1+cell": {
     "cellMetadata": {
      "byteLimit": 2048000,
      "rowLimit": 10000
     },
     "inputWidgets": {},
     "nuid": "71623767-f106-4ff0-b0f9-7c853a77ebe1",
     "showTitle": false,
     "title": ""
    }
   },
   "outputs": [],
   "source": [
    "coll2 = coll1.select(\"ON STREET NAME\", \"CROSS STREET NAME\").where(F.col(\"LOCATION\").isNull()).groupby(\"ON STREET NAME\", \"CROSS STREET NAME\").count().orderBy(\"count\", ascending = False)"
   ]
  },
  {
   "cell_type": "code",
   "execution_count": 0,
   "metadata": {
    "application/vnd.databricks.v1+cell": {
     "cellMetadata": {
      "byteLimit": 2048000,
      "rowLimit": 10000
     },
     "inputWidgets": {},
     "nuid": "d3f2ca59-d769-49d8-96ee-8b489040ef95",
     "showTitle": false,
     "title": ""
    }
   },
   "outputs": [],
   "source": [
    "coll2.count()"
   ]
  },
  {
   "cell_type": "code",
   "execution_count": 0,
   "metadata": {
    "application/vnd.databricks.v1+cell": {
     "cellMetadata": {
      "byteLimit": 2048000,
      "rowLimit": 10000
     },
     "inputWidgets": {},
     "nuid": "49ac90d6-0868-4eea-b3ee-1f65adcf1c8f",
     "showTitle": false,
     "title": ""
    }
   },
   "outputs": [],
   "source": [
    "from pyspark.sql import functions as F\n",
    "from pyspark.sql.window import Window\n",
    "df1 = spark.read.format(\"csv\").option(\"header\", \"true\").load(\"dbfs:/FileStore/tables/mv-collisions/Crashes.csv\")\n",
    "coll = df1\n",
    "\n",
    "def normalize_case(street_name):\n",
    "    if street_name:\n",
    "        return street_name.lower()# Normalize to sentence case\n",
    "    else:\n",
    "        return None\n",
    "\n",
    "# UDF to apply the normalization function\n",
    "normalize_case_udf = F.udf(normalize_case)\n",
    "\n",
    "# Normalize casing of street names in DataFrame\n",
    "coll = coll.withColumn(\"ON STREET NAME\", normalize_case_udf(\"ON STREET NAME\"))\n",
    "coll = coll.withColumn(\"CROSS STREET NAME\", normalize_case_udf(\"CROSS STREET NAME\"))\n",
    "\n",
    "\n",
    "# Define a window partitioned by 'ON STREET NAME' and 'CROSS STREET NAME'\n",
    "window = Window.partitionBy('ON STREET NAME', 'CROSS STREET NAME')\n",
    "\n",
    "# Define a window partitioned by 'ON STREET NAME'\n",
    "window_on_street = Window.partitionBy('ON STREET NAME')\n",
    "\n",
    "# Define a window partitioned by 'CROSS STREET NAME'\n",
    "window_cross_street = Window.partitionBy('CROSS STREET NAME')\n",
    "\n",
    "# Create a new column 'LOCATION_TEMP' which takes the mode of 'LOCATION' over the defined window\n",
    "coll = coll.withColumn('LOCATION_TEMP', F.mode(\"LOCATION\").over(window))\n",
    "\n",
    "# If 'LOCATION_TEMP' is still null, then take the mode of 'LOCATION' over the 'ON STREET NAME' window\n",
    "coll = coll.withColumn('LOCATION_TEMP', F.when(F.col('LOCATION_TEMP').isNull(), F.mode(\"LOCATION\").over(window_on_street)).otherwise(F.col('LOCATION_TEMP')))\n",
    "\n",
    "# If 'LOCATION_TEMP' is still null, then take the mode of 'LOCATION' over the 'CROSS STREET NAME' window\n",
    "coll = coll.withColumn('LOCATION_TEMP', F.when(F.col('LOCATION_TEMP').isNull(), F.mode(\"LOCATION\").over(window_cross_street)).otherwise(F.col('LOCATION_TEMP')))\n",
    "\n",
    "# Replace null values in 'LOCATION' with the values from 'LOCATION_TEMP'\n",
    "coll = coll.withColumn('LOCATION', F.when(F.col('LOCATION').isNull(), F.col('LOCATION_TEMP')).otherwise(F.col('LOCATION')))\n",
    "\n",
    "# Drop the temporary column 'LOCATION_TEMP'\n",
    "coll = coll.drop('LOCATION_TEMP')\n",
    "coll = coll.dropna(how=\"all\", subset=[\"LOCATION\"])\n",
    "coll.count()"
   ]
  },
  {
   "cell_type": "code",
   "execution_count": 0,
   "metadata": {
    "application/vnd.databricks.v1+cell": {
     "cellMetadata": {
      "byteLimit": 2048000,
      "rowLimit": 10000
     },
     "inputWidgets": {},
     "nuid": "58c7fa42-739f-4317-8dbd-de978283756b",
     "showTitle": false,
     "title": ""
    }
   },
   "outputs": [],
   "source": [
    "coll.where(col('LOCATION').isNull()).count()"
   ]
  },
  {
   "cell_type": "code",
   "execution_count": 0,
   "metadata": {
    "application/vnd.databricks.v1+cell": {
     "cellMetadata": {
      "byteLimit": 2048000,
      "rowLimit": 10000
     },
     "inputWidgets": {},
     "nuid": "303f0950-6cb3-475f-b9d8-80b4f988a5c6",
     "showTitle": false,
     "title": ""
    }
   },
   "outputs": [],
   "source": [
    "coll2 = coll.select(\"ON STREET NAME\", \"CROSS STREET NAME\").where(F.col(\"LOCATION\").isNull()).groupby(\"ON STREET NAME\", \"CROSS STREET NAME\").count().orderBy(\"count\", ascending = False)"
   ]
  },
  {
   "cell_type": "code",
   "execution_count": 0,
   "metadata": {
    "application/vnd.databricks.v1+cell": {
     "cellMetadata": {
      "byteLimit": 2048000,
      "rowLimit": 10000
     },
     "inputWidgets": {},
     "nuid": "c14fc6c5-2f57-4643-8915-f36dac210b0d",
     "showTitle": false,
     "title": ""
    }
   },
   "outputs": [],
   "source": [
    "coll2.count()"
   ]
  },
  {
   "cell_type": "code",
   "execution_count": 0,
   "metadata": {
    "application/vnd.databricks.v1+cell": {
     "cellMetadata": {
      "byteLimit": 2048000,
      "rowLimit": 10000
     },
     "inputWidgets": {},
     "nuid": "853ad51f-0713-4f65-bbc5-1d681ac21c42",
     "showTitle": false,
     "title": ""
    }
   },
   "outputs": [],
   "source": [
    "coll2.show(10, truncate=False)"
   ]
  },
  {
   "cell_type": "code",
   "execution_count": 0,
   "metadata": {
    "application/vnd.databricks.v1+cell": {
     "cellMetadata": {
      "byteLimit": 2048000,
      "rowLimit": 10000
     },
     "inputWidgets": {},
     "nuid": "505de288-3cdb-49e8-adb6-707ec7d736f9",
     "showTitle": false,
     "title": ""
    }
   },
   "outputs": [],
   "source": [
    "df1.select(\"ON STREET NAME\" ,\"CROSS STREET NAME\",\"LOCATION\").where((F.col(\"LOCATION\").isNotNull())& (F.col(\"ON STREET NAME\") == \"BELT PARKWAY\") & (F.col(\"CROSS STREET NAME\") == \"150 STREET\")).show()"
   ]
  },
  {
   "cell_type": "code",
   "execution_count": 0,
   "metadata": {
    "application/vnd.databricks.v1+cell": {
     "cellMetadata": {
      "byteLimit": 2048000,
      "rowLimit": 10000
     },
     "inputWidgets": {},
     "nuid": "1d332f8f-9abe-41b5-8791-cfcc178cf430",
     "showTitle": false,
     "title": ""
    }
   },
   "outputs": [],
   "source": [
    "from pyspark.sql import functions as F\n",
    "from pyspark.sql.window import Window\n",
    "data = spark.read.format(\"csv\").option(\"header\", \"true\").load(\"dbfs:/FileStore/tables/mv-collisions/Crashes.csv\")\n",
    "collisions = data\n",
    "\n",
    "def normalize_case(street_name):\n",
    "    if street_name:\n",
    "        return street_name.lower()# Normalize to sentence case\n",
    "    else:\n",
    "        return None\n",
    "\n",
    "# UDF to apply the normalization function\n",
    "normalize_case_udf = F.udf(normalize_case)\n",
    "\n",
    "# Normalize casing of street names in DataFrame\n",
    "collisions = collisions.withColumn(\"ON STREET NAME\", normalize_case_udf(\"ON STREET NAME\"))\n",
    "collisions = collisions.withColumn(\"CROSS STREET NAME\", normalize_case_udf(\"CROSS STREET NAME\"))\n",
    "\n",
    "\n",
    "# Define a window partitioned by 'ON STREET NAME' and 'CROSS STREET NAME'\n",
    "window = Window.partitionBy('ON STREET NAME', 'CROSS STREET NAME')\n",
    "\n",
    "# Define a window partitioned by 'ON STREET NAME'\n",
    "window_on_street = Window.partitionBy('ON STREET NAME')\n",
    "\n",
    "# Define a window partitioned by 'CROSS STREET NAME'\n",
    "window_cross_street = Window.partitionBy('CROSS STREET NAME')\n",
    "\n",
    "# Create a new column 'LOCATION_TEMP' which takes the mode of 'LOCATION' over the defined window\n",
    "collisions = collisions.withColumn('LOCATION_TEMP', F.mode(\"LOCATION\").over(window))\n",
    "\n",
    "# If 'LOCATION_TEMP' is still null, then take the mode of 'LOCATION' over the 'ON STREET NAME' window\n",
    "collisions = collisions.withColumn('LOCATION_TEMP', F.when(F.col('LOCATION_TEMP').isNull(), F.mode(\"LOCATION\").over(window_on_street)).otherwise(F.col('LOCATION_TEMP')))\n",
    "\n",
    "# If 'LOCATION_TEMP' is still null, then take the mode of 'LOCATION' over the 'CROSS STREET NAME' window\n",
    "collisions = collisions.withColumn('LOCATION_TEMP', F.when(F.col('LOCATION_TEMP').isNull(), F.mode(\"LOCATION\").over(window_cross_street)).otherwise(F.col('LOCATION_TEMP')))\n",
    "\n",
    "# Replace null values in 'LOCATION' with the values from 'LOCATION_TEMP'\n",
    "collisions = collisions.withColumn('LOCATION', F.when(F.col('LOCATION').isNull(), F.col('LOCATION_TEMP')).otherwise(F.col('LOCATION')))\n",
    "\n",
    "# Drop the temporary column 'LOCATION_TEMP'\n",
    "collisions = collisions.drop('LOCATION_TEMP')\n"
   ]
  },
  {
   "cell_type": "code",
   "execution_count": 0,
   "metadata": {
    "application/vnd.databricks.v1+cell": {
     "cellMetadata": {
      "byteLimit": 2048000,
      "rowLimit": 10000
     },
     "inputWidgets": {},
     "nuid": "bb9d8e61-5ea2-4151-9956-61471a13406e",
     "showTitle": false,
     "title": ""
    }
   },
   "outputs": [],
   "source": [
    "collisions.count()"
   ]
  },
  {
   "cell_type": "code",
   "execution_count": 0,
   "metadata": {
    "application/vnd.databricks.v1+cell": {
     "cellMetadata": {
      "byteLimit": 2048000,
      "rowLimit": 10000
     },
     "inputWidgets": {},
     "nuid": "46b8845d-69ba-4451-8c27-0b0bb132c785",
     "showTitle": false,
     "title": ""
    }
   },
   "outputs": [],
   "source": [
    "collisions = collisions.dropna(how=\"all\", subset=[\"LOCATION\"])\n",
    "collisions.count()"
   ]
  },
  {
   "cell_type": "code",
   "execution_count": 0,
   "metadata": {
    "application/vnd.databricks.v1+cell": {
     "cellMetadata": {
      "byteLimit": 2048000,
      "rowLimit": 10000
     },
     "inputWidgets": {},
     "nuid": "885524e5-ecb4-42c7-ae8b-7ff45037491c",
     "showTitle": false,
     "title": ""
    }
   },
   "outputs": [],
   "source": [
    "data.count()"
   ]
  },
  {
   "cell_type": "code",
   "execution_count": 0,
   "metadata": {
    "application/vnd.databricks.v1+cell": {
     "cellMetadata": {
      "byteLimit": 2048000,
      "rowLimit": 10000
     },
     "inputWidgets": {},
     "nuid": "9a37d0c0-50ff-45db-865d-f6d38d7ef6fb",
     "showTitle": false,
     "title": ""
    }
   },
   "outputs": [],
   "source": [
    "collisions.where(F.col(\"LOCATION\").isNull()).count()"
   ]
  },
  {
   "cell_type": "code",
   "execution_count": 0,
   "metadata": {
    "application/vnd.databricks.v1+cell": {
     "cellMetadata": {
      "byteLimit": 2048000,
      "rowLimit": 10000
     },
     "inputWidgets": {},
     "nuid": "f633a785-a3d9-4746-9f09-be553835214e",
     "showTitle": false,
     "title": ""
    }
   },
   "outputs": [],
   "source": [
    "collisions.printSchema()"
   ]
  },
  {
   "cell_type": "code",
   "execution_count": 0,
   "metadata": {
    "application/vnd.databricks.v1+cell": {
     "cellMetadata": {
      "byteLimit": 2048000,
      "rowLimit": 10000
     },
     "inputWidgets": {},
     "nuid": "70fbb416-0cfd-4fc7-b556-3f6f66e0086b",
     "showTitle": false,
     "title": ""
    }
   },
   "outputs": [],
   "source": [
    "\n",
    "csv_path = \"dbfs:/FileStore/tables/mv-collisions/collisions_clean.csv\"\n",
    "collisions.write.format(\"csv\").option(\"header\", \"true\").save(csv_path)\n"
   ]
  },
  {
   "cell_type": "code",
   "execution_count": 0,
   "metadata": {
    "application/vnd.databricks.v1+cell": {
     "cellMetadata": {
      "byteLimit": 2048000,
      "rowLimit": 10000
     },
     "inputWidgets": {},
     "nuid": "be4b419f-60fd-4ffb-bf2b-6775360b3727",
     "showTitle": false,
     "title": ""
    }
   },
   "outputs": [],
   "source": [
    "data = spark.read.format(\"csv\").option(\"header\", \"true\").load(\"dbfs:/FileStore/tables/mv-collisions/collisions_clean.csv\")"
   ]
  },
  {
   "cell_type": "code",
   "execution_count": 0,
   "metadata": {
    "application/vnd.databricks.v1+cell": {
     "cellMetadata": {
      "byteLimit": 2048000,
      "rowLimit": 10000
     },
     "inputWidgets": {},
     "nuid": "fb6f762b-1d80-4012-94ff-90d9782e259b",
     "showTitle": false,
     "title": ""
    }
   },
   "outputs": [],
   "source": [
    "data.show(10)"
   ]
  },
  {
   "cell_type": "code",
   "execution_count": 0,
   "metadata": {
    "application/vnd.databricks.v1+cell": {
     "cellMetadata": {
      "byteLimit": 2048000,
      "rowLimit": 10000
     },
     "inputWidgets": {},
     "nuid": "6a394ea3-70b5-4bd6-bc5b-46d2a352431b",
     "showTitle": false,
     "title": ""
    }
   },
   "outputs": [],
   "source": [
    "collisions.select(\"LOCATION\").where(F.col(\"LOCATION\")== \"0\").show(truncate = False)"
   ]
  }
 ],
 "metadata": {
  "application/vnd.databricks.v1+notebook": {
   "dashboards": [],
   "environmentMetadata": null,
   "language": "python",
   "notebookMetadata": {
    "mostRecentlyExecutedCommandWithImplicitDF": {
     "commandId": -1,
     "dataframes": [
      "_sqldf"
     ]
    },
    "pythonIndentUnit": 4
   },
   "notebookName": "latest (3)",
   "widgets": {}
  }
 },
 "nbformat": 4,
 "nbformat_minor": 0
}
